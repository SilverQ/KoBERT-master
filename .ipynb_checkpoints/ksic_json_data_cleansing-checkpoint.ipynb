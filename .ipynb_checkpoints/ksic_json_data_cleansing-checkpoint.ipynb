{
 "cells": [
  {
   "cell_type": "code",
   "execution_count": 14,
   "id": "21812bcc",
   "metadata": {},
   "outputs": [],
   "source": [
    "import pandas as pd\n",
    "import json\n",
    "import tqdm"
   ]
  },
  {
   "cell_type": "code",
   "execution_count": 62,
   "id": "85f24373",
   "metadata": {},
   "outputs": [],
   "source": [
    "column_type = {\"ksic\": str,\"an\": str,\"ad\": str,\"pn\": str,\"pd\": str,\"rn\": str,\"rd\": str,\n",
    "          \"ipc\": str,\"cpc\": str,\"title\":str, \"ab\": str, \"cl\": str, \"apg\": str,\"invt\": str}\n",
    "batch_size = 8"
   ]
  },
  {
   "cell_type": "code",
   "execution_count": 31,
   "id": "6db8ccb6",
   "metadata": {},
   "outputs": [],
   "source": [
    "def read_json(fname):\n",
    "    with open(fname, 'r', encoding='utf-8') as f:\n",
    "        for line in tqdm.tqdm(f):\n",
    "    #         print(line)\n",
    "            df = json.loads(line)\n",
    "#             print(df['ksic'], '\\n', df)\n",
    "            yield df\n",
    "#     df = pd.read_json(f, encoding='utf-8', orient='records', dtype=column_type, lines=True)  # 성공했으나, 모두 1개 레코드로 인식\n",
    "#     df = pd.read_json(f, encoding='utf-8', orient='table', dtype=column_type, lines=True)  # 데이터 형식을 바꿔서 실행해도 똑같음\n",
    "# split, index, records, table,\n",
    "# 한번에 한줄씩 yield"
   ]
  },
  {
   "cell_type": "code",
   "execution_count": 80,
   "id": "28562b28",
   "metadata": {},
   "outputs": [
    {
     "name": "stderr",
     "output_type": "stream",
     "text": [
      "23it [00:07,  3.28it/s]\n",
      "0it [00:00, ?it/s]"
     ]
    },
    {
     "name": "stdout",
     "output_type": "stream",
     "text": [
      "<class 'dict'> 방청 도료 제조법 20411\n",
      "<class 'dict'> 증기 난방 방열기 조절변의 개량 25121\n",
      "<class 'dict'> 사진 인화지 제조법 20491\n",
      "<class 'dict'> 무곡병 대향 기관 30110\n",
      "<class 'dict'> 자발 곡주 원료 제조법 11111\n",
      "<class 'dict'> 회흑색의 견사 광택을 갖는 내수 기와 제조법 23231\n",
      "<class 'dict'> 인장 소제용 연고 제조법 21210\n",
      "<class 'dict'> 자동 탈곡기 29210\n",
      "<class 'dict'> 고도의 내수성과 점주도를 가진 점결제 제조 방법 19102\n",
      "<class 'dict'> 부의 14192\n",
      "<class 'dict'> 자동 각반 분무기 29193\n",
      "<class 'dict'> 자료 철강의 제련법 24111\n",
      "<class 'dict'> 소화용 와권 폼푸의 진공 방법 29193\n",
      "<class 'dict'> 유화 염료 제조법 20132\n",
      "<class 'dict'> 접착제 제조법 20493\n",
      "<class 'dict'> 피혁 갑피와 고무저로 되는 이물에 있어서 고무저를 화류 접착하는 방법 15211\n",
      "<class 'dict'> 쌍촛점 타자기 29180\n",
      "<class 'dict'> 한글 가로쓰기 타자기의 받침 자동조절 인자 장치 29180\n",
      "<class 'dict'> 합성 약주 제조법 11111\n",
      "<class 'dict'> 비료 제조법 20311\n",
      "<class 'dict'> 가로쓰기 한글 타자기의 자음 및 모음의 자모 배치 방법 29180\n",
      "<class 'dict'> 삼초점 타자기 29180\n",
      "<class 'dict'> 개량 약주 제조법 11111\n",
      "<class 'dict'> 담화 독서 타자기와 기의 발설 장치 29180\n"
     ]
    }
   ],
   "source": [
    "gen = read_json('.cache/ksic01.json')\n",
    "for chunk in range(3):\n",
    "    for i in range(batch_size):\n",
    "        temp = next(gen)\n",
    "        print(type(temp), temp['title'], temp['ksic'])\n",
    "#         text, label = next(gen)['title', 'ksic']\n",
    "    "
   ]
  },
  {
   "cell_type": "code",
   "execution_count": null,
   "id": "6cf8b6a7",
   "metadata": {},
   "outputs": [],
   "source": []
  },
  {
   "cell_type": "code",
   "execution_count": null,
   "id": "d797c65c",
   "metadata": {},
   "outputs": [],
   "source": [
    "sample = {\"ksic\":\"23199\",\"an\":\"특1994-021923\",\"ad\":\"19940831\",\"pn\":\"특0118285\",\"pd\":\"19970930\",\"rn\":\"특0118285\",\"rd\":\"19970716\",\n",
    "          \"ipc\":\"C03B19/10\",\"cpc\":\"C03B19/1005 | Y02P40/51 | Y02P40/53 | Y10S165/903\",\"title\":\"글래스비드 성형장치\",\n",
    "          \"ab\":\"본 발명은 수직성형로 중앙 상부에 흡입관과 폐열인출관을 연통시키고, 흡입관 일측에 글래스비드가 유출될 수 있도록 인출호퍼를 설치하여 컨베이벨트에 근접 대응시키고, 수직성형로 측변 외주면에 열순환관을 정착하여 성형로내의 대류현상을 촉진시키며, 로 상부 일측에 열공급관이 연통되어 하측의 혼합가스공급관에 연결시킨 구성으로써, 연소실의 열효율을 높이고, 폐열로 별도의 열교환기에 공급하여 난방열 또는 건조열로 사용할 수 있도록 창안된 글래스비드 성형장치에 관한 것이다.\\\\n\",\n",
    "          \"cl\":\"원료공급통체(2)의 상부에 공급관(2a)이 연통되고, 바닥 외주면에 다수의 투입관(2b)이 연통설치되어 수직성형로(1) 상부에서 관통되어 투입관(2b) 말단부가 연소실(A)에 위치하도록 하고, 공급통체(2) 바닥 중앙에는 회전판(13)이 유차되어 저부에 모터(14)가 설치된 글래스비드 성형장치에 있어서, 수직성형로(1)이 중앙상부에 흡입관(3)이 설치되고, 흡입관(3) 일측에 인출호퍼(4)(4')가 장착되어 하단부가 컨베이벨트(15)에 근접 대응되도록 하고, 인출호퍼(4)(4') 상부의 흡입관(3)에 연통된 폐열인출관(5)이 열교환기(10)에 연결된 것으로써, 폐열인출관(5) 중앙부에 흡입휀(9)이 구비되어 글래스비드 성형시 발생된 열을 난방, 건조열로 사용할 수 있도록 구성된 글래스비드 성형장치.\\\\n \\\\n 제1항에 있어서, 수직성형로(1)의 몸체 외주면에 다수의 열순환관(6)을 입설장착시켜 글래스비드 원료가 용융시 수직성형로 내부열의 순환회전되어 대류현상이 되도록 구성된 글래스비드 성형장치.\\\\n \\\\n 제1항에 있어서, 수직성형로(1)의 상부 일측 외주면에 열공급관(7)이 연통되도록 설치되어 연소실(A)저면의 혼합가스공급관(8)에 연결되어 혼합가스의 온도를 상승시키도록 구성된 글래스비드 성형장치.\\\\n \\\\n\",\n",
    "          \"apg\":\"지남산업주식회사\",\"invt\":\"강신종\"}\n",
    "columns = {\"ksic\": str,\"an\": str,\"ad\": str,\"pn\": str,\"pd\": str,\"rn\": str,\"rd\": str,\n",
    "          \"ipc\": str,\"cpc\": str,\"title\":str, \"ab\": str, \"cl\": str, \"apg\": str,\"invt\": str}\n",
    "# https://www.statology.org/valueerror-trailing-data/"
   ]
  },
  {
   "cell_type": "code",
   "execution_count": null,
   "id": "e77d7c2c",
   "metadata": {},
   "outputs": [],
   "source": [
    "chunk_size = 1000\n",
    "fnames = ['.cache/ksic01.json', '.cache/ksic02.json']\n",
    "\n",
    "for fname in fnames[0]:\n",
    "    with open(fname, 'r') as f:\n",
    "        i = 0\n",
    "        for line in tqdm(f):\n",
    "            data = json.load(f)\n",
    "            print(line)\n",
    "            i += 1\n",
    "            if i == 10:\n",
    "                break\n",
    "\n",
    "# df = pd.read_json(fname, lines=True)\n",
    "# df.head()"
   ]
  },
  {
   "cell_type": "code",
   "execution_count": null,
   "id": "48671288",
   "metadata": {},
   "outputs": [],
   "source": [
    "df01=pd.read_excel(fname, sheet_name='raw_data', engine='openpyxl')"
   ]
  },
  {
   "cell_type": "code",
   "execution_count": null,
   "id": "cb8e9302",
   "metadata": {},
   "outputs": [],
   "source": [
    "df01.head(1)"
   ]
  },
  {
   "cell_type": "code",
   "execution_count": null,
   "id": "fc056ed5",
   "metadata": {},
   "outputs": [],
   "source": [
    "df01['Cur_CPC'] = df01[\"Current CPC\"].str.split(\"|\")"
   ]
  },
  {
   "cell_type": "code",
   "execution_count": null,
   "id": "21d585a4",
   "metadata": {},
   "outputs": [],
   "source": [
    "df01.head(1)"
   ]
  },
  {
   "cell_type": "code",
   "execution_count": null,
   "id": "147b1706",
   "metadata": {},
   "outputs": [],
   "source": [
    "df02 = df01.explode('Cur_CPC')"
   ]
  },
  {
   "cell_type": "code",
   "execution_count": null,
   "id": "621087e4",
   "metadata": {},
   "outputs": [],
   "source": [
    "df02.head(1)"
   ]
  },
  {
   "cell_type": "code",
   "execution_count": null,
   "id": "d7c9bed6",
   "metadata": {},
   "outputs": [],
   "source": [
    "df02 = df02[df02['Cur_CPC'].str.contains('H03B9')==True]"
   ]
  },
  {
   "cell_type": "code",
   "execution_count": null,
   "id": "85da577c",
   "metadata": {},
   "outputs": [],
   "source": [
    "df02.reset_index()"
   ]
  },
  {
   "cell_type": "code",
   "execution_count": null,
   "id": "d25cb97e",
   "metadata": {},
   "outputs": [],
   "source": [
    "df03 = df02[['Cur_CPC', '발명의명칭', '대표청구항', '요약']]"
   ]
  },
  {
   "cell_type": "code",
   "execution_count": null,
   "id": "73d74e02",
   "metadata": {},
   "outputs": [],
   "source": [
    "df03.head()"
   ]
  },
  {
   "cell_type": "code",
   "execution_count": null,
   "id": "d2827f17",
   "metadata": {},
   "outputs": [],
   "source": [
    "# https://pandas.pydata.org/docs/reference/api/pandas.read_json.html\n",
    "# 데이터 형태에 따라 orient를 구분해서 쓰자, split, index, records, table, \n",
    "# [Notes]\n",
    "# Specific to orient='table', if a DataFrame with a literal Index name of index gets written with to_json(), the subsequent read operation will incorrectly set the Index name to None. This is because index is also used by DataFrame.to_json() to denote a missing Index name, and the subsequent read_json() operation cannot distinguish between the two. The same limitation is encountered with a MultiIndex and any names beginning with 'level_'.\n",
    "# Examples\n",
    "# df = pd.DataFrame([['a', 'b'], ['c', 'd']], index=['row 1', 'row 2'], columns=['col 1', 'col 2'])\n",
    "\n",
    "# Encoding/decoding a Dataframe using 'split' formatted JSON:\n",
    "# df.to_json(orient='split')\n",
    "#     '{\"columns\":[\"col 1\",\"col 2\"],\"index\":[\"row 1\",\"row 2\"],\"data\":[[\"a\",\"b\"],[\"c\",\"d\"]]}'\n",
    "# pd.read_json(_, orient='split')\n",
    "#       col 1 col 2\n",
    "# row 1     a     b\n",
    "# row 2     c     d\n",
    "\n",
    "# Encoding/decoding a Dataframe using 'index' formatted JSON:\n",
    "# df.to_json(orient='index')\n",
    "# '{\"row 1\":{\"col 1\":\"a\",\"col 2\":\"b\"},\"row 2\":{\"col 1\":\"c\",\"col 2\":\"d\"}}'\n",
    "# pd.read_json(_, orient='index')\n",
    "#       col 1 col 2\n",
    "# row 1     a     b\n",
    "# row 2     c     d\n",
    "\n",
    "# Encoding/decoding a Dataframe using 'records' formatted JSON. Note that index labels are not preserved with this encoding.\n",
    "# df.to_json(orient='records')\n",
    "# '[{\"col 1\":\"a\",\"col 2\":\"b\"},{\"col 1\":\"c\",\"col 2\":\"d\"}]'\n",
    "# pd.read_json(_, orient='records')\n",
    "#   col 1 col 2\n",
    "# 0     a     b\n",
    "# 1     c     d\n",
    "\n",
    "# Encoding with Table Schema\n",
    "# df.to_json(orient='table')\n",
    "#     '{\"schema\":{\"fields\":[{\"name\":\"index\",\"type\":\"string\"},{\"name\":\"col 1\",\"type\":\"string\"},{\"name\":\"col 2\",\"type\":\"string\"}],\"primaryKey\":[\"index\"],\"pandas_version\":\"1.4.0\"},\"data\":[{\"index\":\"row 1\",\"col 1\":\"a\",\"col 2\":\"b\"},{\"index\":\"row 2\",\"col 1\":\"c\",\"col 2\":\"d\"}]}'\n"
   ]
  }
 ],
 "metadata": {
  "kernelspec": {
   "display_name": "KoBERT",
   "language": "python",
   "name": "kobert-master"
  },
  "language_info": {
   "codemirror_mode": {
    "name": "ipython",
    "version": 3
   },
   "file_extension": ".py",
   "mimetype": "text/x-python",
   "name": "python",
   "nbconvert_exporter": "python",
   "pygments_lexer": "ipython3",
   "version": "3.8.10"
  }
 },
 "nbformat": 4,
 "nbformat_minor": 5
}
