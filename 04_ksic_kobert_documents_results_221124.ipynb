{
 "cells": [
  {
   "cell_type": "markdown",
   "id": "f2bae2da",
   "metadata": {},
   "source": [
    "# Prep"
   ]
  },
  {
   "cell_type": "code",
   "execution_count": 1,
   "id": "7292a40f",
   "metadata": {
    "ExecuteTime": {
     "end_time": "2022-11-24T04:43:41.423541Z",
     "start_time": "2022-11-24T04:43:39.363373Z"
    }
   },
   "outputs": [],
   "source": [
    "import os.path\n",
    "import time\n",
    "import pickle\n",
    "import torch\n",
    "from torch import nn\n",
    "import torch.nn.functional as F\n",
    "import torch.optim as optim\n",
    "from torch.utils.data import Dataset, DataLoader\n",
    "import gluonnlp as nlp\n",
    "import numpy as np\n",
    "from tqdm import tqdm\n",
    "from sklearn.model_selection import train_test_split\n",
    "from kobert import get_tokenizer\n",
    "from kobert import get_pytorch_kobert_model\n",
    "from transformers import AdamW, BertModel\n",
    "from transformers.optimization import get_cosine_schedule_with_warmup\n",
    "import json\n",
    "import pandas as pd"
   ]
  },
  {
   "cell_type": "markdown",
   "id": "123b272f",
   "metadata": {},
   "source": [
    "# Load Model"
   ]
  },
  {
   "cell_type": "code",
   "execution_count": 2,
   "id": "bfd29c45",
   "metadata": {
    "ExecuteTime": {
     "end_time": "2022-11-24T04:43:41.426784Z",
     "start_time": "2022-11-24T04:43:41.424891Z"
    }
   },
   "outputs": [],
   "source": [
    "device = torch.device(\"cuda:0\")\n",
    "# device = torch.device(\"cpu\")\n",
    "model_path = 'ksic_model'"
   ]
  },
  {
   "cell_type": "code",
   "execution_count": 3,
   "id": "ea5bef95",
   "metadata": {
    "ExecuteTime": {
     "end_time": "2022-11-24T04:43:41.435578Z",
     "start_time": "2022-11-24T04:43:41.427619Z"
    }
   },
   "outputs": [],
   "source": [
    "# ??BertModel"
   ]
  },
  {
   "cell_type": "markdown",
   "id": "def14324",
   "metadata": {},
   "source": [
    "#### 모델 저장의 방법\n",
    "* Pytorch는 모델을 저장할 때 torch.save(object, file) 함수 사용\n",
    "    * object : 모델 객체, file : 파일 이름\n",
    "##### 예시1\n",
    "* torch.save(model, 'model.pt')\n",
    "* model = torch.load('model.pt')\n",
    "##### 예시2\n",
    "* torch.save(model.state_dict(), 'model.pt')\n",
    "* model.load_state_dict(torch.load('model.pt'))"
   ]
  },
  {
   "cell_type": "code",
   "execution_count": 4,
   "id": "f3d2f238",
   "metadata": {
    "ExecuteTime": {
     "end_time": "2022-11-24T04:43:44.166616Z",
     "start_time": "2022-11-24T04:43:41.441084Z"
    },
    "scrolled": true
   },
   "outputs": [
    {
     "name": "stdout",
     "output_type": "stream",
     "text": [
      "using cached model. /home/hdh/PycharmProjects/KoBERT-master/.cache/kobert_v1.zip\n",
      "using cached model. /home/hdh/PycharmProjects/KoBERT-master/.cache/kobert_news_wiki_ko_cased-1087f8699e.spiece\n"
     ]
    }
   ],
   "source": [
    "bertmodel, vocab = get_pytorch_kobert_model(cachedir=\".cache\")"
   ]
  },
  {
   "cell_type": "code",
   "execution_count": 5,
   "id": "28a3cd98",
   "metadata": {
    "ExecuteTime": {
     "end_time": "2022-11-24T04:43:44.169439Z",
     "start_time": "2022-11-24T04:43:44.168065Z"
    }
   },
   "outputs": [],
   "source": [
    "# torch.save(bertmodel, 'model_save_test/ksic_bert_model.pt')\n",
    "# model = torch.load('model_save_test/ksic_bert_model.pt')\n",
    "# # 이건 왜 성공하지?"
   ]
  },
  {
   "cell_type": "code",
   "execution_count": 6,
   "id": "55dc9f05",
   "metadata": {
    "ExecuteTime": {
     "end_time": "2022-11-24T04:43:44.178791Z",
     "start_time": "2022-11-24T04:43:44.170230Z"
    }
   },
   "outputs": [],
   "source": [
    "class BERTClassifier(nn.Module):\n",
    "    def __init__(self,\n",
    "                 bert,\n",
    "                 hidden_size=768,\n",
    "                 num_classes=2,\n",
    "                 dr_rate=None,\n",
    "                 params=None):\n",
    "        super(BERTClassifier, self).__init__()\n",
    "        self.bert = bert\n",
    "        self.dr_rate = dr_rate\n",
    "\n",
    "        self.classifier = nn.Linear(hidden_size, num_classes)\n",
    "        if dr_rate:\n",
    "            self.dropout = nn.Dropout(p=dr_rate)\n",
    "\n",
    "    def gen_attention_mask(self, token_ids, valid_length):\n",
    "        attention_mask = torch.zeros_like(token_ids)\n",
    "        for i, v in enumerate(valid_length):\n",
    "            attention_mask[i][:v] = 1\n",
    "        return attention_mask.float()\n",
    "\n",
    "    def forward(self, token_ids, valid_length, segment_ids):\n",
    "        attention_mask = self.gen_attention_mask(token_ids, valid_length)\n",
    "\n",
    "        _, pooler = self.bert(input_ids=token_ids, token_type_ids=segment_ids.long(),\n",
    "                              attention_mask=attention_mask.float().to(token_ids.device))\n",
    "        if self.dr_rate:\n",
    "            out = self.dropout(pooler)\n",
    "        else:\n",
    "            out = pooler\n",
    "        return self.classifier(out)"
   ]
  },
  {
   "cell_type": "code",
   "execution_count": 7,
   "id": "47698e5b",
   "metadata": {
    "ExecuteTime": {
     "end_time": "2022-11-24T04:43:47.625091Z",
     "start_time": "2022-11-24T04:43:44.180010Z"
    }
   },
   "outputs": [],
   "source": [
    "model = BERTClassifier(bertmodel,  dr_rate=0.5).to(device)\n",
    "model = torch.load(os.path.join(model_path, 'KSIC_KoBERT.pt'))\n",
    "# Can't get attribute 'BERTClassifier' on <module '__main__'>"
   ]
  },
  {
   "cell_type": "code",
   "execution_count": 8,
   "id": "8feb6698",
   "metadata": {
    "ExecuteTime": {
     "end_time": "2022-11-24T04:43:47.628641Z",
     "start_time": "2022-11-24T04:43:47.626081Z"
    }
   },
   "outputs": [
    {
     "name": "stdout",
     "output_type": "stream",
     "text": [
      "using cached model. /home/hdh/PycharmProjects/KoBERT-master/.cache/kobert_news_wiki_ko_cased-1087f8699e.spiece\n"
     ]
    }
   ],
   "source": [
    "tokenizer = get_tokenizer()\n",
    "tok = nlp.data.BERTSPTokenizer(tokenizer, vocab, lower=False)"
   ]
  },
  {
   "cell_type": "markdown",
   "id": "849b2d32",
   "metadata": {},
   "source": [
    "# Predict"
   ]
  },
  {
   "cell_type": "code",
   "execution_count": 9,
   "id": "f9296227",
   "metadata": {
    "ExecuteTime": {
     "end_time": "2022-11-24T04:43:47.637283Z",
     "start_time": "2022-11-24T04:43:47.629692Z"
    }
   },
   "outputs": [],
   "source": [
    "# 예측 모델 설정\n",
    "def predict(predict_sentence):\n",
    "\n",
    "    data = [predict_sentence, '0']\n",
    "    dataset_another = [data]\n",
    "\n",
    "    another_test = BERTDataset(dataset_another, 0, 1, tok, max_len, True, False)\n",
    "    test_dataloader = torch.utils.data.DataLoader(another_test, batch_size=batch_size, num_workers=5)\n",
    "    \n",
    "    model.eval()\n",
    "\n",
    "    for batch_id, (token_ids, valid_length, segment_ids, label) in enumerate(test_dataloader):\n",
    "        token_ids = token_ids.long().to(device)\n",
    "        segment_ids = segment_ids.long().to(device)\n",
    "\n",
    "        valid_length= valid_length\n",
    "        label = label.long().to(device)\n",
    "\n",
    "        out = model(token_ids, valid_length, segment_ids)\n",
    "        max_vals, max_indices = torch.max(out, 1)\n",
    "#         test_eval=[]\n",
    "#         for i in out:\n",
    "#             logits=i\n",
    "#             logits = logits.detach().cpu().numpy()\n",
    "#             min_v = min(logits)\n",
    "#             total = 0\n",
    "#             probability = []\n",
    "#             logits = np.round(new_softmax(logits), 3).tolist()\n",
    "#             for logit in logits:\n",
    "#                 print(logit)\n",
    "#                 probability.append(np.round(logit, 3))\n",
    "\n",
    "#             if np.argmax(logits) == 0:  emotion = \"기쁨\"\n",
    "#             elif np.argmax(logits) == 1: emotion = \"불안\"\n",
    "#             elif np.argmax(logits) == 2: emotion = '당황'\n",
    "#             elif np.argmax(logits) == 3: emotion = '슬픔'\n",
    "#             elif np.argmax(logits) == 4: emotion = '분노'\n",
    "#             elif np.argmax(logits) == 5: emotion = '상처'\n",
    "\n",
    "#             probability.append(emotion)\n",
    "#             print(probability)\n",
    "    return max_vals, max_indices"
   ]
  },
  {
   "cell_type": "code",
   "execution_count": 10,
   "id": "54b61d68",
   "metadata": {
    "ExecuteTime": {
     "end_time": "2022-11-24T04:43:47.651118Z",
     "start_time": "2022-11-24T04:43:47.638173Z"
    }
   },
   "outputs": [],
   "source": [
    "# ??torch.max"
   ]
  },
  {
   "cell_type": "markdown",
   "id": "3e205a0c",
   "metadata": {},
   "source": [
    "## Load AI 학습용 Dataset"
   ]
  },
  {
   "cell_type": "code",
   "execution_count": 11,
   "id": "54cfd7b9",
   "metadata": {
    "ExecuteTime": {
     "end_time": "2022-11-24T04:43:49.074704Z",
     "start_time": "2022-11-24T04:43:49.067663Z"
    }
   },
   "outputs": [],
   "source": [
    "class BERTDataset(Dataset):\n",
    "    def __init__(self, dataset, sent_idx, label_idx, bert_tokenizer, max_len,\n",
    "                 pad, pair):\n",
    "        transform = nlp.data.BERTSentenceTransform(\n",
    "            bert_tokenizer, max_seq_length=max_len, pad=pad, pair=pair)\n",
    "\n",
    "        self.sentences = [transform([i[sent_idx]]) for i in tqdm(dataset)]\n",
    "        self.labels = [np.int32(i[label_idx]) for i in tqdm(dataset)]\n",
    "\n",
    "    def __getitem__(self, i):\n",
    "        return (self.sentences[i] + (self.labels[i], ))\n",
    "\n",
    "    def __len__(self):\n",
    "        return (len(self.labels))"
   ]
  },
  {
   "cell_type": "code",
   "execution_count": 15,
   "id": "00460b3a",
   "metadata": {
    "ExecuteTime": {
     "end_time": "2022-11-24T01:37:18.998770Z",
     "start_time": "2022-11-24T01:37:10.780270Z"
    }
   },
   "outputs": [],
   "source": [
    "test_input = pd.read_csv('.cache/test_input.csv', encoding='utf-8', low_memory=False)"
   ]
  },
  {
   "cell_type": "code",
   "execution_count": 16,
   "id": "0308a904",
   "metadata": {
    "ExecuteTime": {
     "end_time": "2022-11-24T01:37:19.012007Z",
     "start_time": "2022-11-24T01:37:19.000013Z"
    }
   },
   "outputs": [
    {
     "data": {
      "text/html": [
       "<div>\n",
       "<style scoped>\n",
       "    .dataframe tbody tr th:only-of-type {\n",
       "        vertical-align: middle;\n",
       "    }\n",
       "\n",
       "    .dataframe tbody tr th {\n",
       "        vertical-align: top;\n",
       "    }\n",
       "\n",
       "    .dataframe thead th {\n",
       "        text-align: right;\n",
       "    }\n",
       "</style>\n",
       "<table border=\"1\" class=\"dataframe\">\n",
       "  <thead>\n",
       "    <tr style=\"text-align: right;\">\n",
       "      <th></th>\n",
       "      <th>ksic</th>\n",
       "      <th>an</th>\n",
       "      <th>ad</th>\n",
       "      <th>pn</th>\n",
       "      <th>pd</th>\n",
       "      <th>rn</th>\n",
       "      <th>rd</th>\n",
       "      <th>ipc</th>\n",
       "      <th>cpc</th>\n",
       "      <th>title</th>\n",
       "      <th>ab</th>\n",
       "      <th>cl</th>\n",
       "      <th>apg</th>\n",
       "      <th>invt</th>\n",
       "      <th>label</th>\n",
       "    </tr>\n",
       "  </thead>\n",
       "  <tbody>\n",
       "    <tr>\n",
       "      <th>0</th>\n",
       "      <td>38230</td>\n",
       "      <td>10-2003-0069760</td>\n",
       "      <td>20031004</td>\n",
       "      <td>특2003-0083663</td>\n",
       "      <td>20031030</td>\n",
       "      <td>NaN</td>\n",
       "      <td>NaN</td>\n",
       "      <td>B02C13/14</td>\n",
       "      <td>B02C23/08 | B02C13/18 | B07B13/04 | B07B1/28 |...</td>\n",
       "      <td>건설폐기물로부터 시멘트 페이스트 및 모르타르가 제거된재생골재 및 모래를 생산하는 방...</td>\n",
       "      <td>건설폐기물의 폐콘크리트를 레미콘용 재생골재 및 모래로 사용이 가능하도록 시멘트 페이...</td>\n",
       "      <td>폐 콘크리트의 골재 표면으로부터 시멘트 페이스트 및 모르타르를 제거하여 재생골재 및...</td>\n",
       "      <td>삼영플랜트주식회사</td>\n",
       "      <td>기준호 | 기형호</td>\n",
       "      <td>395</td>\n",
       "    </tr>\n",
       "    <tr>\n",
       "      <th>1</th>\n",
       "      <td>25942</td>\n",
       "      <td>2019830009004</td>\n",
       "      <td>19831021</td>\n",
       "      <td>2019850003356</td>\n",
       "      <td>19850617</td>\n",
       "      <td>NaN</td>\n",
       "      <td>NaN</td>\n",
       "      <td>F16B23/00</td>\n",
       "      <td>F16B39/10</td>\n",
       "      <td>이탈 방지 장치를 갖는 나사</td>\n",
       "      <td>케이스(1)에 커버(2)를 부착시키는 나사(3)에 있어서, 커버의 두께(t)보다 큰...</td>\n",
       "      <td>\\n</td>\n",
       "      <td>엘지전자 주식회사</td>\n",
       "      <td>NaN</td>\n",
       "      <td>154</td>\n",
       "    </tr>\n",
       "  </tbody>\n",
       "</table>\n",
       "</div>"
      ],
      "text/plain": [
       "    ksic               an        ad             pn        pd   rn  rd  \\\n",
       "0  38230  10-2003-0069760  20031004  특2003-0083663  20031030  NaN NaN   \n",
       "1  25942    2019830009004  19831021  2019850003356  19850617  NaN NaN   \n",
       "\n",
       "         ipc                                                cpc  \\\n",
       "0  B02C13/14  B02C23/08 | B02C13/18 | B07B13/04 | B07B1/28 |...   \n",
       "1  F16B23/00                                          F16B39/10   \n",
       "\n",
       "                                               title  \\\n",
       "0  건설폐기물로부터 시멘트 페이스트 및 모르타르가 제거된재생골재 및 모래를 생산하는 방...   \n",
       "1                                    이탈 방지 장치를 갖는 나사   \n",
       "\n",
       "                                                  ab  \\\n",
       "0  건설폐기물의 폐콘크리트를 레미콘용 재생골재 및 모래로 사용이 가능하도록 시멘트 페이...   \n",
       "1  케이스(1)에 커버(2)를 부착시키는 나사(3)에 있어서, 커버의 두께(t)보다 큰...   \n",
       "\n",
       "                                                  cl        apg       invt  \\\n",
       "0  폐 콘크리트의 골재 표면으로부터 시멘트 페이스트 및 모르타르를 제거하여 재생골재 및...  삼영플랜트주식회사  기준호 | 기형호   \n",
       "1                                                 \\n  엘지전자 주식회사        NaN   \n",
       "\n",
       "   label  \n",
       "0    395  \n",
       "1    154  "
      ]
     },
     "execution_count": 16,
     "metadata": {},
     "output_type": "execute_result"
    }
   ],
   "source": [
    "test_input[:2]"
   ]
  },
  {
   "cell_type": "code",
   "execution_count": 17,
   "id": "059468dd",
   "metadata": {
    "ExecuteTime": {
     "end_time": "2022-11-24T01:37:36.656876Z",
     "start_time": "2022-11-24T01:37:36.651666Z"
    },
    "scrolled": true
   },
   "outputs": [
    {
     "data": {
      "text/plain": [
       "(211133, 15)"
      ]
     },
     "execution_count": 17,
     "metadata": {},
     "output_type": "execute_result"
    }
   ],
   "source": [
    "test_input.shape  # (211133, 15)"
   ]
  },
  {
   "cell_type": "code",
   "execution_count": 18,
   "id": "4af1c9da",
   "metadata": {
    "ExecuteTime": {
     "end_time": "2022-11-24T01:37:52.029868Z",
     "start_time": "2022-11-24T01:37:52.011059Z"
    }
   },
   "outputs": [],
   "source": [
    "test_input_copy = test_input.copy()"
   ]
  },
  {
   "cell_type": "markdown",
   "id": "e1237a61",
   "metadata": {},
   "source": [
    "### Abst의 누락 TL로 채우기, CL의 누락 Abst로 채우기"
   ]
  },
  {
   "cell_type": "code",
   "execution_count": 19,
   "id": "83bde208",
   "metadata": {
    "ExecuteTime": {
     "end_time": "2022-11-24T01:38:07.186504Z",
     "start_time": "2022-11-24T01:38:07.141097Z"
    }
   },
   "outputs": [],
   "source": [
    "test_input_copy['ab'].fillna(test_input_copy['title'], inplace=True)\n",
    "test_input_copy['cl'].fillna(test_input_copy['ab'], inplace=True)"
   ]
  },
  {
   "cell_type": "code",
   "execution_count": 20,
   "id": "4d7ac346",
   "metadata": {
    "ExecuteTime": {
     "end_time": "2022-11-24T01:40:38.415311Z",
     "start_time": "2022-11-24T01:40:38.405486Z"
    }
   },
   "outputs": [
    {
     "data": {
      "text/html": [
       "<div>\n",
       "<style scoped>\n",
       "    .dataframe tbody tr th:only-of-type {\n",
       "        vertical-align: middle;\n",
       "    }\n",
       "\n",
       "    .dataframe tbody tr th {\n",
       "        vertical-align: top;\n",
       "    }\n",
       "\n",
       "    .dataframe thead th {\n",
       "        text-align: right;\n",
       "    }\n",
       "</style>\n",
       "<table border=\"1\" class=\"dataframe\">\n",
       "  <thead>\n",
       "    <tr style=\"text-align: right;\">\n",
       "      <th></th>\n",
       "      <th>ksic</th>\n",
       "      <th>an</th>\n",
       "      <th>ad</th>\n",
       "      <th>pn</th>\n",
       "      <th>pd</th>\n",
       "      <th>rn</th>\n",
       "      <th>rd</th>\n",
       "      <th>ipc</th>\n",
       "      <th>cpc</th>\n",
       "      <th>title</th>\n",
       "      <th>ab</th>\n",
       "      <th>cl</th>\n",
       "      <th>apg</th>\n",
       "      <th>invt</th>\n",
       "      <th>label</th>\n",
       "    </tr>\n",
       "  </thead>\n",
       "  <tbody>\n",
       "    <tr>\n",
       "      <th>0</th>\n",
       "      <td>38230</td>\n",
       "      <td>10-2003-0069760</td>\n",
       "      <td>20031004</td>\n",
       "      <td>특2003-0083663</td>\n",
       "      <td>20031030</td>\n",
       "      <td>NaN</td>\n",
       "      <td>NaN</td>\n",
       "      <td>B02C13/14</td>\n",
       "      <td>B02C23/08 | B02C13/18 | B07B13/04 | B07B1/28 |...</td>\n",
       "      <td>건설폐기물로부터 시멘트 페이스트 및 모르타르가 제거된재생골재 및 모래를 생산하는 방...</td>\n",
       "      <td>건설폐기물의 폐콘크리트를 레미콘용 재생골재 및 모래로 사용이 가능하도록 시멘트 페이...</td>\n",
       "      <td>폐 콘크리트의 골재 표면으로부터 시멘트 페이스트 및 모르타르를 제거하여 재생골재 및...</td>\n",
       "      <td>삼영플랜트주식회사</td>\n",
       "      <td>기준호 | 기형호</td>\n",
       "      <td>395</td>\n",
       "    </tr>\n",
       "    <tr>\n",
       "      <th>1</th>\n",
       "      <td>25942</td>\n",
       "      <td>2019830009004</td>\n",
       "      <td>19831021</td>\n",
       "      <td>2019850003356</td>\n",
       "      <td>19850617</td>\n",
       "      <td>NaN</td>\n",
       "      <td>NaN</td>\n",
       "      <td>F16B23/00</td>\n",
       "      <td>F16B39/10</td>\n",
       "      <td>이탈 방지 장치를 갖는 나사</td>\n",
       "      <td>케이스(1)에 커버(2)를 부착시키는 나사(3)에 있어서, 커버의 두께(t)보다 큰...</td>\n",
       "      <td>\\n</td>\n",
       "      <td>엘지전자 주식회사</td>\n",
       "      <td>NaN</td>\n",
       "      <td>154</td>\n",
       "    </tr>\n",
       "  </tbody>\n",
       "</table>\n",
       "</div>"
      ],
      "text/plain": [
       "    ksic               an        ad             pn        pd   rn  rd  \\\n",
       "0  38230  10-2003-0069760  20031004  특2003-0083663  20031030  NaN NaN   \n",
       "1  25942    2019830009004  19831021  2019850003356  19850617  NaN NaN   \n",
       "\n",
       "         ipc                                                cpc  \\\n",
       "0  B02C13/14  B02C23/08 | B02C13/18 | B07B13/04 | B07B1/28 |...   \n",
       "1  F16B23/00                                          F16B39/10   \n",
       "\n",
       "                                               title  \\\n",
       "0  건설폐기물로부터 시멘트 페이스트 및 모르타르가 제거된재생골재 및 모래를 생산하는 방...   \n",
       "1                                    이탈 방지 장치를 갖는 나사   \n",
       "\n",
       "                                                  ab  \\\n",
       "0  건설폐기물의 폐콘크리트를 레미콘용 재생골재 및 모래로 사용이 가능하도록 시멘트 페이...   \n",
       "1  케이스(1)에 커버(2)를 부착시키는 나사(3)에 있어서, 커버의 두께(t)보다 큰...   \n",
       "\n",
       "                                                  cl        apg       invt  \\\n",
       "0  폐 콘크리트의 골재 표면으로부터 시멘트 페이스트 및 모르타르를 제거하여 재생골재 및...  삼영플랜트주식회사  기준호 | 기형호   \n",
       "1                                                 \\n  엘지전자 주식회사        NaN   \n",
       "\n",
       "   label  \n",
       "0    395  \n",
       "1    154  "
      ]
     },
     "execution_count": 20,
     "metadata": {},
     "output_type": "execute_result"
    }
   ],
   "source": [
    "test_input_copy[:2]"
   ]
  },
  {
   "cell_type": "code",
   "execution_count": 23,
   "id": "a804e0d8",
   "metadata": {
    "ExecuteTime": {
     "end_time": "2022-11-24T01:42:04.267202Z",
     "start_time": "2022-11-24T01:42:01.615085Z"
    }
   },
   "outputs": [],
   "source": [
    "test_input_copy['tl_ab'] = test_input_copy[['title', 'ab']].agg(' '.join, axis=1)\n",
    "test_input_copy['tl_ab_cl'] = test_input_copy[['title', 'ab', 'cl']].agg(' '.join, axis=1)"
   ]
  },
  {
   "cell_type": "code",
   "execution_count": 24,
   "id": "f84d2f8a",
   "metadata": {
    "ExecuteTime": {
     "end_time": "2022-11-24T01:42:04.910931Z",
     "start_time": "2022-11-24T01:42:04.900126Z"
    }
   },
   "outputs": [
    {
     "data": {
      "text/html": [
       "<div>\n",
       "<style scoped>\n",
       "    .dataframe tbody tr th:only-of-type {\n",
       "        vertical-align: middle;\n",
       "    }\n",
       "\n",
       "    .dataframe tbody tr th {\n",
       "        vertical-align: top;\n",
       "    }\n",
       "\n",
       "    .dataframe thead th {\n",
       "        text-align: right;\n",
       "    }\n",
       "</style>\n",
       "<table border=\"1\" class=\"dataframe\">\n",
       "  <thead>\n",
       "    <tr style=\"text-align: right;\">\n",
       "      <th></th>\n",
       "      <th>ksic</th>\n",
       "      <th>an</th>\n",
       "      <th>ad</th>\n",
       "      <th>pn</th>\n",
       "      <th>pd</th>\n",
       "      <th>rn</th>\n",
       "      <th>rd</th>\n",
       "      <th>ipc</th>\n",
       "      <th>cpc</th>\n",
       "      <th>title</th>\n",
       "      <th>ab</th>\n",
       "      <th>cl</th>\n",
       "      <th>apg</th>\n",
       "      <th>invt</th>\n",
       "      <th>label</th>\n",
       "      <th>tl_ab</th>\n",
       "      <th>tl_ab_cl</th>\n",
       "    </tr>\n",
       "  </thead>\n",
       "  <tbody>\n",
       "    <tr>\n",
       "      <th>0</th>\n",
       "      <td>38230</td>\n",
       "      <td>10-2003-0069760</td>\n",
       "      <td>20031004</td>\n",
       "      <td>특2003-0083663</td>\n",
       "      <td>20031030</td>\n",
       "      <td>NaN</td>\n",
       "      <td>NaN</td>\n",
       "      <td>B02C13/14</td>\n",
       "      <td>B02C23/08 | B02C13/18 | B07B13/04 | B07B1/28 |...</td>\n",
       "      <td>건설폐기물로부터 시멘트 페이스트 및 모르타르가 제거된재생골재 및 모래를 생산하는 방...</td>\n",
       "      <td>건설폐기물의 폐콘크리트를 레미콘용 재생골재 및 모래로 사용이 가능하도록 시멘트 페이...</td>\n",
       "      <td>폐 콘크리트의 골재 표면으로부터 시멘트 페이스트 및 모르타르를 제거하여 재생골재 및...</td>\n",
       "      <td>삼영플랜트주식회사</td>\n",
       "      <td>기준호 | 기형호</td>\n",
       "      <td>395</td>\n",
       "      <td>건설폐기물로부터 시멘트 페이스트 및 모르타르가 제거된재생골재 및 모래를 생산하는 방...</td>\n",
       "      <td>건설폐기물로부터 시멘트 페이스트 및 모르타르가 제거된재생골재 및 모래를 생산하는 방...</td>\n",
       "    </tr>\n",
       "    <tr>\n",
       "      <th>1</th>\n",
       "      <td>25942</td>\n",
       "      <td>2019830009004</td>\n",
       "      <td>19831021</td>\n",
       "      <td>2019850003356</td>\n",
       "      <td>19850617</td>\n",
       "      <td>NaN</td>\n",
       "      <td>NaN</td>\n",
       "      <td>F16B23/00</td>\n",
       "      <td>F16B39/10</td>\n",
       "      <td>이탈 방지 장치를 갖는 나사</td>\n",
       "      <td>케이스(1)에 커버(2)를 부착시키는 나사(3)에 있어서, 커버의 두께(t)보다 큰...</td>\n",
       "      <td>\\n</td>\n",
       "      <td>엘지전자 주식회사</td>\n",
       "      <td>NaN</td>\n",
       "      <td>154</td>\n",
       "      <td>이탈 방지 장치를 갖는 나사 케이스(1)에 커버(2)를 부착시키는 나사(3)에 있어...</td>\n",
       "      <td>이탈 방지 장치를 갖는 나사 케이스(1)에 커버(2)를 부착시키는 나사(3)에 있어...</td>\n",
       "    </tr>\n",
       "  </tbody>\n",
       "</table>\n",
       "</div>"
      ],
      "text/plain": [
       "    ksic               an        ad             pn        pd   rn  rd  \\\n",
       "0  38230  10-2003-0069760  20031004  특2003-0083663  20031030  NaN NaN   \n",
       "1  25942    2019830009004  19831021  2019850003356  19850617  NaN NaN   \n",
       "\n",
       "         ipc                                                cpc  \\\n",
       "0  B02C13/14  B02C23/08 | B02C13/18 | B07B13/04 | B07B1/28 |...   \n",
       "1  F16B23/00                                          F16B39/10   \n",
       "\n",
       "                                               title  \\\n",
       "0  건설폐기물로부터 시멘트 페이스트 및 모르타르가 제거된재생골재 및 모래를 생산하는 방...   \n",
       "1                                    이탈 방지 장치를 갖는 나사   \n",
       "\n",
       "                                                  ab  \\\n",
       "0  건설폐기물의 폐콘크리트를 레미콘용 재생골재 및 모래로 사용이 가능하도록 시멘트 페이...   \n",
       "1  케이스(1)에 커버(2)를 부착시키는 나사(3)에 있어서, 커버의 두께(t)보다 큰...   \n",
       "\n",
       "                                                  cl        apg       invt  \\\n",
       "0  폐 콘크리트의 골재 표면으로부터 시멘트 페이스트 및 모르타르를 제거하여 재생골재 및...  삼영플랜트주식회사  기준호 | 기형호   \n",
       "1                                                 \\n  엘지전자 주식회사        NaN   \n",
       "\n",
       "   label                                              tl_ab  \\\n",
       "0    395  건설폐기물로부터 시멘트 페이스트 및 모르타르가 제거된재생골재 및 모래를 생산하는 방...   \n",
       "1    154  이탈 방지 장치를 갖는 나사 케이스(1)에 커버(2)를 부착시키는 나사(3)에 있어...   \n",
       "\n",
       "                                            tl_ab_cl  \n",
       "0  건설폐기물로부터 시멘트 페이스트 및 모르타르가 제거된재생골재 및 모래를 생산하는 방...  \n",
       "1  이탈 방지 장치를 갖는 나사 케이스(1)에 커버(2)를 부착시키는 나사(3)에 있어...  "
      ]
     },
     "execution_count": 24,
     "metadata": {},
     "output_type": "execute_result"
    }
   ],
   "source": [
    "test_input_copy[:2]"
   ]
  },
  {
   "cell_type": "code",
   "execution_count": 28,
   "id": "6b9bc453",
   "metadata": {
    "ExecuteTime": {
     "end_time": "2022-11-24T01:44:57.610343Z",
     "start_time": "2022-11-24T01:44:57.572912Z"
    }
   },
   "outputs": [],
   "source": [
    "test_title_ds = test_input_copy[['title', 'label']].copy()\n",
    "test_title_ds.rename(columns={'title': 'text'}, inplace=True)\n",
    "test_tl_ab_ds = test_input_copy[['tl_ab', 'label']].copy()\n",
    "test_tl_ab_ds.rename(columns={'tl_ab': 'text'}, inplace=True)\n",
    "test_tl_ab_cl_ds = test_input_copy[['tl_ab_cl', 'label']].copy()\n",
    "test_tl_ab_cl_ds.rename(columns={'tl_ab_cl': 'text'}, inplace=True)"
   ]
  },
  {
   "cell_type": "code",
   "execution_count": 29,
   "id": "d21fa628",
   "metadata": {
    "ExecuteTime": {
     "end_time": "2022-11-24T01:45:07.068687Z",
     "start_time": "2022-11-24T01:44:59.209621Z"
    }
   },
   "outputs": [],
   "source": [
    "test_title_ds.to_csv('.cache/test_title_ds_20221124.tsv', encoding='utf-8', mode='w', index=False, sep='\\t')\n",
    "test_tl_ab_ds.to_csv('.cache/test_tl_ab_ds_20221124.tsv', encoding='utf-8', mode='w', index=False, sep='\\t')\n",
    "test_tl_ab_cl_ds.to_csv('.cache/test_tl_ab_cl_ds_20221124.tsv', encoding='utf-8', mode='w', index=False, sep='\\t')"
   ]
  },
  {
   "cell_type": "code",
   "execution_count": 12,
   "id": "458248f9",
   "metadata": {
    "ExecuteTime": {
     "end_time": "2022-11-24T04:44:21.191638Z",
     "start_time": "2022-11-24T04:44:15.530641Z"
    }
   },
   "outputs": [
    {
     "name": "stdout",
     "output_type": "stream",
     "text": [
      " 1:44PM KST on Nov 24, 2022\n",
      "Loading saved text-label pair dataset completed\n"
     ]
    }
   ],
   "source": [
    "test_title_ds = nlp.data.TSVDataset('.cache/test_title_ds_20221124.tsv', encoding='utf-8',\n",
    "                              field_indices=[0, 1], num_discard_samples=1)\n",
    "test_tl_ab_ds = nlp.data.TSVDataset('.cache/test_tl_ab_ds_20221124.tsv', encoding='utf-8',\n",
    "                              field_indices=[0, 1], num_discard_samples=1)\n",
    "test_tl_ab_cl_ds = nlp.data.TSVDataset('.cache/test_tl_ab_cl_ds_20221124.tsv', encoding='utf-8',\n",
    "                              field_indices=[0, 1], num_discard_samples=1)\n",
    "print(time.strftime('%l:%M%p %Z on %b %d, %Y'))  # ' 1:36PM EDT on Oct 18, 2010'\n",
    "print('Loading saved text-label pair dataset completed')"
   ]
  },
  {
   "cell_type": "markdown",
   "id": "1b2f0df8",
   "metadata": {},
   "source": [
    "## Load Label Dict"
   ]
  },
  {
   "cell_type": "code",
   "execution_count": 13,
   "id": "ec75e8e7",
   "metadata": {
    "ExecuteTime": {
     "end_time": "2022-11-24T04:44:23.231415Z",
     "start_time": "2022-11-24T04:44:23.217423Z"
    },
    "scrolled": true
   },
   "outputs": [],
   "source": [
    "with open('.cache/label_ksic.pickle', 'rb') as f:\n",
    "    ksic_index_dict = pickle.load(f)\n",
    "with open('.cache/ksic_label.pickle', 'rb') as f:\n",
    "    ksic_label_dict = pickle.load(f)"
   ]
  },
  {
   "cell_type": "code",
   "execution_count": 14,
   "id": "db0beb4f",
   "metadata": {
    "ExecuteTime": {
     "end_time": "2022-11-24T04:44:23.800051Z",
     "start_time": "2022-11-24T04:44:23.793459Z"
    }
   },
   "outputs": [],
   "source": [
    "with open('.cache/label_ksic.pickle', 'rb') as f:\n",
    "    ksic_index_dict = pickle.load(f)\n",
    "with open('.cache/ksic_label.pickle', 'rb') as f:\n",
    "    ksic_label_dict = pickle.load(f)"
   ]
  },
  {
   "cell_type": "code",
   "execution_count": 15,
   "id": "5ac82664",
   "metadata": {
    "ExecuteTime": {
     "end_time": "2022-11-24T04:44:25.072048Z",
     "start_time": "2022-11-24T04:44:25.067404Z"
    }
   },
   "outputs": [],
   "source": [
    "# ksic_index_dict"
   ]
  },
  {
   "cell_type": "markdown",
   "id": "94561dd3",
   "metadata": {},
   "source": [
    "# Set Params"
   ]
  },
  {
   "cell_type": "code",
   "execution_count": 16,
   "id": "fe047e80",
   "metadata": {
    "ExecuteTime": {
     "end_time": "2022-11-24T04:44:25.974804Z",
     "start_time": "2022-11-24T04:44:25.969904Z"
    }
   },
   "outputs": [],
   "source": [
    "max_len = 256\n",
    "batch_size = 16\n",
    "warmup_ratio = 0.1\n",
    "num_epochs = 5\n",
    "max_grad_norm = 1\n",
    "log_interval = 10000\n",
    "learning_rate = 5e-5"
   ]
  },
  {
   "cell_type": "markdown",
   "id": "9283c56d",
   "metadata": {},
   "source": [
    "# Convert Dataset to ids"
   ]
  },
  {
   "cell_type": "code",
   "execution_count": 39,
   "id": "337b8614",
   "metadata": {
    "ExecuteTime": {
     "end_time": "2022-11-24T01:54:10.142940Z",
     "start_time": "2022-11-24T01:46:23.417402Z"
    },
    "scrolled": true
   },
   "outputs": [
    {
     "name": "stderr",
     "output_type": "stream",
     "text": [
      "100%|██████████| 211133/211133 [00:09<00:00, 22586.53it/s]\n",
      "100%|██████████| 211133/211133 [00:00<00:00, 1848285.28it/s]\n",
      "100%|██████████| 211133/211133 [01:27<00:00, 2400.37it/s]\n",
      "100%|██████████| 211133/211133 [00:00<00:00, 1757111.31it/s]\n",
      "100%|██████████| 211133/211133 [06:09<00:00, 572.09it/s]\n",
      "100%|██████████| 211133/211133 [00:00<00:00, 1769851.84it/s]\n"
     ]
    }
   ],
   "source": [
    "test_tl_id = BERTDataset(test_title_ds, 0, 1, tok, max_len, True, False)\n",
    "test_ab_id = BERTDataset(test_tl_ab_ds, 0, 1, tok, max_len, True, False)\n",
    "test_cl_id = BERTDataset(test_tl_ab_cl_ds, 0, 1, tok, max_len, True, False)"
   ]
  },
  {
   "cell_type": "code",
   "execution_count": 41,
   "id": "58963fed",
   "metadata": {
    "ExecuteTime": {
     "end_time": "2022-11-24T01:54:53.785095Z",
     "start_time": "2022-11-24T01:54:47.505462Z"
    }
   },
   "outputs": [],
   "source": [
    "with open('.cache/test_title_ds_20221124.pickle', \"wb\") as fw:\n",
    "    pickle.dump(test_tl_id, fw)\n",
    "with open('.cache/test_tl_ab_ds_20221124.pickle', \"wb\") as fw:\n",
    "    pickle.dump(test_ab_id, fw)\n",
    "with open('.cache/test_tl_ab_cl_ds_20221124.pickle', \"wb\") as fw:\n",
    "    pickle.dump(test_cl_id, fw)"
   ]
  },
  {
   "cell_type": "code",
   "execution_count": 17,
   "id": "5ff80a22",
   "metadata": {
    "ExecuteTime": {
     "end_time": "2022-11-24T04:44:43.638893Z",
     "start_time": "2022-11-24T04:44:41.498631Z"
    }
   },
   "outputs": [],
   "source": [
    "try:\n",
    "    with open(\".cache/test_title_ds_20221124.pickle\", \"rb\") as fr:\n",
    "        test_tl_id = pickle.load(fr)\n",
    "    with open('.cache/test_tl_ab_ds_20221124.pickle', 'rb') as f:\n",
    "        test_tl_ab_id = pickle.load(f)\n",
    "    with open('.cache/test_tl_ab_cl_ds_20221124.pickle', 'rb') as f:\n",
    "        test_tl_ab_cl_id = pickle.load(f)\n",
    "except:\n",
    "    test_tl_id = BERTDataset(test_title_ds, 0, 1, tok, max_len, True, False)\n",
    "    test_ab_id = BERTDataset(test_tl_ab_ds, 0, 1, tok, max_len, True, False)\n",
    "    test_cl_id = BERTDataset(test_tl_ab_cl_ds, 0, 1, tok, max_len, True, False)\n",
    "    with open('.cache/test_title_ds_20221124.pickle', \"wb\") as fw:\n",
    "        pickle.dump(test_tl_id, fw)\n",
    "    with open('.cache/test_tl_ab_ds_20221124.pickle', \"wb\") as fw:\n",
    "        pickle.dump(test_ab_id, fw)\n",
    "    with open('.cache/test_tl_ab_cl_ds_20221124.pickle', \"wb\") as fw:\n",
    "        pickle.dump(test_cl_id, fw)"
   ]
  },
  {
   "cell_type": "code",
   "execution_count": 18,
   "id": "c0bae493",
   "metadata": {
    "ExecuteTime": {
     "end_time": "2022-11-24T04:44:46.095204Z",
     "start_time": "2022-11-24T04:44:46.089399Z"
    }
   },
   "outputs": [],
   "source": [
    "test_tl_dataloader = torch.utils.data.DataLoader(test_tl_id, batch_size=batch_size, num_workers=8, shuffle=False)\n",
    "test_tl_ab_dataloader = torch.utils.data.DataLoader(test_tl_ab_id, batch_size=batch_size, num_workers=8, shuffle=False)\n",
    "test_tl_ab_cl_dataloader = torch.utils.data.DataLoader(test_tl_ab_cl_id, batch_size=batch_size, num_workers=8, shuffle=False)"
   ]
  },
  {
   "cell_type": "code",
   "execution_count": 19,
   "id": "c5281d35",
   "metadata": {
    "ExecuteTime": {
     "end_time": "2022-11-24T04:44:48.530028Z",
     "start_time": "2022-11-24T04:44:48.394655Z"
    }
   },
   "outputs": [
    {
     "name": "stderr",
     "output_type": "stream",
     "text": [
      "/home/hdh/PycharmProjects/KoBERT-master/venv/lib/python3.8/site-packages/numpy/core/fromnumeric.py:2007: VisibleDeprecationWarning: Creating an ndarray from ragged nested sequences (which is a list-or-tuple of lists-or-tuples-or ndarrays with different lengths or shapes) is deprecated. If you meant to do this, you must specify 'dtype=object' when creating the ndarray.\n",
      "  result = asarray(a).shape\n"
     ]
    },
    {
     "data": {
      "text/plain": [
       "(211133, 4)"
      ]
     },
     "execution_count": 19,
     "metadata": {},
     "output_type": "execute_result"
    }
   ],
   "source": [
    "np.shape(test_tl_ab_cl_id)"
   ]
  },
  {
   "cell_type": "markdown",
   "id": "1c6f6969",
   "metadata": {},
   "source": [
    "# 성능 평가"
   ]
  },
  {
   "cell_type": "code",
   "execution_count": 20,
   "id": "38706e48",
   "metadata": {
    "ExecuteTime": {
     "end_time": "2022-11-24T04:44:50.960299Z",
     "start_time": "2022-11-24T04:44:50.955039Z"
    }
   },
   "outputs": [],
   "source": [
    "def calc_accuracy(X, y):\n",
    "    max_vals, max_indices = torch.max(X, 1)\n",
    "    acc = (max_indices == y).sum().data.cpu().numpy()/max_indices.size()[0]\n",
    "    return acc"
   ]
  },
  {
   "cell_type": "markdown",
   "id": "ad8e8ebd",
   "metadata": {},
   "source": [
    "## Title로 예측"
   ]
  },
  {
   "cell_type": "code",
   "execution_count": 21,
   "id": "dec6de87",
   "metadata": {
    "ExecuteTime": {
     "end_time": "2022-11-24T05:06:23.256856Z",
     "start_time": "2022-11-24T04:44:58.339467Z"
    }
   },
   "outputs": [
    {
     "name": "stderr",
     "output_type": "stream",
     "text": [
      "  0%|          | 2/13196 [00:00<29:24,  7.48it/s]"
     ]
    },
    {
     "name": "stdout",
     "output_type": "stream",
     "text": [
      " 1:44PM KST on Nov 24, 2022 batch_id:  0 , test acc 0.8125\n"
     ]
    },
    {
     "name": "stderr",
     "output_type": "stream",
     "text": [
      " 23%|██▎       | 3002/13196 [04:51<16:30, 10.29it/s]"
     ]
    },
    {
     "name": "stdout",
     "output_type": "stream",
     "text": [
      " 1:49PM KST on Nov 24, 2022 batch_id:  3000 , test acc 0.7748250583138954\n"
     ]
    },
    {
     "name": "stderr",
     "output_type": "stream",
     "text": [
      " 45%|████▌     | 6002/13196 [09:42<11:41, 10.26it/s]"
     ]
    },
    {
     "name": "stdout",
     "output_type": "stream",
     "text": [
      " 1:54PM KST on Nov 24, 2022 batch_id:  6000 , test acc 0.7742042992834528\n"
     ]
    },
    {
     "name": "stderr",
     "output_type": "stream",
     "text": [
      " 68%|██████▊   | 9002/13196 [14:35<06:48, 10.26it/s]"
     ]
    },
    {
     "name": "stdout",
     "output_type": "stream",
     "text": [
      " 1:59PM KST on Nov 24, 2022 batch_id:  9000 , test acc 0.7740528830129986\n"
     ]
    },
    {
     "name": "stderr",
     "output_type": "stream",
     "text": [
      " 91%|█████████ | 12002/13196 [19:28<01:56, 10.26it/s]"
     ]
    },
    {
     "name": "stdout",
     "output_type": "stream",
     "text": [
      " 2:04PM KST on Nov 24, 2022 batch_id:  12000 , test acc 0.7745239980001667\n"
     ]
    },
    {
     "name": "stderr",
     "output_type": "stream",
     "text": [
      "100%|██████████| 13196/13196 [21:24<00:00, 10.27it/s]"
     ]
    },
    {
     "name": "stdout",
     "output_type": "stream",
     "text": [
      "CPU times: user 21min 19s, sys: 3.44 s, total: 21min 22s\n",
      "Wall time: 21min 24s\n"
     ]
    },
    {
     "name": "stderr",
     "output_type": "stream",
     "text": [
      "\n"
     ]
    }
   ],
   "source": [
    "%%time\n",
    "tl_test_acc = 0.0\n",
    "tl_out = []\n",
    "tl_max_indices = []\n",
    "for batch_id, (token_ids, valid_length, segment_ids, label) in tqdm(enumerate(test_tl_dataloader), total=len(test_tl_dataloader)):\n",
    "    token_ids = token_ids.long().to(device)\n",
    "    segment_ids = segment_ids.long().to(device)\n",
    "    valid_length= valid_length\n",
    "    label = label.long().to(device)\n",
    "    out = model(token_ids, valid_length, segment_ids)\n",
    "    max_vals, max_indices = torch.max(out, 1)\n",
    "#     results.extend([out.tolist(), max_vals.tolist(), max_indices.tolist()])\n",
    "#     cl_results.append([out.tolist(), max_vals.tolist(), max_indices.tolist()])\n",
    "    tl_out.extend(out.tolist())\n",
    "    tl_max_indices.extend(max_indices.tolist())\n",
    "    tl_test_acc += calc_accuracy(out, label)\n",
    "    if batch_id % 3000 == 0:\n",
    "        print(time.strftime('%l:%M%p %Z on %b %d, %Y'), 'batch_id: ', batch_id, ', test acc {}'.format(tl_test_acc / (batch_id+1)), )"
   ]
  },
  {
   "cell_type": "code",
   "execution_count": 22,
   "id": "a488de70",
   "metadata": {
    "ExecuteTime": {
     "end_time": "2022-11-24T05:06:23.260031Z",
     "start_time": "2022-11-24T05:06:23.257949Z"
    },
    "scrolled": true
   },
   "outputs": [
    {
     "name": "stdout",
     "output_type": "stream",
     "text": [
      " 2:06PM KST on Nov 24, 2022 batch_id:  13195 , test acc 0.7741980378669527\n"
     ]
    }
   ],
   "source": [
    "print(time.strftime('%l:%M%p %Z on %b %d, %Y'), 'batch_id: ', batch_id, ', test acc {}'.format(tl_test_acc / (batch_id+1)), )"
   ]
  },
  {
   "cell_type": "code",
   "execution_count": 23,
   "id": "a422438a",
   "metadata": {
    "ExecuteTime": {
     "end_time": "2022-11-24T05:06:30.996790Z",
     "start_time": "2022-11-24T05:06:23.260719Z"
    }
   },
   "outputs": [],
   "source": [
    "with open('.cache/test_tl_pred_20221124.pickle', \"wb\") as fw:\n",
    "    pickle.dump(tl_out, fw)\n",
    "with open('.cache/test_tl_pred_20221124.pickle', \"rb\") as fw:\n",
    "    tl_out = pickle.load(fw)"
   ]
  },
  {
   "cell_type": "markdown",
   "id": "578be992",
   "metadata": {},
   "source": [
    "## Title+Abst로 예측"
   ]
  },
  {
   "cell_type": "code",
   "execution_count": 24,
   "id": "d18f08f6",
   "metadata": {
    "ExecuteTime": {
     "end_time": "2022-11-24T05:27:57.963761Z",
     "start_time": "2022-11-24T05:06:30.998672Z"
    }
   },
   "outputs": [
    {
     "name": "stderr",
     "output_type": "stream",
     "text": [
      "  0%|          | 3/13196 [00:00<21:43, 10.12it/s]"
     ]
    },
    {
     "name": "stdout",
     "output_type": "stream",
     "text": [
      " 2:06PM KST on Nov 24, 2022 batch_id:  0 , test acc 0.875\n"
     ]
    },
    {
     "name": "stderr",
     "output_type": "stream",
     "text": [
      " 76%|███████▌  | 10003/13196 [16:14<05:11, 10.26it/s]"
     ]
    },
    {
     "name": "stdout",
     "output_type": "stream",
     "text": [
      " 2:22PM KST on Nov 24, 2022 batch_id:  10000 , test acc 0.8328542145785421\n"
     ]
    },
    {
     "name": "stderr",
     "output_type": "stream",
     "text": [
      "100%|██████████| 13196/13196 [21:26<00:00, 10.26it/s]"
     ]
    },
    {
     "name": "stdout",
     "output_type": "stream",
     "text": [
      "CPU times: user 21min 20s, sys: 4.31 s, total: 21min 24s\n",
      "Wall time: 21min 26s\n"
     ]
    },
    {
     "name": "stderr",
     "output_type": "stream",
     "text": [
      "\n"
     ]
    }
   ],
   "source": [
    "%%time\n",
    "tl_ab_test_acc = 0.0\n",
    "tl_ab_out = []\n",
    "tl_ab_max_indices = []\n",
    "for batch_id, (token_ids, valid_length, segment_ids, label) in tqdm(enumerate(test_tl_ab_dataloader), total=len(test_tl_ab_dataloader)):\n",
    "    token_ids = token_ids.long().to(device)\n",
    "    segment_ids = segment_ids.long().to(device)\n",
    "    valid_length= valid_length\n",
    "    label = label.long().to(device)\n",
    "    out = model(token_ids, valid_length, segment_ids)\n",
    "    max_vals, max_indices = torch.max(out, 1)\n",
    "#     results.extend([out.tolist(), max_vals.tolist(), max_indices.tolist()])\n",
    "    tl_ab_out.extend(out.tolist())\n",
    "    tl_ab_max_indices.extend(max_indices.tolist())\n",
    "    tl_ab_test_acc += calc_accuracy(out, label)\n",
    "    if batch_id % 10000 == 0:\n",
    "        print(time.strftime('%l:%M%p %Z on %b %d, %Y'), 'batch_id: ', batch_id, ', test acc {}'.format(tl_ab_test_acc / (batch_id+1)), )"
   ]
  },
  {
   "cell_type": "code",
   "execution_count": 25,
   "id": "b53069e5",
   "metadata": {
    "ExecuteTime": {
     "end_time": "2022-11-24T05:27:57.966874Z",
     "start_time": "2022-11-24T05:27:57.964730Z"
    }
   },
   "outputs": [
    {
     "name": "stdout",
     "output_type": "stream",
     "text": [
      " 2:27PM KST on Nov 24, 2022 batch_id:  13195 , test acc 0.8327170092335673\n"
     ]
    }
   ],
   "source": [
    "print(time.strftime('%l:%M%p %Z on %b %d, %Y'), 'batch_id: ', batch_id, ', test acc {}'.format(tl_ab_test_acc / (batch_id+1)), )# with open('.cache/test_ab_pred_20220627.pickle', \"wb\") as fw:\n",
    "#     pickle.dump(ab_results, fw)\n",
    "# with open('.cache/test_ab_pred_20220627.pickle', \"rb\") as fw:\n",
    "#     ab_results = pickle.load(fw)"
   ]
  },
  {
   "cell_type": "code",
   "execution_count": 26,
   "id": "af223a92",
   "metadata": {
    "ExecuteTime": {
     "end_time": "2022-11-24T05:28:06.097004Z",
     "start_time": "2022-11-24T05:27:57.967656Z"
    }
   },
   "outputs": [],
   "source": [
    "with open('.cache/test_tl_ab_pred_20221124.pickle', \"wb\") as fw:\n",
    "    pickle.dump(tl_ab_out, fw)\n",
    "with open('.cache/test_tl_ab_pred_20221124.pickle', \"rb\") as fw:\n",
    "    tl_ab_out = pickle.load(fw)"
   ]
  },
  {
   "cell_type": "markdown",
   "id": "933c76f4",
   "metadata": {},
   "source": [
    "## Title+Abst_Claim으로 예측"
   ]
  },
  {
   "cell_type": "code",
   "execution_count": 27,
   "id": "860eec31",
   "metadata": {
    "ExecuteTime": {
     "end_time": "2022-11-24T05:49:40.828360Z",
     "start_time": "2022-11-24T05:28:06.098590Z"
    }
   },
   "outputs": [
    {
     "name": "stderr",
     "output_type": "stream",
     "text": [
      "  0%|          | 3/13196 [00:00<22:15,  9.88it/s]"
     ]
    },
    {
     "name": "stdout",
     "output_type": "stream",
     "text": [
      " 2:28PM KST on Nov 24, 2022 batch_id:  0 , test acc 0.875\n"
     ]
    },
    {
     "name": "stderr",
     "output_type": "stream",
     "text": [
      " 76%|███████▌  | 10003/13196 [16:18<05:12, 10.21it/s]"
     ]
    },
    {
     "name": "stdout",
     "output_type": "stream",
     "text": [
      " 2:44PM KST on Nov 24, 2022 batch_id:  10000 , test acc 0.8384036596340366\n"
     ]
    },
    {
     "name": "stderr",
     "output_type": "stream",
     "text": [
      "100%|██████████| 13196/13196 [21:33<00:00, 10.20it/s]"
     ]
    },
    {
     "name": "stdout",
     "output_type": "stream",
     "text": [
      "CPU times: user 21min 27s, sys: 4.52 s, total: 21min 32s\n",
      "Wall time: 21min 34s\n"
     ]
    },
    {
     "name": "stderr",
     "output_type": "stream",
     "text": [
      "\n"
     ]
    }
   ],
   "source": [
    "%%time\n",
    "tl_ab_cl_test_acc = 0.0\n",
    "tl_ab_cl_out = []\n",
    "tl_ab_cl_max_indices = []\n",
    "for batch_id, (token_ids, valid_length, segment_ids, label) in tqdm(enumerate(test_tl_ab_cl_dataloader), total=len(test_tl_ab_cl_dataloader)):\n",
    "    token_ids = token_ids.long().to(device)\n",
    "    segment_ids = segment_ids.long().to(device)\n",
    "    valid_length= valid_length\n",
    "    label = label.long().to(device)\n",
    "    out = model(token_ids, valid_length, segment_ids)\n",
    "    max_vals, max_indices = torch.max(out, 1)\n",
    "#     results.extend([out.tolist(), max_vals.tolist(), max_indices.tolist()])\n",
    "    tl_ab_cl_out.extend(out.tolist())\n",
    "    tl_ab_cl_max_indices.extend(max_indices.tolist())\n",
    "    tl_ab_cl_test_acc += calc_accuracy(out, label)\n",
    "    if batch_id % 10000 == 0:\n",
    "        print(time.strftime('%l:%M%p %Z on %b %d, %Y'), 'batch_id: ', batch_id, ', test acc {}'.format(tl_ab_cl_test_acc / (batch_id+1)), )"
   ]
  },
  {
   "cell_type": "code",
   "execution_count": 28,
   "id": "16b23793",
   "metadata": {
    "ExecuteTime": {
     "end_time": "2022-11-24T05:49:40.831346Z",
     "start_time": "2022-11-24T05:49:40.829249Z"
    }
   },
   "outputs": [
    {
     "name": "stdout",
     "output_type": "stream",
     "text": [
      " 2:49PM KST on Nov 24, 2022 batch_id:  13195 , test acc 0.8383626594305967\n"
     ]
    }
   ],
   "source": [
    "print(time.strftime('%l:%M%p %Z on %b %d, %Y'), 'batch_id: ', batch_id, ', test acc {}'.format(tl_ab_cl_test_acc / (batch_id+1)), )"
   ]
  },
  {
   "cell_type": "code",
   "execution_count": 54,
   "id": "e829341f",
   "metadata": {
    "ExecuteTime": {
     "end_time": "2022-11-24T03:46:00.448675Z",
     "start_time": "2022-11-24T03:46:00.443307Z"
    }
   },
   "outputs": [
    {
     "data": {
      "text/plain": [
       "0.8383626594305967"
      ]
     },
     "execution_count": 54,
     "metadata": {},
     "output_type": "execute_result"
    }
   ],
   "source": [
    "test_acc / (batch_id+1)"
   ]
  },
  {
   "cell_type": "code",
   "execution_count": 29,
   "id": "49209a2a",
   "metadata": {
    "ExecuteTime": {
     "end_time": "2022-11-24T05:49:47.132670Z",
     "start_time": "2022-11-24T05:49:40.832132Z"
    }
   },
   "outputs": [],
   "source": [
    "with open('.cache/test_tl_ab_cl_pred_20221124.pickle', \"wb\") as fw:\n",
    "    pickle.dump(tl_ab_cl_out, fw)\n",
    "with open('.cache/test_tl_ab_cl_pred_20221124.pickle', \"rb\") as fw:\n",
    "    tl_ab_cl_out = pickle.load(fw)"
   ]
  },
  {
   "cell_type": "code",
   "execution_count": null,
   "id": "298efbdb",
   "metadata": {},
   "outputs": [],
   "source": []
  },
  {
   "cell_type": "code",
   "execution_count": null,
   "id": "29159788",
   "metadata": {},
   "outputs": [],
   "source": [
    "# with open('.cache/test_cl_pred_20220627.pickle', \"wb\") as fw:\n",
    "#     pickle.dump(cl_results, fw)"
   ]
  },
  {
   "cell_type": "code",
   "execution_count": null,
   "id": "b71061e2",
   "metadata": {},
   "outputs": [],
   "source": [
    "# with open('.cache/test_tl_pred_20220627.pickle', \"rb\") as fw:\n",
    "#     tl_results = pickle.load(fw)\n",
    "# with open('.cache/test_ab_pred_20220627.pickle', \"rb\") as fw:\n",
    "#     ab_results = pickle.load(fw)\n",
    "# with open('.cache/test_cl_pred_20220627.pickle', \"rb\") as fw:\n",
    "#     cl_results = pickle.load(fw)"
   ]
  },
  {
   "cell_type": "code",
   "execution_count": null,
   "id": "fe0131cd",
   "metadata": {},
   "outputs": [],
   "source": [
    "tl_result_np = np.array(tl_results)"
   ]
  },
  {
   "cell_type": "code",
   "execution_count": null,
   "id": "4f925ad0",
   "metadata": {},
   "outputs": [],
   "source": [
    "tl_result_np.shape  # (26392, 3)"
   ]
  },
  {
   "cell_type": "code",
   "execution_count": null,
   "id": "4d998ffa",
   "metadata": {},
   "outputs": [],
   "source": [
    "np.argmax(tl_result_np[0][0][1])"
   ]
  },
  {
   "cell_type": "code",
   "execution_count": null,
   "id": "3c2b43bd",
   "metadata": {},
   "outputs": [],
   "source": [
    "tl_result_np[0][2]  # batch별 label predict"
   ]
  },
  {
   "cell_type": "code",
   "execution_count": null,
   "id": "4bfdeea9",
   "metadata": {},
   "outputs": [],
   "source": [
    "tl_result_np[0][0]  # batch별 logit"
   ]
  },
  {
   "cell_type": "code",
   "execution_count": null,
   "id": "b635109c",
   "metadata": {},
   "outputs": [],
   "source": [
    "len(tl_result_np[0][0][7])"
   ]
  },
  {
   "cell_type": "code",
   "execution_count": 41,
   "id": "d5667a0d",
   "metadata": {},
   "outputs": [
    {
     "name": "stderr",
     "output_type": "stream",
     "text": [
      "  0%|          | 2/13196 [00:00<23:27,  9.38it/s]"
     ]
    },
    {
     "name": "stdout",
     "output_type": "stream",
     "text": [
      " 3:47PM KST on Jun 28, 2022 batch_id:  0 , test acc 0.8125\n"
     ]
    },
    {
     "name": "stderr",
     "output_type": "stream",
     "text": [
      " 23%|██▎       | 3002/13196 [04:50<16:28, 10.31it/s]"
     ]
    },
    {
     "name": "stdout",
     "output_type": "stream",
     "text": [
      " 3:51PM KST on Jun 28, 2022 batch_id:  3000 , test acc 0.7748250583138954\n"
     ]
    },
    {
     "name": "stderr",
     "output_type": "stream",
     "text": [
      " 45%|████▌     | 6002/13196 [09:41<11:37, 10.31it/s]"
     ]
    },
    {
     "name": "stdout",
     "output_type": "stream",
     "text": [
      " 3:56PM KST on Jun 28, 2022 batch_id:  6000 , test acc 0.7742042992834528\n"
     ]
    },
    {
     "name": "stderr",
     "output_type": "stream",
     "text": [
      " 68%|██████▊   | 9002/13196 [14:32<06:46, 10.31it/s]"
     ]
    },
    {
     "name": "stdout",
     "output_type": "stream",
     "text": [
      " 4:01PM KST on Jun 28, 2022 batch_id:  9000 , test acc 0.7740528830129986\n"
     ]
    },
    {
     "name": "stderr",
     "output_type": "stream",
     "text": [
      " 91%|█████████ | 12002/13196 [19:23<01:55, 10.31it/s]"
     ]
    },
    {
     "name": "stdout",
     "output_type": "stream",
     "text": [
      " 4:06PM KST on Jun 28, 2022 batch_id:  12000 , test acc 0.7745239980001667\n"
     ]
    },
    {
     "name": "stderr",
     "output_type": "stream",
     "text": [
      "100%|██████████| 13196/13196 [21:19<00:00, 10.31it/s]"
     ]
    },
    {
     "name": "stdout",
     "output_type": "stream",
     "text": [
      "CPU times: user 21min 14s, sys: 4.06 s, total: 21min 18s\n",
      "Wall time: 21min 19s\n"
     ]
    },
    {
     "name": "stderr",
     "output_type": "stream",
     "text": [
      "\n"
     ]
    }
   ],
   "source": [
    "%%time\n",
    "test_acc = 0.0\n",
    "tl_out = []\n",
    "tl_max_indices = []\n",
    "for batch_id, (token_ids, valid_length, segment_ids, label) in tqdm(enumerate(test_tl_dataloader), total=len(test_tl_dataloader)):\n",
    "    token_ids = token_ids.long().to(device)\n",
    "    segment_ids = segment_ids.long().to(device)\n",
    "    valid_length= valid_length\n",
    "    label = label.long().to(device)\n",
    "    out = model(token_ids, valid_length, segment_ids)\n",
    "    max_vals, max_indices = torch.max(out, 1)\n",
    "#     results.extend([out.tolist(), max_vals.tolist(), max_indices.tolist()])\n",
    "#     cl_results.append([out.tolist(), max_vals.tolist(), max_indices.tolist()])\n",
    "    tl_out.extend(out.tolist())\n",
    "    tl_max_indices.extend(max_indices.tolist())\n",
    "    test_acc += calc_accuracy(out, label)\n",
    "    if batch_id % 3000 == 0:\n",
    "        print(time.strftime('%l:%M%p %Z on %b %d, %Y'), 'batch_id: ', batch_id, ', test acc {}'.format(test_acc / (batch_id+1)), )"
   ]
  },
  {
   "cell_type": "code",
   "execution_count": 36,
   "id": "dd44940d",
   "metadata": {
    "ExecuteTime": {
     "end_time": "2022-11-24T06:10:15.766536Z",
     "start_time": "2022-11-24T06:10:15.636657Z"
    }
   },
   "outputs": [
    {
     "name": "stderr",
     "output_type": "stream",
     "text": [
      "/tmp/ipykernel_3731/338322045.py:1: VisibleDeprecationWarning: Creating an ndarray from ragged nested sequences (which is a list-or-tuple of lists-or-tuples-or ndarrays with different lengths or shapes) is deprecated. If you meant to do this, you must specify 'dtype=object' when creating the ndarray.\n",
      "  np.array(test_tl_id).shape\n"
     ]
    },
    {
     "data": {
      "text/plain": [
       "(211133, 4)"
      ]
     },
     "execution_count": 36,
     "metadata": {},
     "output_type": "execute_result"
    }
   ],
   "source": [
    "np.array(test_tl_id).shape  # (211133, 4)"
   ]
  },
  {
   "cell_type": "markdown",
   "id": "000bb202",
   "metadata": {},
   "source": [
    "## Top3 확장"
   ]
  },
  {
   "cell_type": "code",
   "execution_count": 39,
   "id": "c388f787",
   "metadata": {
    "ExecuteTime": {
     "end_time": "2022-11-24T06:17:57.016402Z",
     "start_time": "2022-11-24T06:17:56.884945Z"
    }
   },
   "outputs": [
    {
     "name": "stderr",
     "output_type": "stream",
     "text": [
      "/tmp/ipykernel_3731/3914668286.py:1: VisibleDeprecationWarning: Creating an ndarray from ragged nested sequences (which is a list-or-tuple of lists-or-tuples-or ndarrays with different lengths or shapes) is deprecated. If you meant to do this, you must specify 'dtype=object' when creating the ndarray.\n",
      "  label_np = np.array(test_tl_id)[:,3]\n"
     ]
    }
   ],
   "source": [
    "label_np = np.array(test_tl_id)[:,3]"
   ]
  },
  {
   "cell_type": "code",
   "execution_count": 41,
   "id": "e623dbcb",
   "metadata": {
    "ExecuteTime": {
     "end_time": "2022-11-24T06:18:21.474751Z",
     "start_time": "2022-11-24T06:18:21.469588Z"
    }
   },
   "outputs": [],
   "source": [
    "def cal_top_n_acc(result_arr, n):\n",
    "    cnt = 0\n",
    "    tmp = result_arr.argsort()[:, -n:]\n",
    "    for i, label in enumerate(label_np):\n",
    "        if label in tmp[i]:\n",
    "            cnt += 1 \n",
    "    acc = cnt / label_np.shape[0]\n",
    "    return acc"
   ]
  },
  {
   "cell_type": "code",
   "execution_count": 42,
   "id": "26c8d870",
   "metadata": {
    "ExecuteTime": {
     "end_time": "2022-11-24T06:19:08.120269Z",
     "start_time": "2022-11-24T06:18:22.285203Z"
    }
   },
   "outputs": [],
   "source": [
    "tl_top3_acc = cal_top_n_acc(np.array(tl_out), 3)\n",
    "tl_top5_acc = cal_top_n_acc(np.array(tl_out), 5)\n",
    "\n",
    "tl_ab_top3_acc = cal_top_n_acc(np.array(tl_ab_out), 3)\n",
    "tl_ab_top5_acc = cal_top_n_acc(np.array(tl_ab_out), 5)\n",
    "\n",
    "tl_ab_cl_top3_acc = cal_top_n_acc(np.array(tl_ab_cl_out), 3)\n",
    "tl_ab_cl_top5_acc = cal_top_n_acc(np.array(tl_ab_cl_out), 5)"
   ]
  },
  {
   "cell_type": "code",
   "execution_count": 43,
   "id": "e75a3c29",
   "metadata": {
    "ExecuteTime": {
     "end_time": "2022-11-24T06:19:08.124111Z",
     "start_time": "2022-11-24T06:19:08.121565Z"
    }
   },
   "outputs": [
    {
     "name": "stdout",
     "output_type": "stream",
     "text": [
      "0.8985615701950903 0.9285237267504369 0.9397915058280799 0.9605651414037597 0.9439594947260731 0.9642121316895038\n"
     ]
    }
   ],
   "source": [
    "print(tl_top3_acc, tl_top5_acc, tl_ab_top3_acc, tl_ab_top5_acc, tl_ab_cl_top3_acc, tl_ab_cl_top5_acc)"
   ]
  },
  {
   "cell_type": "code",
   "execution_count": null,
   "id": "e63652ba",
   "metadata": {},
   "outputs": [],
   "source": []
  },
  {
   "cell_type": "code",
   "execution_count": null,
   "id": "ca5cd8ad",
   "metadata": {},
   "outputs": [],
   "source": []
  },
  {
   "cell_type": "code",
   "execution_count": 69,
   "id": "87f262c3",
   "metadata": {},
   "outputs": [
    {
     "name": "stdout",
     "output_type": "stream",
     "text": [
      "Top-3 Guess:  0.8985615701950903\n",
      "Top-5 Guess:  0.9285237267504369\n"
     ]
    }
   ],
   "source": [
    "tl_out_np = np.array(tl_out)\n",
    "tl_out_top3 = tl_out_np.argsort()[:, -3:]\n",
    "tl_out_top5 = tl_out_np.argsort()[:, -5:]\n",
    "\n",
    "cnt = 0\n",
    "for i, lab in enumerate(label_np):\n",
    "    if lab in tl_out_top3[i]:\n",
    "        cnt += 1 \n",
    "acc_top3 = cnt / label_np.shape[0]\n",
    "print('TL Top-3 Guess: ', acc_top3)\n",
    "cnt = 0\n",
    "for i, lab in enumerate(label_np):\n",
    "    if lab in tl_out_top5[i]:\n",
    "        cnt += 1 \n",
    "acc_top5 = cnt / label_np.shape[0]\n",
    "print('Top-5 Guess: ', acc_top5)"
   ]
  },
  {
   "cell_type": "code",
   "execution_count": 70,
   "id": "de0311ab",
   "metadata": {},
   "outputs": [
    {
     "name": "stdout",
     "output_type": "stream",
     "text": [
      "Top-3 Guess:  0.8812075800561732\n",
      "Top-5 Guess:  0.9050551074441229\n"
     ]
    }
   ],
   "source": [
    "ab_out_np = np.array(ab_out)\n",
    "ab_max_indices_np = np.array(ab_max_indices)\n",
    "# np.array(ab_out).argmax(axis=1)\n",
    "# print(ab_out_np.shape, ab_max_indices_np.shape)\n",
    "ab_out_top3 = ab_out_np.argsort()[:, -3:]\n",
    "cnt = 0\n",
    "for i, lab in enumerate(label_np):\n",
    "    if lab in ab_out_top3[i]:\n",
    "        cnt += 1 \n",
    "ab_acc_top3 = cnt / label_np.shape[0]\n",
    "print('Top-3 Guess: ', ab_acc_top3)\n",
    "ab_out_top5 = ab_out_np.argsort()[:, -5:]\n",
    "cnt = 0\n",
    "for i, lab in enumerate(label_np):\n",
    "    if lab in ab_out_top5[i]:\n",
    "        cnt += 1 \n",
    "ab_acc_top5 = cnt / label_np.shape[0]\n",
    "print('Top-5 Guess: ', ab_acc_top5)"
   ]
  },
  {
   "cell_type": "code",
   "execution_count": 72,
   "id": "1702e867",
   "metadata": {},
   "outputs": [
    {
     "name": "stdout",
     "output_type": "stream",
     "text": [
      "Top-3 Guess:  0.8628163290437781\n",
      "Top-5 Guess:  0.8921153964562621\n"
     ]
    }
   ],
   "source": [
    "cl_out_np = np.array(cl_out)\n",
    "cl_max_indices_np = np.array(cl_max_indices)\n",
    "# np.array(tl_out).argmax(axis=1)\n",
    "# print(tl_out_np.shape, tl_max_indices_np.shape)\n",
    "cl_out_top3 = cl_out_np.argsort()[:, -3:]\n",
    "cnt = 0\n",
    "for i, lab in enumerate(label_np):\n",
    "    if lab in cl_out_top3[i]:\n",
    "        cnt += 1 \n",
    "cl_acc_top3 = cnt / label_np.shape[0]\n",
    "print('Top-3 Guess: ', cl_acc_top3)\n",
    "cl_out_top5 = cl_out_np.argsort()[:, -5:]\n",
    "cnt = 0\n",
    "for i, lab in enumerate(label_np):\n",
    "    if lab in cl_out_top5[i]:\n",
    "        cnt += 1 \n",
    "cl_acc_top5 = cnt / label_np.shape[0]\n",
    "print('Top-5 Guess: ', cl_acc_top5)"
   ]
  },
  {
   "cell_type": "code",
   "execution_count": 99,
   "id": "c2e135fa",
   "metadata": {},
   "outputs": [],
   "source": [
    "test_input_copy = test_input.copy()"
   ]
  },
  {
   "cell_type": "code",
   "execution_count": 100,
   "id": "7919fdbb",
   "metadata": {},
   "outputs": [
    {
     "data": {
      "text/html": [
       "<div>\n",
       "<style scoped>\n",
       "    .dataframe tbody tr th:only-of-type {\n",
       "        vertical-align: middle;\n",
       "    }\n",
       "\n",
       "    .dataframe tbody tr th {\n",
       "        vertical-align: top;\n",
       "    }\n",
       "\n",
       "    .dataframe thead th {\n",
       "        text-align: right;\n",
       "    }\n",
       "</style>\n",
       "<table border=\"1\" class=\"dataframe\">\n",
       "  <thead>\n",
       "    <tr style=\"text-align: right;\">\n",
       "      <th></th>\n",
       "      <th>ksic</th>\n",
       "      <th>an</th>\n",
       "      <th>ad</th>\n",
       "      <th>pn</th>\n",
       "      <th>pd</th>\n",
       "      <th>rn</th>\n",
       "      <th>rd</th>\n",
       "      <th>ipc</th>\n",
       "      <th>cpc</th>\n",
       "      <th>title</th>\n",
       "      <th>ab</th>\n",
       "      <th>cl</th>\n",
       "      <th>apg</th>\n",
       "      <th>invt</th>\n",
       "      <th>label</th>\n",
       "    </tr>\n",
       "  </thead>\n",
       "  <tbody>\n",
       "    <tr>\n",
       "      <th>0</th>\n",
       "      <td>38230</td>\n",
       "      <td>10-2003-0069760</td>\n",
       "      <td>20031004</td>\n",
       "      <td>특2003-0083663</td>\n",
       "      <td>20031030</td>\n",
       "      <td>NaN</td>\n",
       "      <td>NaN</td>\n",
       "      <td>B02C13/14</td>\n",
       "      <td>B02C23/08 | B02C13/18 | B07B13/04 | B07B1/28 |...</td>\n",
       "      <td>건설폐기물로부터 시멘트 페이스트 및 모르타르가 제거된재생골재 및 모래를 생산하는 방...</td>\n",
       "      <td>건설폐기물의 폐콘크리트를 레미콘용 재생골재 및 모래로 사용이 가능하도록 시멘트 페이...</td>\n",
       "      <td>폐 콘크리트의 골재 표면으로부터 시멘트 페이스트 및 모르타르를 제거하여 재생골재 및...</td>\n",
       "      <td>삼영플랜트주식회사</td>\n",
       "      <td>기준호 | 기형호</td>\n",
       "      <td>395</td>\n",
       "    </tr>\n",
       "    <tr>\n",
       "      <th>1</th>\n",
       "      <td>25942</td>\n",
       "      <td>2019830009004</td>\n",
       "      <td>19831021</td>\n",
       "      <td>2019850003356</td>\n",
       "      <td>19850617</td>\n",
       "      <td>NaN</td>\n",
       "      <td>NaN</td>\n",
       "      <td>F16B23/00</td>\n",
       "      <td>F16B39/10</td>\n",
       "      <td>이탈 방지 장치를 갖는 나사</td>\n",
       "      <td>케이스(1)에 커버(2)를 부착시키는 나사(3)에 있어서, 커버의 두께(t)보다 큰...</td>\n",
       "      <td>\\n</td>\n",
       "      <td>엘지전자 주식회사</td>\n",
       "      <td>NaN</td>\n",
       "      <td>154</td>\n",
       "    </tr>\n",
       "  </tbody>\n",
       "</table>\n",
       "</div>"
      ],
      "text/plain": [
       "    ksic               an        ad             pn        pd   rn  rd  \\\n",
       "0  38230  10-2003-0069760  20031004  특2003-0083663  20031030  NaN NaN   \n",
       "1  25942    2019830009004  19831021  2019850003356  19850617  NaN NaN   \n",
       "\n",
       "         ipc                                                cpc  \\\n",
       "0  B02C13/14  B02C23/08 | B02C13/18 | B07B13/04 | B07B1/28 |...   \n",
       "1  F16B23/00                                          F16B39/10   \n",
       "\n",
       "                                               title  \\\n",
       "0  건설폐기물로부터 시멘트 페이스트 및 모르타르가 제거된재생골재 및 모래를 생산하는 방...   \n",
       "1                                    이탈 방지 장치를 갖는 나사   \n",
       "\n",
       "                                                  ab  \\\n",
       "0  건설폐기물의 폐콘크리트를 레미콘용 재생골재 및 모래로 사용이 가능하도록 시멘트 페이...   \n",
       "1  케이스(1)에 커버(2)를 부착시키는 나사(3)에 있어서, 커버의 두께(t)보다 큰...   \n",
       "\n",
       "                                                  cl        apg       invt  \\\n",
       "0  폐 콘크리트의 골재 표면으로부터 시멘트 페이스트 및 모르타르를 제거하여 재생골재 및...  삼영플랜트주식회사  기준호 | 기형호   \n",
       "1                                                 \\n  엘지전자 주식회사        NaN   \n",
       "\n",
       "   label  \n",
       "0    395  \n",
       "1    154  "
      ]
     },
     "execution_count": 100,
     "metadata": {},
     "output_type": "execute_result"
    }
   ],
   "source": [
    "test_input_copy[:2]"
   ]
  },
  {
   "cell_type": "code",
   "execution_count": 114,
   "id": "090d9ef2",
   "metadata": {},
   "outputs": [],
   "source": [
    "tl_top3_pd = pd.DataFrame(tl_out_top3, columns=['tl_top3', 'tl_top2', 'tl_top1'])\n",
    "ab_top3_pd = pd.DataFrame(ab_out_top3, columns=['ab_top3', 'ab_top2', 'ab_top1'])\n",
    "cl_top3_pd = pd.DataFrame(cl_out_top3, columns=['cl_top3', 'cl_top2', 'cl_top1'])\n",
    "test_input_copy = pd.concat([test_input_copy, tl_top3_pd], axis=1)\n",
    "test_input_copy = pd.concat([test_input_copy, ab_top3_pd], axis=1)\n",
    "test_input_copy = pd.concat([test_input_copy, cl_top3_pd], axis=1)\n",
    "test_input_copy['ksic_tl_top3'] = test_input_copy['tl_top3'].map(ksic_index_dict)\n",
    "test_input_copy['ksic_tl_top2'] = test_input_copy['tl_top2'].map(ksic_index_dict)\n",
    "test_input_copy['ksic_tl_top1'] = test_input_copy['tl_top1'].map(ksic_index_dict)\n",
    "test_input_copy['ksic_ab_top3'] = test_input_copy['ab_top3'].map(ksic_index_dict)\n",
    "test_input_copy['ksic_ab_top2'] = test_input_copy['ab_top2'].map(ksic_index_dict)\n",
    "test_input_copy['ksic_ab_top1'] = test_input_copy['ab_top1'].map(ksic_index_dict)\n",
    "test_input_copy['ksic_cl_top3'] = test_input_copy['cl_top3'].map(ksic_index_dict)\n",
    "test_input_copy['ksic_cl_top2'] = test_input_copy['cl_top2'].map(ksic_index_dict)\n",
    "test_input_copy['ksic_cl_top1'] = test_input_copy['cl_top1'].map(ksic_index_dict)"
   ]
  },
  {
   "cell_type": "code",
   "execution_count": 115,
   "id": "46be5b0a",
   "metadata": {},
   "outputs": [
    {
     "data": {
      "text/html": [
       "<div>\n",
       "<style scoped>\n",
       "    .dataframe tbody tr th:only-of-type {\n",
       "        vertical-align: middle;\n",
       "    }\n",
       "\n",
       "    .dataframe tbody tr th {\n",
       "        vertical-align: top;\n",
       "    }\n",
       "\n",
       "    .dataframe thead th {\n",
       "        text-align: right;\n",
       "    }\n",
       "</style>\n",
       "<table border=\"1\" class=\"dataframe\">\n",
       "  <thead>\n",
       "    <tr style=\"text-align: right;\">\n",
       "      <th></th>\n",
       "      <th>ksic</th>\n",
       "      <th>an</th>\n",
       "      <th>ad</th>\n",
       "      <th>pn</th>\n",
       "      <th>pd</th>\n",
       "      <th>rn</th>\n",
       "      <th>rd</th>\n",
       "      <th>ipc</th>\n",
       "      <th>cpc</th>\n",
       "      <th>title</th>\n",
       "      <th>...</th>\n",
       "      <th>cl_top1</th>\n",
       "      <th>ksic_tl_top3</th>\n",
       "      <th>ksic_tl_top2</th>\n",
       "      <th>ksic_tl_top1</th>\n",
       "      <th>ksic_ab_top3</th>\n",
       "      <th>ksic_ab_top2</th>\n",
       "      <th>ksic_ab_top1</th>\n",
       "      <th>ksic_cl_top3</th>\n",
       "      <th>ksic_cl_top2</th>\n",
       "      <th>ksic_cl_top1</th>\n",
       "    </tr>\n",
       "  </thead>\n",
       "  <tbody>\n",
       "    <tr>\n",
       "      <th>0</th>\n",
       "      <td>38230</td>\n",
       "      <td>10-2003-0069760</td>\n",
       "      <td>20031004</td>\n",
       "      <td>특2003-0083663</td>\n",
       "      <td>20031030</td>\n",
       "      <td>NaN</td>\n",
       "      <td>NaN</td>\n",
       "      <td>B02C13/14</td>\n",
       "      <td>B02C23/08 | B02C13/18 | B07B13/04 | B07B1/28 |...</td>\n",
       "      <td>건설폐기물로부터 시멘트 페이스트 및 모르타르가 제거된재생골재 및 모래를 생산하는 방...</td>\n",
       "      <td>...</td>\n",
       "      <td>395</td>\n",
       "      <td>29241</td>\n",
       "      <td>42110</td>\n",
       "      <td>38230</td>\n",
       "      <td>38311</td>\n",
       "      <td>42110</td>\n",
       "      <td>38230</td>\n",
       "      <td>29242</td>\n",
       "      <td>42110</td>\n",
       "      <td>38230</td>\n",
       "    </tr>\n",
       "    <tr>\n",
       "      <th>1</th>\n",
       "      <td>25942</td>\n",
       "      <td>2019830009004</td>\n",
       "      <td>19831021</td>\n",
       "      <td>2019850003356</td>\n",
       "      <td>19850617</td>\n",
       "      <td>NaN</td>\n",
       "      <td>NaN</td>\n",
       "      <td>F16B23/00</td>\n",
       "      <td>F16B39/10</td>\n",
       "      <td>이탈 방지 장치를 갖는 나사</td>\n",
       "      <td>...</td>\n",
       "      <td>276</td>\n",
       "      <td>27192</td>\n",
       "      <td>25941</td>\n",
       "      <td>25942</td>\n",
       "      <td>27192</td>\n",
       "      <td>25941</td>\n",
       "      <td>25942</td>\n",
       "      <td>33309</td>\n",
       "      <td>33303</td>\n",
       "      <td>33993</td>\n",
       "    </tr>\n",
       "  </tbody>\n",
       "</table>\n",
       "<p>2 rows × 39 columns</p>\n",
       "</div>"
      ],
      "text/plain": [
       "    ksic               an        ad             pn        pd   rn  rd  \\\n",
       "0  38230  10-2003-0069760  20031004  특2003-0083663  20031030  NaN NaN   \n",
       "1  25942    2019830009004  19831021  2019850003356  19850617  NaN NaN   \n",
       "\n",
       "         ipc                                                cpc  \\\n",
       "0  B02C13/14  B02C23/08 | B02C13/18 | B07B13/04 | B07B1/28 |...   \n",
       "1  F16B23/00                                          F16B39/10   \n",
       "\n",
       "                                               title  ... cl_top1  \\\n",
       "0  건설폐기물로부터 시멘트 페이스트 및 모르타르가 제거된재생골재 및 모래를 생산하는 방...  ...     395   \n",
       "1                                    이탈 방지 장치를 갖는 나사  ...     276   \n",
       "\n",
       "  ksic_tl_top3 ksic_tl_top2 ksic_tl_top1  ksic_ab_top3  ksic_ab_top2  \\\n",
       "0        29241        42110        38230         38311         42110   \n",
       "1        27192        25941        25942         27192         25941   \n",
       "\n",
       "   ksic_ab_top1  ksic_cl_top3 ksic_cl_top2 ksic_cl_top1  \n",
       "0         38230         29242        42110        38230  \n",
       "1         25942         33309        33303        33993  \n",
       "\n",
       "[2 rows x 39 columns]"
      ]
     },
     "execution_count": 115,
     "metadata": {},
     "output_type": "execute_result"
    }
   ],
   "source": [
    "test_input_copy[:2]"
   ]
  },
  {
   "cell_type": "code",
   "execution_count": 116,
   "id": "ae67eaf8",
   "metadata": {},
   "outputs": [],
   "source": [
    "from sklearn.metrics import confusion_matrix"
   ]
  },
  {
   "cell_type": "code",
   "execution_count": 123,
   "id": "4c96dee7",
   "metadata": {},
   "outputs": [
    {
     "ename": "TypeError",
     "evalue": "'<' not supported between instances of 'bool' and 'str'",
     "output_type": "error",
     "traceback": [
      "\u001b[0;31m---------------------------------------------------------------------------\u001b[0m",
      "\u001b[0;31mTypeError\u001b[0m                                 Traceback (most recent call last)",
      "Input \u001b[0;32mIn [123]\u001b[0m, in \u001b[0;36m<cell line: 1>\u001b[0;34m()\u001b[0m\n\u001b[0;32m----> 1\u001b[0m pd\u001b[38;5;241m.\u001b[39mDataFrame(\u001b[43mconfusion_matrix\u001b[49m\u001b[43m(\u001b[49m\u001b[43mtest_input_copy\u001b[49m\u001b[43m[\u001b[49m\u001b[38;5;124;43m'\u001b[39;49m\u001b[38;5;124;43mksic\u001b[39;49m\u001b[38;5;124;43m'\u001b[39;49m\u001b[43m]\u001b[49m\u001b[43m,\u001b[49m\n\u001b[1;32m      2\u001b[0m \u001b[43m                              \u001b[49m\u001b[43mtest_input_copy\u001b[49m\u001b[43m[\u001b[49m\u001b[38;5;124;43m'\u001b[39;49m\u001b[38;5;124;43mksic_tl_top1\u001b[39;49m\u001b[38;5;124;43m'\u001b[39;49m\u001b[43m]\u001b[49m\u001b[43m,\u001b[49m\u001b[43m \u001b[49m\u001b[43mlabels\u001b[49m\u001b[38;5;241;43m=\u001b[39;49m\u001b[38;5;28;43;01mTrue\u001b[39;49;00m\u001b[43m)\u001b[49m)\u001b[38;5;241m.\u001b[39mto_csv(\u001b[38;5;124m'\u001b[39m\u001b[38;5;124m.cache/confusion_tl.csv\u001b[39m\u001b[38;5;124m'\u001b[39m,\n\u001b[1;32m      3\u001b[0m                                                                        encoding\u001b[38;5;241m=\u001b[39m\u001b[38;5;124m'\u001b[39m\u001b[38;5;124mutf-8\u001b[39m\u001b[38;5;124m'\u001b[39m, mode\u001b[38;5;241m=\u001b[39m\u001b[38;5;124m'\u001b[39m\u001b[38;5;124mw\u001b[39m\u001b[38;5;124m'\u001b[39m, index\u001b[38;5;241m=\u001b[39m\u001b[38;5;28;01mFalse\u001b[39;00m, sep\u001b[38;5;241m=\u001b[39m\u001b[38;5;124m'\u001b[39m\u001b[38;5;130;01m\\t\u001b[39;00m\u001b[38;5;124m'\u001b[39m)\n\u001b[1;32m      4\u001b[0m pd\u001b[38;5;241m.\u001b[39mDataFrame(confusion_matrix(test_input_copy[\u001b[38;5;124m'\u001b[39m\u001b[38;5;124mksic\u001b[39m\u001b[38;5;124m'\u001b[39m],\n\u001b[1;32m      5\u001b[0m                               test_input_copy[\u001b[38;5;124m'\u001b[39m\u001b[38;5;124mksic_ab_top1\u001b[39m\u001b[38;5;124m'\u001b[39m], labels\u001b[38;5;241m=\u001b[39m\u001b[38;5;28;01mTrue\u001b[39;00m))\u001b[38;5;241m.\u001b[39mto_csv(\u001b[38;5;124m'\u001b[39m\u001b[38;5;124m.cache/confusion_ab.csv\u001b[39m\u001b[38;5;124m'\u001b[39m,\n\u001b[1;32m      6\u001b[0m                                                                        encoding\u001b[38;5;241m=\u001b[39m\u001b[38;5;124m'\u001b[39m\u001b[38;5;124mutf-8\u001b[39m\u001b[38;5;124m'\u001b[39m, mode\u001b[38;5;241m=\u001b[39m\u001b[38;5;124m'\u001b[39m\u001b[38;5;124mw\u001b[39m\u001b[38;5;124m'\u001b[39m, index\u001b[38;5;241m=\u001b[39m\u001b[38;5;28;01mFalse\u001b[39;00m, sep\u001b[38;5;241m=\u001b[39m\u001b[38;5;124m'\u001b[39m\u001b[38;5;130;01m\\t\u001b[39;00m\u001b[38;5;124m'\u001b[39m)\n\u001b[1;32m      7\u001b[0m pd\u001b[38;5;241m.\u001b[39mDataFrame(confusion_matrix(test_input_copy[\u001b[38;5;124m'\u001b[39m\u001b[38;5;124mksic\u001b[39m\u001b[38;5;124m'\u001b[39m], \n\u001b[1;32m      8\u001b[0m                               test_input_copy[\u001b[38;5;124m'\u001b[39m\u001b[38;5;124mksic_cl_top1\u001b[39m\u001b[38;5;124m'\u001b[39m], labels\u001b[38;5;241m=\u001b[39m\u001b[38;5;28;01mTrue\u001b[39;00m))\u001b[38;5;241m.\u001b[39mto_csv(\u001b[38;5;124m'\u001b[39m\u001b[38;5;124m.cache/confusion_cl.csv\u001b[39m\u001b[38;5;124m'\u001b[39m,\n\u001b[1;32m      9\u001b[0m                                                                        encoding\u001b[38;5;241m=\u001b[39m\u001b[38;5;124m'\u001b[39m\u001b[38;5;124mutf-8\u001b[39m\u001b[38;5;124m'\u001b[39m, mode\u001b[38;5;241m=\u001b[39m\u001b[38;5;124m'\u001b[39m\u001b[38;5;124mw\u001b[39m\u001b[38;5;124m'\u001b[39m, index\u001b[38;5;241m=\u001b[39m\u001b[38;5;28;01mFalse\u001b[39;00m, sep\u001b[38;5;241m=\u001b[39m\u001b[38;5;124m'\u001b[39m\u001b[38;5;130;01m\\t\u001b[39;00m\u001b[38;5;124m'\u001b[39m)\n",
      "File \u001b[0;32m~/PycharmProjects/KoBERT-master/venv/lib/python3.8/site-packages/sklearn/metrics/_classification.py:320\u001b[0m, in \u001b[0;36mconfusion_matrix\u001b[0;34m(y_true, y_pred, labels, sample_weight, normalize)\u001b[0m\n\u001b[1;32m    318\u001b[0m     \u001b[38;5;28;01melif\u001b[39;00m y_true\u001b[38;5;241m.\u001b[39msize \u001b[38;5;241m==\u001b[39m \u001b[38;5;241m0\u001b[39m:\n\u001b[1;32m    319\u001b[0m         \u001b[38;5;28;01mreturn\u001b[39;00m np\u001b[38;5;241m.\u001b[39mzeros((n_labels, n_labels), dtype\u001b[38;5;241m=\u001b[39m\u001b[38;5;28mint\u001b[39m)\n\u001b[0;32m--> 320\u001b[0m     \u001b[38;5;28;01melif\u001b[39;00m \u001b[38;5;28mlen\u001b[39m(\u001b[43mnp\u001b[49m\u001b[38;5;241;43m.\u001b[39;49m\u001b[43mintersect1d\u001b[49m\u001b[43m(\u001b[49m\u001b[43my_true\u001b[49m\u001b[43m,\u001b[49m\u001b[43m \u001b[49m\u001b[43mlabels\u001b[49m\u001b[43m)\u001b[49m) \u001b[38;5;241m==\u001b[39m \u001b[38;5;241m0\u001b[39m:\n\u001b[1;32m    321\u001b[0m         \u001b[38;5;28;01mraise\u001b[39;00m \u001b[38;5;167;01mValueError\u001b[39;00m(\u001b[38;5;124m\"\u001b[39m\u001b[38;5;124mAt least one label specified must be in y_true\u001b[39m\u001b[38;5;124m\"\u001b[39m)\n\u001b[1;32m    323\u001b[0m \u001b[38;5;28;01mif\u001b[39;00m sample_weight \u001b[38;5;129;01mis\u001b[39;00m \u001b[38;5;28;01mNone\u001b[39;00m:\n",
      "File \u001b[0;32m<__array_function__ internals>:180\u001b[0m, in \u001b[0;36mintersect1d\u001b[0;34m(*args, **kwargs)\u001b[0m\n",
      "File \u001b[0;32m~/PycharmProjects/KoBERT-master/venv/lib/python3.8/site-packages/numpy/lib/arraysetops.py:451\u001b[0m, in \u001b[0;36mintersect1d\u001b[0;34m(ar1, ar2, assume_unique, return_indices)\u001b[0m\n\u001b[1;32m    449\u001b[0m     aux \u001b[38;5;241m=\u001b[39m aux[aux_sort_indices]\n\u001b[1;32m    450\u001b[0m \u001b[38;5;28;01melse\u001b[39;00m:\n\u001b[0;32m--> 451\u001b[0m     \u001b[43maux\u001b[49m\u001b[38;5;241;43m.\u001b[39;49m\u001b[43msort\u001b[49m\u001b[43m(\u001b[49m\u001b[43m)\u001b[49m\n\u001b[1;32m    453\u001b[0m mask \u001b[38;5;241m=\u001b[39m aux[\u001b[38;5;241m1\u001b[39m:] \u001b[38;5;241m==\u001b[39m aux[:\u001b[38;5;241m-\u001b[39m\u001b[38;5;241m1\u001b[39m]\n\u001b[1;32m    454\u001b[0m int1d \u001b[38;5;241m=\u001b[39m aux[:\u001b[38;5;241m-\u001b[39m\u001b[38;5;241m1\u001b[39m][mask]\n",
      "\u001b[0;31mTypeError\u001b[0m: '<' not supported between instances of 'bool' and 'str'"
     ]
    }
   ],
   "source": [
    "pd.DataFrame(confusion_matrix(test_input_copy['ksic'],\n",
    "                              test_input_copy['ksic_tl_top1'], labels=True)).to_csv('.cache/confusion_tl.csv',\n",
    "                                                                       encoding='utf-8', mode='w', index=False, sep='\\t')\n",
    "pd.DataFrame(confusion_matrix(test_input_copy['ksic'],\n",
    "                              test_input_copy['ksic_ab_top1'], labels=True)).to_csv('.cache/confusion_ab.csv',\n",
    "                                                                       encoding='utf-8', mode='w', index=False, sep='\\t')\n",
    "pd.DataFrame(confusion_matrix(test_input_copy['ksic'], \n",
    "                              test_input_copy['ksic_cl_top1'], labels=True)).to_csv('.cache/confusion_cl.csv',\n",
    "                                                                       encoding='utf-8', mode='w', index=False, sep='\\t')"
   ]
  },
  {
   "cell_type": "code",
   "execution_count": 120,
   "id": "b5015aea",
   "metadata": {},
   "outputs": [],
   "source": []
  },
  {
   "cell_type": "code",
   "execution_count": 124,
   "id": "a480240d",
   "metadata": {},
   "outputs": [],
   "source": [
    "??confusion_matrix"
   ]
  },
  {
   "cell_type": "code",
   "execution_count": 120,
   "id": "b9cdc5d5",
   "metadata": {},
   "outputs": [],
   "source": [
    "class BERTDataset_no_label(Dataset):\n",
    "    def __init__(self, dataset, bert_tokenizer, max_len,\n",
    "                 pad, pair):\n",
    "        transform = nlp.data.BERTSentenceTransform(\n",
    "            bert_tokenizer, max_seq_length=max_len, pad=pad, pair=pair)\n",
    "\n",
    "        self.sentences = [transform([i]) for i in tqdm(dataset['text'])]\n",
    "#         self.labels = [np.int32(i[label_idx]) for i in tqdm(dataset)]\n",
    "\n",
    "    def __getitem__(self, i):\n",
    "        return (self.sentences[i])\n",
    "\n",
    "    def __len__(self):\n",
    "        return (len(self.sentences))"
   ]
  },
  {
   "cell_type": "markdown",
   "id": "386667c7",
   "metadata": {},
   "source": [
    "### 20220602 공개건 대상 테스트"
   ]
  },
  {
   "cell_type": "code",
   "execution_count": 54,
   "id": "761e1c63",
   "metadata": {},
   "outputs": [
    {
     "name": "stderr",
     "output_type": "stream",
     "text": [
      "  0%|          | 0/1462 [05:24<?, ?it/s]\n",
      "100%|██████████| 1462/1462 [00:00<00:00, 20946.16it/s]\n"
     ]
    }
   ],
   "source": [
    "test_input2 = pd.read_excel('.cache/pd20220602_testset.xlsx')\n",
    "test_input2_copy = test_input2.copy()\n",
    "# test_input2_copy['요약'].fillna(test_input2_copy['발명의명칭'], inplace=True)\n",
    "# test_input2_copy['대표청구항'].fillna(test_input2_copy['요약'], inplace=True)\n",
    "test_title2_ds = test_input2_copy[['발명의명칭']].copy()\n",
    "test_title2_ds.rename(columns={'발명의명칭': 'text'}, inplace=True)\n",
    "test_tl_id2 = BERTDataset_no_label(test_title2_ds, tok, max_len, True, False)\n",
    "test_tl_dataloader2 = torch.utils.data.DataLoader(test_tl_id2, batch_size=batch_size, num_workers=8, shuffle=False)\n"
   ]
  },
  {
   "cell_type": "code",
   "execution_count": 56,
   "id": "4e674bb6",
   "metadata": {},
   "outputs": [
    {
     "name": "stderr",
     "output_type": "stream",
     "text": [
      "100%|██████████| 92/92 [00:08<00:00, 10.36it/s]"
     ]
    },
    {
     "name": "stdout",
     "output_type": "stream",
     "text": [
      "CPU times: user 8.77 s, sys: 202 ms, total: 8.97 s\n",
      "Wall time: 9.11 s\n"
     ]
    },
    {
     "name": "stderr",
     "output_type": "stream",
     "text": [
      "\n"
     ]
    }
   ],
   "source": [
    "%%time\n",
    "test_acc2 = 0.0\n",
    "tl_out2 = []\n",
    "tl_max_indices2 = []\n",
    "for batch_id, (token_ids, valid_length, segment_ids) in tqdm(enumerate(test_tl_dataloader2), total=len(test_tl_dataloader2)):\n",
    "    token_ids = token_ids.long().to(device)\n",
    "    segment_ids = segment_ids.long().to(device)\n",
    "    valid_length= valid_length\n",
    "#     label = label.long().to(device)\n",
    "    out = model(token_ids, valid_length, segment_ids)\n",
    "    max_vals, max_indices = torch.max(out, 1)\n",
    "#     results.extend([out.tolist(), max_vals.tolist(), max_indices.tolist()])\n",
    "#     cl_results.append([out.tolist(), max_vals.tolist(), max_indices.tolist()])\n",
    "    tl_out2.extend(out.tolist())\n",
    "    tl_max_indices2.extend(max_indices.tolist())\n",
    "#     test_acc += calc_accuracy(out, label)\n",
    "#     if batch_id % 3000 == 0:\n",
    "#         print(time.strftime('%l:%M%p %Z on %b %d, %Y'), 'batch_id: ', batch_id, ', test acc {}'.format(test_acc / (batch_id+1)), )"
   ]
  },
  {
   "cell_type": "code",
   "execution_count": 79,
   "id": "65551ec4",
   "metadata": {},
   "outputs": [],
   "source": [
    "tl_out2_topn = np.array(tl_out2).argsort()\n",
    "tl_out2_top3 = tl_out2_topn[:,-3:]\n",
    "tl_top3_pd = pd.DataFrame(tl_out2_top3, columns=['tl_top3', 'tl_top2', 'tl_top1'])\n",
    "test_input_copy2 = pd.concat([test_input2_copy, tl_top3_pd], axis=1)\n",
    "test_input_copy2['ksic_tl_top3'] = test_input_copy2['tl_top3'].map(ksic_index_dict)\n",
    "test_input_copy2['ksic_tl_top2'] = test_input_copy2['tl_top2'].map(ksic_index_dict)\n",
    "test_input_copy2['ksic_tl_top1'] = test_input_copy2['tl_top1'].map(ksic_index_dict)\n"
   ]
  },
  {
   "cell_type": "code",
   "execution_count": 82,
   "id": "a1b13f64",
   "metadata": {},
   "outputs": [],
   "source": [
    "test_input_copy2.to_excel('.cache/pd20220602_testset_result.xlsx')"
   ]
  },
  {
   "cell_type": "markdown",
   "id": "d2a2810b",
   "metadata": {},
   "source": [
    "### 한문장씩 입력으로 받아서 예측하는 함수"
   ]
  },
  {
   "cell_type": "code",
   "execution_count": 165,
   "id": "fe578426",
   "metadata": {},
   "outputs": [],
   "source": [
    "ksic_label = pd.read_csv('.cache/KSIC_567_label.csv', encoding='utf-8', delimiter='\\t')"
   ]
  },
  {
   "cell_type": "code",
   "execution_count": 140,
   "id": "7312662d",
   "metadata": {},
   "outputs": [],
   "source": [
    "tok = nlp.data.BERTSPTokenizer(tokenizer, vocab, lower=False)\n",
    "transform = nlp.data.BERTSentenceTransform(tok, max_seq_length=256, pad=True, pair=False)"
   ]
  },
  {
   "cell_type": "code",
   "execution_count": 197,
   "id": "1adaf698",
   "metadata": {},
   "outputs": [],
   "source": [
    "def sample_pred(sample):\n",
    "    sample = [sample]\n",
    "    sample_id = transform(sample)\n",
    "    # sample_id[0]\n",
    "    # test_tl_dataloader = torch.utils.data.DataLoader(sample_id, batch_size=batch_size, num_workers=8, shuffle=False)\n",
    "\n",
    "    out = model(torch.tensor([sample_id[0]]).long().to(device),\n",
    "                [sample_id[1]],\n",
    "                torch.tensor([sample_id[2]]).long().to(device))\n",
    "    result = out.tolist()\n",
    "    result_top3 = np.array(result[0]).argsort()[-3:]  # ['27199', '26329', '27112']\n",
    "    for i, pred in enumerate(result_top3[::-1]):\n",
    "        print('top ', i, ': ', ksic_label[ksic_label['코드']==ksic_index_dict[pred]]['코드'].to_string(index=False),\n",
    "             ksic_label[ksic_label['코드']==ksic_index_dict[pred]]['항목명'].to_string(index=False))"
   ]
  },
  {
   "cell_type": "code",
   "execution_count": 223,
   "id": "a7fee922",
   "metadata": {
    "scrolled": true
   },
   "outputs": [
    {
     "name": "stdout",
     "output_type": "stream",
     "text": [
      "텍스트를 입력해주세요\n",
      "본 발명은 천마를 주성분으로 하는 건강음료이다. 더 상세하게는 천마의 불쾌취 성분을 최소화함으로써 유용 성분을 다량 함유한 천마를 부담 없이 섭취할 수 있도록 하고, 또한 이를 전통적인 한약재와 적절히 배합하여 우수한 기능성을 부여한 건강음료에 관한 것이다. 본 발명은 천마 추출액 및, 백복령, 감초, 숙지황, 백작약, 천궁, 당귀, 대추, 오미자, 구기자로 구성된 한약재의 추출액을 포함하는 것을 특징으로 한다.\n",
      "top  0 :  10309 기타 과실ㆍ채소 가공 및 저장 처리업\n",
      "top  1 :  21220 한의약품 제조업\n",
      "top  2 :  10792 차류 가공업\n"
     ]
    }
   ],
   "source": [
    "sample_pred(input('텍스트를 입력해주세요\\n'))"
   ]
  },
  {
   "cell_type": "code",
   "execution_count": 158,
   "id": "a6fb44ef",
   "metadata": {},
   "outputs": [
    {
     "data": {
      "text/plain": [
       "['27199', '26329', '27112']"
      ]
     },
     "execution_count": 158,
     "metadata": {},
     "output_type": "execute_result"
    }
   ],
   "source": [
    "# 간섭 패턴에 기초하여 오브젝트에 대한 복수의 깊이 정보들을 획득함으로써 오브젝트를 스캔한다.\n"
   ]
  },
  {
   "cell_type": "code",
   "execution_count": 173,
   "id": "9ec9c837",
   "metadata": {},
   "outputs": [
    {
     "data": {
      "text/html": [
       "<div>\n",
       "<style scoped>\n",
       "    .dataframe tbody tr th:only-of-type {\n",
       "        vertical-align: middle;\n",
       "    }\n",
       "\n",
       "    .dataframe tbody tr th {\n",
       "        vertical-align: top;\n",
       "    }\n",
       "\n",
       "    .dataframe thead th {\n",
       "        text-align: right;\n",
       "    }\n",
       "</style>\n",
       "<table border=\"1\" class=\"dataframe\">\n",
       "  <thead>\n",
       "    <tr style=\"text-align: right;\">\n",
       "      <th></th>\n",
       "      <th>연번</th>\n",
       "      <th>코드</th>\n",
       "      <th>항목명</th>\n",
       "    </tr>\n",
       "  </thead>\n",
       "  <tbody>\n",
       "    <tr>\n",
       "      <th>312</th>\n",
       "      <td>313</td>\n",
       "      <td>27112</td>\n",
       "      <td>전기식 진단 및 요법 기기 제조업</td>\n",
       "    </tr>\n",
       "  </tbody>\n",
       "</table>\n",
       "</div>"
      ],
      "text/plain": [
       "      연번     코드                 항목명\n",
       "312  313  27112  전기식 진단 및 요법 기기 제조업"
      ]
     },
     "execution_count": 173,
     "metadata": {},
     "output_type": "execute_result"
    }
   ],
   "source": []
  },
  {
   "cell_type": "markdown",
   "id": "2581a58b",
   "metadata": {},
   "source": [
    "### 20220331 국가핵심 납품 목록 테스트\n",
    "* 2022.01~03까지 납품된 34314건 중, KSIC는 1565건에 부여되어 있으며,\n",
    "* 출원번호로 키위에서 확인 결과 501건이 공개됨(공개, 등록 모두 포함, 출원번호 10-2022-0007684 같은 중복 존재)"
   ]
  },
  {
   "cell_type": "markdown",
   "id": "8bd0fc17",
   "metadata": {},
   "source": [
    "#### 발명의 명칭으로 예측"
   ]
  },
  {
   "cell_type": "code",
   "execution_count": 130,
   "id": "034f4f30",
   "metadata": {},
   "outputs": [
    {
     "name": "stderr",
     "output_type": "stream",
     "text": [
      "100%|██████████| 501/501 [00:00<00:00, 20081.48it/s]\n"
     ]
    }
   ],
   "source": [
    "test_input3 = pd.read_excel('.cache/20220331_ksic_testset.xlsx')\n",
    "test_input3_copy = test_input3.copy()\n",
    "# test_input2_copy['요약'].fillna(test_input2_copy['발명의명칭'], inplace=True)\n",
    "# test_input2_copy['대표청구항'].fillna(test_input2_copy['요약'], inplace=True)\n",
    "test_title3_ds = test_input3_copy[['발명의명칭']].copy()\n",
    "test_title3_ds.rename(columns={'발명의명칭': 'text'}, inplace=True)\n",
    "test_tl_id3 = BERTDataset_no_label(test_title3_ds, tok, max_len, True, False)\n",
    "test_tl_dataloader3 = torch.utils.data.DataLoader(test_tl_id3, batch_size=batch_size, num_workers=8, shuffle=False)\n"
   ]
  },
  {
   "cell_type": "code",
   "execution_count": 131,
   "id": "71a1beae",
   "metadata": {
    "scrolled": true
   },
   "outputs": [
    {
     "name": "stderr",
     "output_type": "stream",
     "text": [
      "100%|██████████| 32/32 [00:03<00:00, 10.44it/s]"
     ]
    },
    {
     "name": "stdout",
     "output_type": "stream",
     "text": [
      "CPU times: user 3.03 s, sys: 190 ms, total: 3.22 s\n",
      "Wall time: 3.31 s\n"
     ]
    },
    {
     "name": "stderr",
     "output_type": "stream",
     "text": [
      "\n"
     ]
    }
   ],
   "source": [
    "%%time\n",
    "test_acc3 = 0.0\n",
    "tl_out3 = []\n",
    "tl_max_indices3 = []\n",
    "for batch_id, (token_ids, valid_length, segment_ids) in tqdm(enumerate(test_tl_dataloader3), total=len(test_tl_dataloader3)):\n",
    "    token_ids = token_ids.long().to(device)\n",
    "    segment_ids = segment_ids.long().to(device)\n",
    "    valid_length= valid_length\n",
    "#     label = label.long().to(device)\n",
    "    out = model(token_ids, valid_length, segment_ids)\n",
    "    max_vals, max_indices = torch.max(out, 1)\n",
    "#     results.extend([out.tolist(), max_vals.tolist(), max_indices.tolist()])\n",
    "#     cl_results.append([out.tolist(), max_vals.tolist(), max_indices.tolist()])\n",
    "    tl_out3.extend(out.tolist())\n",
    "    tl_max_indices3.extend(max_indices.tolist())\n",
    "#     test_acc += calc_accuracy(out, label)\n",
    "#     if batch_id % 3000 == 0:\n",
    "#         print(time.strftime('%l:%M%p %Z on %b %d, %Y'), 'batch_id: ', batch_id, ', test acc {}'.format(test_acc / (batch_id+1)), )"
   ]
  },
  {
   "cell_type": "code",
   "execution_count": 132,
   "id": "d9044d40",
   "metadata": {},
   "outputs": [],
   "source": [
    "tl_out3_topn = np.array(tl_out3).argsort()\n",
    "tl_out3_top3 = tl_out3_topn[:,-3:]\n",
    "tl_top3_pd = pd.DataFrame(tl_out3_top3, columns=['tl_top3', 'tl_top2', 'tl_top1'])\n",
    "test_input_copy3 = pd.concat([test_input3_copy, tl_top3_pd], axis=1)\n",
    "test_input_copy3['ksic_tl_top3'] = test_input_copy3['tl_top3'].map(ksic_index_dict)\n",
    "test_input_copy3['ksic_tl_top2'] = test_input_copy3['tl_top2'].map(ksic_index_dict)\n",
    "test_input_copy3['ksic_tl_top1'] = test_input_copy3['tl_top1'].map(ksic_index_dict)\n"
   ]
  },
  {
   "cell_type": "code",
   "execution_count": 237,
   "id": "5dcc130d",
   "metadata": {},
   "outputs": [],
   "source": [
    "test_input_copy3.to_excel('.cache/20220331_ksic_testset_result.xlsx')"
   ]
  },
  {
   "cell_type": "code",
   "execution_count": 233,
   "id": "82b0b63b",
   "metadata": {},
   "outputs": [
    {
     "data": {
      "text/html": [
       "<div>\n",
       "<style scoped>\n",
       "    .dataframe tbody tr th:only-of-type {\n",
       "        vertical-align: middle;\n",
       "    }\n",
       "\n",
       "    .dataframe tbody tr th {\n",
       "        vertical-align: top;\n",
       "    }\n",
       "\n",
       "    .dataframe thead th {\n",
       "        text-align: right;\n",
       "    }\n",
       "</style>\n",
       "<table border=\"1\" class=\"dataframe\">\n",
       "  <thead>\n",
       "    <tr style=\"text-align: right;\">\n",
       "      <th></th>\n",
       "      <th>특허번호</th>\n",
       "      <th>출원번호</th>\n",
       "      <th>발행번호</th>\n",
       "      <th>Original CPC</th>\n",
       "      <th>Current CPC</th>\n",
       "      <th>요약</th>\n",
       "      <th>대표청구항</th>\n",
       "      <th>발명의명칭</th>\n",
       "    </tr>\n",
       "  </thead>\n",
       "  <tbody>\n",
       "    <tr>\n",
       "      <th>0</th>\n",
       "      <td>KR102380739 B1</td>\n",
       "      <td>KR102022000001315</td>\n",
       "      <td>KR10002380739B1</td>\n",
       "      <td>B60L53/11 | B60L53/24 | B60L53/35 | H02M1/0064...</td>\n",
       "      <td>B60L53/11 | B60L53/24 | B60L53/35 | H02M1/0064...</td>\n",
       "      <td>\\t\\t본 발명에서는, 3상4선식 필터를 적용한 전기자동차 급속충전장치에 있어서, ...</td>\n",
       "      <td>3상4선식 필터를 적용한 전기자동차 급속충전장치에 있어서,상기 전기자동차 급속충전장...</td>\n",
       "      <td>3상4선식 필터를 적용한 전기자동차 급속충전장치</td>\n",
       "    </tr>\n",
       "    <tr>\n",
       "      <th>1</th>\n",
       "      <td>KR1020220010046 A</td>\n",
       "      <td>KR102022000002985</td>\n",
       "      <td>KR102022000010046A</td>\n",
       "      <td>H04W56/0015 | H04J11/0073 | H04J11/0076 | H04J...</td>\n",
       "      <td>H04W56/0015 | H04W92/18 | H04J11/0073 | H04J11...</td>\n",
       "      <td>\\t\\t본 발명은 D2D 통신을 위한 동기화 신호 구성 방법 및 장치에 관한 것이다...</td>\n",
       "      <td>제1 무선 사용자 장치(wireless user device)에 있어서,제2 무선 ...</td>\n",
       "      <td>D2D 통신을 위한 동기화 신호 구성 방법 및 장치</td>\n",
       "    </tr>\n",
       "  </tbody>\n",
       "</table>\n",
       "</div>"
      ],
      "text/plain": [
       "                특허번호               출원번호                발행번호  \\\n",
       "0     KR102380739 B1  KR102022000001315     KR10002380739B1   \n",
       "1  KR1020220010046 A  KR102022000002985  KR102022000010046A   \n",
       "\n",
       "                                        Original CPC  \\\n",
       "0  B60L53/11 | B60L53/24 | B60L53/35 | H02M1/0064...   \n",
       "1  H04W56/0015 | H04J11/0073 | H04J11/0076 | H04J...   \n",
       "\n",
       "                                         Current CPC  \\\n",
       "0  B60L53/11 | B60L53/24 | B60L53/35 | H02M1/0064...   \n",
       "1  H04W56/0015 | H04W92/18 | H04J11/0073 | H04J11...   \n",
       "\n",
       "                                                  요약  \\\n",
       "0  \\t\\t본 발명에서는, 3상4선식 필터를 적용한 전기자동차 급속충전장치에 있어서, ...   \n",
       "1  \\t\\t본 발명은 D2D 통신을 위한 동기화 신호 구성 방법 및 장치에 관한 것이다...   \n",
       "\n",
       "                                               대표청구항  \\\n",
       "0  3상4선식 필터를 적용한 전기자동차 급속충전장치에 있어서,상기 전기자동차 급속충전장...   \n",
       "1  제1 무선 사용자 장치(wireless user device)에 있어서,제2 무선 ...   \n",
       "\n",
       "                          발명의명칭  \n",
       "0    3상4선식 필터를 적용한 전기자동차 급속충전장치  \n",
       "1  D2D 통신을 위한 동기화 신호 구성 방법 및 장치  "
      ]
     },
     "execution_count": 233,
     "metadata": {},
     "output_type": "execute_result"
    }
   ],
   "source": [
    "test_input3[:2]"
   ]
  },
  {
   "cell_type": "code",
   "execution_count": 133,
   "id": "d044ff15",
   "metadata": {},
   "outputs": [],
   "source": [
    "test_result3 = pd.read_excel('.cache/20220331_ksic_testset_result2.xlsx')"
   ]
  },
  {
   "cell_type": "code",
   "execution_count": 160,
   "id": "f6a6e89e",
   "metadata": {},
   "outputs": [],
   "source": [
    "test_result3_copy=test_result3[['특허번호', '출원번호', 'Original CPC', 'Current CPC', '발명의명칭', '요약', '대표청구항', '분류원 결과',\n",
    "             'tl_top3', 'tl_top2', 'tl_top1', 'ksic_tl_top3', 'ksic_tl_top2', 'ksic_tl_top1']].copy()"
   ]
  },
  {
   "cell_type": "code",
   "execution_count": 135,
   "id": "cc4e9018",
   "metadata": {},
   "outputs": [],
   "source": [
    "# test_result3_copy[:2]"
   ]
  },
  {
   "cell_type": "code",
   "execution_count": 136,
   "id": "591526c2",
   "metadata": {},
   "outputs": [],
   "source": [
    "test_result3_copy['분류원 결과2'] = test_result3_copy['분류원 결과'].str.lower()\n",
    "test_result3_copy['분류원 결과2'] = test_result3_copy['분류원 결과2'].str.replace('c','')\n",
    "# test_result3_copy['분류원 결과2'] = test_result3_copy['분류원 결과2'].str.split(',')"
   ]
  },
  {
   "cell_type": "code",
   "execution_count": 137,
   "id": "f3e0e960",
   "metadata": {},
   "outputs": [],
   "source": [
    "test_result3_copy['top1_acc'] = test_result3_copy.apply(\n",
    "    lambda x:'30332' in test_result3_copy['분류원 결과'], axis=1)\n",
    "# test_result3_copy.loc[test_result3_copy['분류원 결과'].str.contains(str(test_result3_copy['ksic_tl_top1']))]"
   ]
  },
  {
   "cell_type": "code",
   "execution_count": 161,
   "id": "ecff4588",
   "metadata": {},
   "outputs": [
    {
     "data": {
      "text/html": [
       "<div>\n",
       "<style scoped>\n",
       "    .dataframe tbody tr th:only-of-type {\n",
       "        vertical-align: middle;\n",
       "    }\n",
       "\n",
       "    .dataframe tbody tr th {\n",
       "        vertical-align: top;\n",
       "    }\n",
       "\n",
       "    .dataframe thead th {\n",
       "        text-align: right;\n",
       "    }\n",
       "</style>\n",
       "<table border=\"1\" class=\"dataframe\">\n",
       "  <thead>\n",
       "    <tr style=\"text-align: right;\">\n",
       "      <th></th>\n",
       "      <th>특허번호</th>\n",
       "      <th>출원번호</th>\n",
       "      <th>Original CPC</th>\n",
       "      <th>Current CPC</th>\n",
       "      <th>발명의명칭</th>\n",
       "      <th>요약</th>\n",
       "      <th>대표청구항</th>\n",
       "      <th>분류원 결과</th>\n",
       "      <th>tl_top3</th>\n",
       "      <th>tl_top2</th>\n",
       "      <th>tl_top1</th>\n",
       "      <th>ksic_tl_top3</th>\n",
       "      <th>ksic_tl_top2</th>\n",
       "      <th>ksic_tl_top1</th>\n",
       "    </tr>\n",
       "  </thead>\n",
       "  <tbody>\n",
       "    <tr>\n",
       "      <th>0</th>\n",
       "      <td>KR102380739 B1</td>\n",
       "      <td>KR102022000001315</td>\n",
       "      <td>B60L53/11 | B60L53/24 | B60L53/35 | H02M1/0064...</td>\n",
       "      <td>B60L53/11 | B60L53/24 | B60L53/35 | H02M1/0064...</td>\n",
       "      <td>3상4선식 필터를 적용한 전기자동차 급속충전장치</td>\n",
       "      <td>\\t\\t본 발명에서는, 3상4선식 필터를 적용한 전기자동차 급속충전장치에 있어서, ...</td>\n",
       "      <td>3상4선식 필터를 적용한 전기자동차 급속충전장치에 있어서,상기 전기자동차 급속충전장...</td>\n",
       "      <td>C30332</td>\n",
       "      <td>75</td>\n",
       "      <td>285</td>\n",
       "      <td>349</td>\n",
       "      <td>28119</td>\n",
       "      <td>30331</td>\n",
       "      <td>30332</td>\n",
       "    </tr>\n",
       "  </tbody>\n",
       "</table>\n",
       "</div>"
      ],
      "text/plain": [
       "             특허번호               출원번호  \\\n",
       "0  KR102380739 B1  KR102022000001315   \n",
       "\n",
       "                                        Original CPC  \\\n",
       "0  B60L53/11 | B60L53/24 | B60L53/35 | H02M1/0064...   \n",
       "\n",
       "                                         Current CPC  \\\n",
       "0  B60L53/11 | B60L53/24 | B60L53/35 | H02M1/0064...   \n",
       "\n",
       "                        발명의명칭  \\\n",
       "0  3상4선식 필터를 적용한 전기자동차 급속충전장치   \n",
       "\n",
       "                                                  요약  \\\n",
       "0  \\t\\t본 발명에서는, 3상4선식 필터를 적용한 전기자동차 급속충전장치에 있어서, ...   \n",
       "\n",
       "                                               대표청구항  분류원 결과  tl_top3  \\\n",
       "0  3상4선식 필터를 적용한 전기자동차 급속충전장치에 있어서,상기 전기자동차 급속충전장...  C30332       75   \n",
       "\n",
       "   tl_top2  tl_top1  ksic_tl_top3 ksic_tl_top2 ksic_tl_top1  \n",
       "0      285      349         28119        30331        30332  "
      ]
     },
     "execution_count": 161,
     "metadata": {},
     "output_type": "execute_result"
    }
   ],
   "source": [
    "test_result3_copy[:1]"
   ]
  },
  {
   "cell_type": "markdown",
   "id": "4d846387",
   "metadata": {},
   "source": [
    "#### 요약으로 예측"
   ]
  },
  {
   "cell_type": "code",
   "execution_count": 139,
   "id": "6d6c10a8",
   "metadata": {},
   "outputs": [
    {
     "name": "stderr",
     "output_type": "stream",
     "text": [
      "100%|██████████| 501/501 [00:00<00:00, 2810.33it/s]\n"
     ]
    }
   ],
   "source": [
    "# test_input3 = pd.read_excel('.cache/20220331_ksic_testset.xlsx')\n",
    "# test_input3_copy = test_input3.copy()\n",
    "# test_input2_copy['요약'].fillna(test_input2_copy['발명의명칭'], inplace=True)\n",
    "# test_input2_copy['대표청구항'].fillna(test_input2_copy['요약'], inplace=True)\n",
    "test_ab3_ds = test_input3_copy[['요약']].copy()\n",
    "test_ab3_ds.rename(columns={'요약': 'text'}, inplace=True)\n",
    "test_ab_id3 = BERTDataset_no_label(test_ab3_ds, tok, max_len, True, False)\n",
    "test_ab_dataloader3 = torch.utils.data.DataLoader(test_ab_id3, batch_size=batch_size, num_workers=8, shuffle=False)"
   ]
  },
  {
   "cell_type": "code",
   "execution_count": 140,
   "id": "3fcaa4e4",
   "metadata": {},
   "outputs": [
    {
     "name": "stderr",
     "output_type": "stream",
     "text": [
      "100%|██████████| 32/32 [00:03<00:00, 10.48it/s]"
     ]
    },
    {
     "name": "stdout",
     "output_type": "stream",
     "text": [
      "CPU times: user 3.02 s, sys: 200 ms, total: 3.22 s\n",
      "Wall time: 3.29 s\n"
     ]
    },
    {
     "name": "stderr",
     "output_type": "stream",
     "text": [
      "\n"
     ]
    }
   ],
   "source": [
    "%%time\n",
    "test_acc3 = 0.0\n",
    "ab_out3 = []\n",
    "ab_max_indices3 = []\n",
    "for batch_id, (token_ids, valid_length, segment_ids) in tqdm(enumerate(test_ab_dataloader3), total=len(test_ab_dataloader3)):\n",
    "    token_ids = token_ids.long().to(device)\n",
    "    segment_ids = segment_ids.long().to(device)\n",
    "    valid_length= valid_length\n",
    "#     label = label.long().to(device)\n",
    "    out = model(token_ids, valid_length, segment_ids)\n",
    "    max_vals, max_indices = torch.max(out, 1)\n",
    "#     results.extend([out.tolist(), max_vals.tolist(), max_indices.tolist()])\n",
    "#     cl_results.append([out.tolist(), max_vals.tolist(), max_indices.tolist()])\n",
    "    ab_out3.extend(out.tolist())\n",
    "    ab_max_indices3.extend(max_indices.tolist())\n",
    "#     test_acc += calc_accuracy(out, label)\n",
    "#     if batch_id % 3000 == 0:\n",
    "#         print(time.strftime('%l:%M%p %Z on %b %d, %Y'), 'batch_id: ', batch_id, ', test acc {}'.format(test_acc / (batch_id+1)), )"
   ]
  },
  {
   "cell_type": "code",
   "execution_count": 162,
   "id": "228483d6",
   "metadata": {},
   "outputs": [],
   "source": [
    "ab_out3_topn = np.array(ab_out3).argsort()\n",
    "ab_out3_top3 = ab_out3_topn[:,-3:]\n",
    "ab_top3_pd = pd.DataFrame(ab_out3_top3, columns=['ab_top3', 'ab_top2', 'ab_top1'])\n",
    "test_result3_copy = pd.concat([test_result3_copy, ab_top3_pd], axis=1)\n",
    "test_result3_copy['ksic_ab_top3'] = test_result3_copy['ab_top3'].map(ksic_index_dict)\n",
    "test_result3_copy['ksic_ab_top2'] = test_result3_copy['ab_top2'].map(ksic_index_dict)\n",
    "test_result3_copy['ksic_ab_top1'] = test_result3_copy['ab_top1'].map(ksic_index_dict)\n"
   ]
  },
  {
   "cell_type": "code",
   "execution_count": 163,
   "id": "1aac8218",
   "metadata": {},
   "outputs": [
    {
     "data": {
      "text/html": [
       "<div>\n",
       "<style scoped>\n",
       "    .dataframe tbody tr th:only-of-type {\n",
       "        vertical-align: middle;\n",
       "    }\n",
       "\n",
       "    .dataframe tbody tr th {\n",
       "        vertical-align: top;\n",
       "    }\n",
       "\n",
       "    .dataframe thead th {\n",
       "        text-align: right;\n",
       "    }\n",
       "</style>\n",
       "<table border=\"1\" class=\"dataframe\">\n",
       "  <thead>\n",
       "    <tr style=\"text-align: right;\">\n",
       "      <th></th>\n",
       "      <th>특허번호</th>\n",
       "      <th>출원번호</th>\n",
       "      <th>Original CPC</th>\n",
       "      <th>Current CPC</th>\n",
       "      <th>발명의명칭</th>\n",
       "      <th>요약</th>\n",
       "      <th>대표청구항</th>\n",
       "      <th>분류원 결과</th>\n",
       "      <th>tl_top3</th>\n",
       "      <th>tl_top2</th>\n",
       "      <th>tl_top1</th>\n",
       "      <th>ksic_tl_top3</th>\n",
       "      <th>ksic_tl_top2</th>\n",
       "      <th>ksic_tl_top1</th>\n",
       "      <th>ab_top3</th>\n",
       "      <th>ab_top2</th>\n",
       "      <th>ab_top1</th>\n",
       "      <th>ksic_ab_top3</th>\n",
       "      <th>ksic_ab_top2</th>\n",
       "      <th>ksic_ab_top1</th>\n",
       "    </tr>\n",
       "  </thead>\n",
       "  <tbody>\n",
       "    <tr>\n",
       "      <th>0</th>\n",
       "      <td>KR102380739 B1</td>\n",
       "      <td>KR102022000001315</td>\n",
       "      <td>B60L53/11 | B60L53/24 | B60L53/35 | H02M1/0064...</td>\n",
       "      <td>B60L53/11 | B60L53/24 | B60L53/35 | H02M1/0064...</td>\n",
       "      <td>3상4선식 필터를 적용한 전기자동차 급속충전장치</td>\n",
       "      <td>\\t\\t본 발명에서는, 3상4선식 필터를 적용한 전기자동차 급속충전장치에 있어서, ...</td>\n",
       "      <td>3상4선식 필터를 적용한 전기자동차 급속충전장치에 있어서,상기 전기자동차 급속충전장...</td>\n",
       "      <td>C30332</td>\n",
       "      <td>75</td>\n",
       "      <td>285</td>\n",
       "      <td>349</td>\n",
       "      <td>28119</td>\n",
       "      <td>30331</td>\n",
       "      <td>30332</td>\n",
       "      <td>338</td>\n",
       "      <td>285</td>\n",
       "      <td>349</td>\n",
       "      <td>29161</td>\n",
       "      <td>30331</td>\n",
       "      <td>30332</td>\n",
       "    </tr>\n",
       "    <tr>\n",
       "      <th>1</th>\n",
       "      <td>KR1020220010046 A</td>\n",
       "      <td>KR102022000002985</td>\n",
       "      <td>H04W56/0015 | H04J11/0073 | H04J11/0076 | H04J...</td>\n",
       "      <td>H04W56/0015 | H04W92/18 | H04J11/0073 | H04J11...</td>\n",
       "      <td>D2D 통신을 위한 동기화 신호 구성 방법 및 장치</td>\n",
       "      <td>\\t\\t본 발명은 D2D 통신을 위한 동기화 신호 구성 방법 및 장치에 관한 것이다...</td>\n",
       "      <td>제1 무선 사용자 장치(wireless user device)에 있어서,제2 무선 ...</td>\n",
       "      <td>C26422</td>\n",
       "      <td>225</td>\n",
       "      <td>447</td>\n",
       "      <td>284</td>\n",
       "      <td>26421</td>\n",
       "      <td>42321</td>\n",
       "      <td>26429</td>\n",
       "      <td>225</td>\n",
       "      <td>447</td>\n",
       "      <td>284</td>\n",
       "      <td>26421</td>\n",
       "      <td>42321</td>\n",
       "      <td>26429</td>\n",
       "    </tr>\n",
       "  </tbody>\n",
       "</table>\n",
       "</div>"
      ],
      "text/plain": [
       "                특허번호               출원번호  \\\n",
       "0     KR102380739 B1  KR102022000001315   \n",
       "1  KR1020220010046 A  KR102022000002985   \n",
       "\n",
       "                                        Original CPC  \\\n",
       "0  B60L53/11 | B60L53/24 | B60L53/35 | H02M1/0064...   \n",
       "1  H04W56/0015 | H04J11/0073 | H04J11/0076 | H04J...   \n",
       "\n",
       "                                         Current CPC  \\\n",
       "0  B60L53/11 | B60L53/24 | B60L53/35 | H02M1/0064...   \n",
       "1  H04W56/0015 | H04W92/18 | H04J11/0073 | H04J11...   \n",
       "\n",
       "                          발명의명칭  \\\n",
       "0    3상4선식 필터를 적용한 전기자동차 급속충전장치   \n",
       "1  D2D 통신을 위한 동기화 신호 구성 방법 및 장치   \n",
       "\n",
       "                                                  요약  \\\n",
       "0  \\t\\t본 발명에서는, 3상4선식 필터를 적용한 전기자동차 급속충전장치에 있어서, ...   \n",
       "1  \\t\\t본 발명은 D2D 통신을 위한 동기화 신호 구성 방법 및 장치에 관한 것이다...   \n",
       "\n",
       "                                               대표청구항  분류원 결과  tl_top3  \\\n",
       "0  3상4선식 필터를 적용한 전기자동차 급속충전장치에 있어서,상기 전기자동차 급속충전장...  C30332       75   \n",
       "1  제1 무선 사용자 장치(wireless user device)에 있어서,제2 무선 ...  C26422      225   \n",
       "\n",
       "   tl_top2  tl_top1  ksic_tl_top3 ksic_tl_top2 ksic_tl_top1  ab_top3  ab_top2  \\\n",
       "0      285      349         28119        30331        30332      338      285   \n",
       "1      447      284         26421        42321        26429      225      447   \n",
       "\n",
       "   ab_top1 ksic_ab_top3 ksic_ab_top2 ksic_ab_top1  \n",
       "0      349        29161        30331        30332  \n",
       "1      284        26421        42321        26429  "
      ]
     },
     "execution_count": 163,
     "metadata": {},
     "output_type": "execute_result"
    }
   ],
   "source": [
    "test_result3_copy[:2]"
   ]
  },
  {
   "cell_type": "markdown",
   "id": "e019272e",
   "metadata": {},
   "source": [
    "#### TL+AB 예측"
   ]
  },
  {
   "cell_type": "code",
   "execution_count": 147,
   "id": "a96d57b5",
   "metadata": {},
   "outputs": [],
   "source": [
    "test_result3_copy['tl_ab'] = test_result3_copy[['발명의명칭', '요약']].agg(' '.join, axis=1)"
   ]
  },
  {
   "cell_type": "code",
   "execution_count": 149,
   "id": "7dcc7bea",
   "metadata": {},
   "outputs": [
    {
     "data": {
      "text/html": [
       "<div>\n",
       "<style scoped>\n",
       "    .dataframe tbody tr th:only-of-type {\n",
       "        vertical-align: middle;\n",
       "    }\n",
       "\n",
       "    .dataframe tbody tr th {\n",
       "        vertical-align: top;\n",
       "    }\n",
       "\n",
       "    .dataframe thead th {\n",
       "        text-align: right;\n",
       "    }\n",
       "</style>\n",
       "<table border=\"1\" class=\"dataframe\">\n",
       "  <thead>\n",
       "    <tr style=\"text-align: right;\">\n",
       "      <th></th>\n",
       "      <th>특허번호</th>\n",
       "      <th>Original CPC</th>\n",
       "      <th>Current CPC</th>\n",
       "      <th>발명의명칭</th>\n",
       "      <th>요약</th>\n",
       "      <th>대표청구항</th>\n",
       "      <th>tl_top3</th>\n",
       "      <th>tl_top2</th>\n",
       "      <th>tl_top1</th>\n",
       "      <th>ksic_tl_top3</th>\n",
       "      <th>...</th>\n",
       "      <th>분류원 결과</th>\n",
       "      <th>분류원 결과2</th>\n",
       "      <th>top1_acc</th>\n",
       "      <th>ab_top3</th>\n",
       "      <th>ab_top2</th>\n",
       "      <th>ab_top1</th>\n",
       "      <th>ksic_ab_top3</th>\n",
       "      <th>ksic_ab_top2</th>\n",
       "      <th>ksic_ab_top1</th>\n",
       "      <th>tl_ab</th>\n",
       "    </tr>\n",
       "  </thead>\n",
       "  <tbody>\n",
       "    <tr>\n",
       "      <th>0</th>\n",
       "      <td>KR102380739 B1</td>\n",
       "      <td>B60L53/11 | B60L53/24 | B60L53/35 | H02M1/0064...</td>\n",
       "      <td>B60L53/11 | B60L53/24 | B60L53/35 | H02M1/0064...</td>\n",
       "      <td>3상4선식 필터를 적용한 전기자동차 급속충전장치</td>\n",
       "      <td>\\t\\t본 발명에서는, 3상4선식 필터를 적용한 전기자동차 급속충전장치에 있어서, ...</td>\n",
       "      <td>3상4선식 필터를 적용한 전기자동차 급속충전장치에 있어서,상기 전기자동차 급속충전장...</td>\n",
       "      <td>75</td>\n",
       "      <td>285</td>\n",
       "      <td>349</td>\n",
       "      <td>28119</td>\n",
       "      <td>...</td>\n",
       "      <td>C30332</td>\n",
       "      <td>30332</td>\n",
       "      <td>False</td>\n",
       "      <td>338</td>\n",
       "      <td>285</td>\n",
       "      <td>349</td>\n",
       "      <td>29161</td>\n",
       "      <td>30331</td>\n",
       "      <td>30332</td>\n",
       "      <td>3상4선식 필터를 적용한 전기자동차 급속충전장치 \\t\\t본 발명에서는, 3상4선식 ...</td>\n",
       "    </tr>\n",
       "  </tbody>\n",
       "</table>\n",
       "<p>1 rows × 22 columns</p>\n",
       "</div>"
      ],
      "text/plain": [
       "             특허번호                                       Original CPC  \\\n",
       "0  KR102380739 B1  B60L53/11 | B60L53/24 | B60L53/35 | H02M1/0064...   \n",
       "\n",
       "                                         Current CPC  \\\n",
       "0  B60L53/11 | B60L53/24 | B60L53/35 | H02M1/0064...   \n",
       "\n",
       "                        발명의명칭  \\\n",
       "0  3상4선식 필터를 적용한 전기자동차 급속충전장치   \n",
       "\n",
       "                                                  요약  \\\n",
       "0  \\t\\t본 발명에서는, 3상4선식 필터를 적용한 전기자동차 급속충전장치에 있어서, ...   \n",
       "\n",
       "                                               대표청구항  tl_top3  tl_top2  \\\n",
       "0  3상4선식 필터를 적용한 전기자동차 급속충전장치에 있어서,상기 전기자동차 급속충전장...       75      285   \n",
       "\n",
       "   tl_top1  ksic_tl_top3  ...  분류원 결과 분류원 결과2 top1_acc ab_top3  ab_top2  \\\n",
       "0      349         28119  ...  C30332   30332    False     338      285   \n",
       "\n",
       "   ab_top1  ksic_ab_top3  ksic_ab_top2 ksic_ab_top1  \\\n",
       "0      349         29161         30331        30332   \n",
       "\n",
       "                                               tl_ab  \n",
       "0  3상4선식 필터를 적용한 전기자동차 급속충전장치 \\t\\t본 발명에서는, 3상4선식 ...  \n",
       "\n",
       "[1 rows x 22 columns]"
      ]
     },
     "execution_count": 149,
     "metadata": {},
     "output_type": "execute_result"
    }
   ],
   "source": [
    "test_result3_copy[:1]"
   ]
  },
  {
   "cell_type": "code",
   "execution_count": 151,
   "id": "de76d187",
   "metadata": {},
   "outputs": [
    {
     "name": "stderr",
     "output_type": "stream",
     "text": [
      "100%|██████████| 501/501 [00:00<00:00, 2677.58it/s]\n",
      "100%|██████████| 32/32 [00:03<00:00, 10.41it/s]\n"
     ]
    }
   ],
   "source": [
    "test_tl_ab3_ds = test_result3_copy[['tl_ab']].copy()\n",
    "test_tl_ab3_ds.rename(columns={'tl_ab': 'text'}, inplace=True)\n",
    "test_tl_ab_id3 = BERTDataset_no_label(test_tl_ab3_ds, tok, max_len, True, False)\n",
    "test_tl_ab_dataloader3 = torch.utils.data.DataLoader(test_tl_ab_id3, batch_size=batch_size, num_workers=8, shuffle=False)\n",
    "# %%time\n",
    "test_acc3 = 0.0\n",
    "tl_ab_out3 = []\n",
    "tl_ab_max_indices3 = []\n",
    "for batch_id, (token_ids, valid_length, segment_ids) in tqdm(enumerate(test_tl_ab_dataloader3), total=len(test_tl_ab_dataloader3)):\n",
    "    token_ids = token_ids.long().to(device)\n",
    "    segment_ids = segment_ids.long().to(device)\n",
    "    valid_length= valid_length\n",
    "#     label = label.long().to(device)\n",
    "    out = model(token_ids, valid_length, segment_ids)\n",
    "    max_vals, max_indices = torch.max(out, 1)\n",
    "#     results.extend([out.tolist(), max_vals.tolist(), max_indices.tolist()])\n",
    "#     cl_results.append([out.tolist(), max_vals.tolist(), max_indices.tolist()])\n",
    "    tl_ab_out3.extend(out.tolist())\n",
    "    tl_ab_max_indices3.extend(max_indices.tolist())\n",
    "#     test_acc += calc_accuracy(out, label)\n",
    "#     if batch_id % 3000 == 0:\n",
    "#         print(time.strftime('%l:%M%p %Z on %b %d, %Y'), 'batch_id: ', batch_id, ', test acc {}'.format(test_acc / (batch_id+1)), )"
   ]
  },
  {
   "cell_type": "code",
   "execution_count": 164,
   "id": "736c82f5",
   "metadata": {},
   "outputs": [],
   "source": [
    "tl_ab_out3_topn = np.array(tl_ab_out3).argsort()\n",
    "tl_ab_out3_top3 = tl_ab_out3_topn[:,-3:]\n",
    "tl_ab_top3_pd = pd.DataFrame(tl_ab_out3_top3, columns=['tl_ab_top3', 'tl_ab_top2', 'tl_ab_top1'])\n",
    "test_result3_copy = pd.concat([test_result3_copy, tl_ab_top3_pd], axis=1)\n",
    "test_result3_copy['ksic_tl_ab_top3'] = test_result3_copy['tl_ab_top3'].map(ksic_index_dict)\n",
    "test_result3_copy['ksic_tl_ab_top2'] = test_result3_copy['tl_ab_top2'].map(ksic_index_dict)\n",
    "test_result3_copy['ksic_tl_ab_top1'] = test_result3_copy['tl_ab_top1'].map(ksic_index_dict)\n"
   ]
  },
  {
   "cell_type": "code",
   "execution_count": 165,
   "id": "3e541ec9",
   "metadata": {},
   "outputs": [
    {
     "data": {
      "text/html": [
       "<div>\n",
       "<style scoped>\n",
       "    .dataframe tbody tr th:only-of-type {\n",
       "        vertical-align: middle;\n",
       "    }\n",
       "\n",
       "    .dataframe tbody tr th {\n",
       "        vertical-align: top;\n",
       "    }\n",
       "\n",
       "    .dataframe thead th {\n",
       "        text-align: right;\n",
       "    }\n",
       "</style>\n",
       "<table border=\"1\" class=\"dataframe\">\n",
       "  <thead>\n",
       "    <tr style=\"text-align: right;\">\n",
       "      <th></th>\n",
       "      <th>특허번호</th>\n",
       "      <th>출원번호</th>\n",
       "      <th>Original CPC</th>\n",
       "      <th>Current CPC</th>\n",
       "      <th>발명의명칭</th>\n",
       "      <th>요약</th>\n",
       "      <th>대표청구항</th>\n",
       "      <th>분류원 결과</th>\n",
       "      <th>tl_top3</th>\n",
       "      <th>tl_top2</th>\n",
       "      <th>...</th>\n",
       "      <th>ab_top1</th>\n",
       "      <th>ksic_ab_top3</th>\n",
       "      <th>ksic_ab_top2</th>\n",
       "      <th>ksic_ab_top1</th>\n",
       "      <th>tl_ab_top3</th>\n",
       "      <th>tl_ab_top2</th>\n",
       "      <th>tl_ab_top1</th>\n",
       "      <th>ksic_tl_ab_top3</th>\n",
       "      <th>ksic_tl_ab_top2</th>\n",
       "      <th>ksic_tl_ab_top1</th>\n",
       "    </tr>\n",
       "  </thead>\n",
       "  <tbody>\n",
       "    <tr>\n",
       "      <th>0</th>\n",
       "      <td>KR102380739 B1</td>\n",
       "      <td>KR102022000001315</td>\n",
       "      <td>B60L53/11 | B60L53/24 | B60L53/35 | H02M1/0064...</td>\n",
       "      <td>B60L53/11 | B60L53/24 | B60L53/35 | H02M1/0064...</td>\n",
       "      <td>3상4선식 필터를 적용한 전기자동차 급속충전장치</td>\n",
       "      <td>\\t\\t본 발명에서는, 3상4선식 필터를 적용한 전기자동차 급속충전장치에 있어서, ...</td>\n",
       "      <td>3상4선식 필터를 적용한 전기자동차 급속충전장치에 있어서,상기 전기자동차 급속충전장...</td>\n",
       "      <td>C30332</td>\n",
       "      <td>75</td>\n",
       "      <td>285</td>\n",
       "      <td>...</td>\n",
       "      <td>349</td>\n",
       "      <td>29161</td>\n",
       "      <td>30331</td>\n",
       "      <td>30332</td>\n",
       "      <td>338</td>\n",
       "      <td>285</td>\n",
       "      <td>349</td>\n",
       "      <td>29161</td>\n",
       "      <td>30331</td>\n",
       "      <td>30332</td>\n",
       "    </tr>\n",
       "    <tr>\n",
       "      <th>1</th>\n",
       "      <td>KR1020220010046 A</td>\n",
       "      <td>KR102022000002985</td>\n",
       "      <td>H04W56/0015 | H04J11/0073 | H04J11/0076 | H04J...</td>\n",
       "      <td>H04W56/0015 | H04W92/18 | H04J11/0073 | H04J11...</td>\n",
       "      <td>D2D 통신을 위한 동기화 신호 구성 방법 및 장치</td>\n",
       "      <td>\\t\\t본 발명은 D2D 통신을 위한 동기화 신호 구성 방법 및 장치에 관한 것이다...</td>\n",
       "      <td>제1 무선 사용자 장치(wireless user device)에 있어서,제2 무선 ...</td>\n",
       "      <td>C26422</td>\n",
       "      <td>225</td>\n",
       "      <td>447</td>\n",
       "      <td>...</td>\n",
       "      <td>284</td>\n",
       "      <td>26421</td>\n",
       "      <td>42321</td>\n",
       "      <td>26429</td>\n",
       "      <td>225</td>\n",
       "      <td>447</td>\n",
       "      <td>284</td>\n",
       "      <td>26421</td>\n",
       "      <td>42321</td>\n",
       "      <td>26429</td>\n",
       "    </tr>\n",
       "  </tbody>\n",
       "</table>\n",
       "<p>2 rows × 26 columns</p>\n",
       "</div>"
      ],
      "text/plain": [
       "                특허번호               출원번호  \\\n",
       "0     KR102380739 B1  KR102022000001315   \n",
       "1  KR1020220010046 A  KR102022000002985   \n",
       "\n",
       "                                        Original CPC  \\\n",
       "0  B60L53/11 | B60L53/24 | B60L53/35 | H02M1/0064...   \n",
       "1  H04W56/0015 | H04J11/0073 | H04J11/0076 | H04J...   \n",
       "\n",
       "                                         Current CPC  \\\n",
       "0  B60L53/11 | B60L53/24 | B60L53/35 | H02M1/0064...   \n",
       "1  H04W56/0015 | H04W92/18 | H04J11/0073 | H04J11...   \n",
       "\n",
       "                          발명의명칭  \\\n",
       "0    3상4선식 필터를 적용한 전기자동차 급속충전장치   \n",
       "1  D2D 통신을 위한 동기화 신호 구성 방법 및 장치   \n",
       "\n",
       "                                                  요약  \\\n",
       "0  \\t\\t본 발명에서는, 3상4선식 필터를 적용한 전기자동차 급속충전장치에 있어서, ...   \n",
       "1  \\t\\t본 발명은 D2D 통신을 위한 동기화 신호 구성 방법 및 장치에 관한 것이다...   \n",
       "\n",
       "                                               대표청구항  분류원 결과  tl_top3  \\\n",
       "0  3상4선식 필터를 적용한 전기자동차 급속충전장치에 있어서,상기 전기자동차 급속충전장...  C30332       75   \n",
       "1  제1 무선 사용자 장치(wireless user device)에 있어서,제2 무선 ...  C26422      225   \n",
       "\n",
       "   tl_top2  ...  ab_top1  ksic_ab_top3 ksic_ab_top2 ksic_ab_top1  tl_ab_top3  \\\n",
       "0      285  ...      349         29161        30331        30332         338   \n",
       "1      447  ...      284         26421        42321        26429         225   \n",
       "\n",
       "   tl_ab_top2  tl_ab_top1 ksic_tl_ab_top3 ksic_tl_ab_top2 ksic_tl_ab_top1  \n",
       "0         285         349           29161           30331           30332  \n",
       "1         447         284           26421           42321           26429  \n",
       "\n",
       "[2 rows x 26 columns]"
      ]
     },
     "execution_count": 165,
     "metadata": {},
     "output_type": "execute_result"
    }
   ],
   "source": [
    "test_result3_copy[:2]"
   ]
  },
  {
   "cell_type": "code",
   "execution_count": 166,
   "id": "6dd28ac7",
   "metadata": {},
   "outputs": [],
   "source": [
    "test_result3_copy.to_excel('.cache/20220331_ksic_tl_ab_testset_result.xlsx')"
   ]
  },
  {
   "cell_type": "code",
   "execution_count": null,
   "id": "b5b3488a",
   "metadata": {},
   "outputs": [],
   "source": []
  }
 ],
 "metadata": {
  "kernelspec": {
   "display_name": "KoBERT",
   "language": "python",
   "name": "kobert-master"
  },
  "language_info": {
   "codemirror_mode": {
    "name": "ipython",
    "version": 3
   },
   "file_extension": ".py",
   "mimetype": "text/x-python",
   "name": "python",
   "nbconvert_exporter": "python",
   "pygments_lexer": "ipython3",
   "version": "3.8.10"
  },
  "toc": {
   "base_numbering": 1,
   "nav_menu": {},
   "number_sections": true,
   "sideBar": true,
   "skip_h1_title": false,
   "title_cell": "Table of Contents",
   "title_sidebar": "Contents",
   "toc_cell": false,
   "toc_position": {},
   "toc_section_display": true,
   "toc_window_display": true
  }
 },
 "nbformat": 4,
 "nbformat_minor": 5
}
