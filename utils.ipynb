{
 "cells": [
  {
   "cell_type": "code",
   "execution_count": 1,
   "id": "915ff7f6",
   "metadata": {},
   "outputs": [],
   "source": [
    "# -*- coding:utf -*-\n",
    "import psycopg2 as pg2\n",
    "from psycopg2.extras import DictCursor\n",
    "# import time\n",
    "import numpy as np\n",
    "# import csv\n",
    "from utils import *"
   ]
  },
  {
   "cell_type": "code",
   "execution_count": 2,
   "id": "0923143e",
   "metadata": {},
   "outputs": [],
   "source": [
    "def conn_string():\n",
    "    product_connection_string = \"dbname={dbname} user={user} host={host} password={password} port={port}\".format(dbname='db_ipc', user='scorpion', host='pgdb05.nips.local', password='scorpion', port=5432)\n",
    "    return product_connection_string"
   ]
  },
  {
   "cell_type": "code",
   "execution_count": 3,
   "id": "0e3d783c",
   "metadata": {},
   "outputs": [],
   "source": [
    "def iter_row(cursor, size=10):\n",
    "    while True:\n",
    "        rows = cursor.fetchmany(size)\n",
    "        if not rows:\n",
    "            break\n",
    "        for row in rows:\n",
    "            yield row"
   ]
  },
  {
   "cell_type": "code",
   "execution_count": 4,
   "id": "fd8aaa6a",
   "metadata": {},
   "outputs": [],
   "source": [
    "def execute(cur, query):\n",
    "    cur.execute(query)\n",
    "    return cur.fetchall()"
   ]
  },
  {
   "cell_type": "code",
   "execution_count": 5,
   "id": "f399b687",
   "metadata": {},
   "outputs": [],
   "source": [
    "def proj_id(cur, pr_nm):\n",
    "    query = \"select project_id from biz.t_stat_project where project_name = '{pr_nm}'\".format(pr_nm=pr_nm)\n",
    "#     print(query)\n",
    "    cur.execute(query)\n",
    "    results = cur.fetchone()\n",
    "#     print(results)\n",
    "    return results[0]"
   ]
  },
  {
   "cell_type": "code",
   "execution_count": 6,
   "id": "013d1ac0",
   "metadata": {},
   "outputs": [],
   "source": [
    "def escape_string(raw):\n",
    "    return raw.replace(\"\\\"\", \"\\\\\\\"\").replace(\"'\", \"''\")"
   ]
  },
  {
   "cell_type": "code",
   "execution_count": 7,
   "id": "38477d40",
   "metadata": {},
   "outputs": [],
   "source": [
    "def connect(conn_info, application_name=''):\n",
    "    conn = pg2.connect(conn_info)\n",
    "\n",
    "    # this is setting for ERROR, invalid byte sequence for encoding \"UTF8\": 0x00\n",
    "    # conn.cursor().execute(\"SET standard_conforming_strings=on\")\n",
    "    \n",
    "    if len(application_name) > 0:\n",
    "        cur = conn.cursor()\n",
    "        cur.execute(\"SET application_name TO {0}\".format(application_name))\n",
    "        cur.close()\n",
    "        \n",
    "    return conn"
   ]
  },
  {
   "cell_type": "code",
   "execution_count": null,
   "id": "c0c18c35",
   "metadata": {},
   "outputs": [],
   "source": []
  }
 ],
 "metadata": {
  "kernelspec": {
   "display_name": "KoBERT",
   "language": "python",
   "name": "kobert-master"
  },
  "language_info": {
   "codemirror_mode": {
    "name": "ipython",
    "version": 3
   },
   "file_extension": ".py",
   "mimetype": "text/x-python",
   "name": "python",
   "nbconvert_exporter": "python",
   "pygments_lexer": "ipython3",
   "version": "3.8.10"
  }
 },
 "nbformat": 4,
 "nbformat_minor": 5
}
