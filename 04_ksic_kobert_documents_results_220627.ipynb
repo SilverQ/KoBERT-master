{
 "cells": [
  {
   "cell_type": "code",
   "execution_count": 1,
   "id": "7292a40f",
   "metadata": {},
   "outputs": [],
   "source": [
    "import os.path\n",
    "import time\n",
    "import pickle\n",
    "import torch\n",
    "from torch import nn\n",
    "import torch.nn.functional as F\n",
    "import torch.optim as optim\n",
    "from torch.utils.data import Dataset, DataLoader\n",
    "import gluonnlp as nlp\n",
    "import numpy as np\n",
    "from tqdm import tqdm\n",
    "from sklearn.model_selection import train_test_split\n",
    "from kobert import get_tokenizer\n",
    "from kobert import get_pytorch_kobert_model\n",
    "from transformers import AdamW, BertModel\n",
    "from transformers.optimization import get_cosine_schedule_with_warmup\n",
    "import json\n",
    "import pandas as pd"
   ]
  },
  {
   "cell_type": "code",
   "execution_count": 2,
   "id": "2573691d",
   "metadata": {},
   "outputs": [],
   "source": [
    "device = torch.device(\"cuda:0\")\n",
    "# device = torch.device(\"cpu\")\n",
    "model_path = 'ksic_model'"
   ]
  },
  {
   "cell_type": "code",
   "execution_count": 3,
   "id": "ea5bef95",
   "metadata": {},
   "outputs": [],
   "source": [
    "# ??BertModel"
   ]
  },
  {
   "cell_type": "markdown",
   "id": "def14324",
   "metadata": {},
   "source": [
    "#### 모델 저장의 방법\n",
    "* Pytorch는 모델을 저장할 때 torch.save(object, file) 함수 사용\n",
    "    * object : 모델 객체, file : 파일 이름\n",
    "##### 예시1\n",
    "* torch.save(model, 'model.pt')\n",
    "* model = torch.load('model.pt')\n",
    "##### 예시2\n",
    "* torch.save(model.state_dict(), 'model.pt')\n",
    "* model.load_state_dict(torch.load('model.pt'))"
   ]
  },
  {
   "cell_type": "code",
   "execution_count": 4,
   "id": "f3d2f238",
   "metadata": {
    "scrolled": true
   },
   "outputs": [
    {
     "name": "stdout",
     "output_type": "stream",
     "text": [
      "using cached model. /home/hdh/PycharmProjects/KoBERT-master/.cache/kobert_v1.zip\n",
      "using cached model. /home/hdh/PycharmProjects/KoBERT-master/.cache/kobert_news_wiki_ko_cased-1087f8699e.spiece\n"
     ]
    }
   ],
   "source": [
    "bertmodel, vocab = get_pytorch_kobert_model(cachedir=\".cache\")"
   ]
  },
  {
   "cell_type": "code",
   "execution_count": 5,
   "id": "28a3cd98",
   "metadata": {},
   "outputs": [],
   "source": [
    "# torch.save(bertmodel, 'model_save_test/ksic_bert_model.pt')\n",
    "# model = torch.load('model_save_test/ksic_bert_model.pt')\n",
    "# # 이건 왜 성공하지?"
   ]
  },
  {
   "cell_type": "code",
   "execution_count": 6,
   "id": "55dc9f05",
   "metadata": {},
   "outputs": [],
   "source": [
    "class BERTClassifier(nn.Module):\n",
    "    def __init__(self,\n",
    "                 bert,\n",
    "                 hidden_size=768,\n",
    "                 num_classes=2,\n",
    "                 dr_rate=None,\n",
    "                 params=None):\n",
    "        super(BERTClassifier, self).__init__()\n",
    "        self.bert = bert\n",
    "        self.dr_rate = dr_rate\n",
    "\n",
    "        self.classifier = nn.Linear(hidden_size, num_classes)\n",
    "        if dr_rate:\n",
    "            self.dropout = nn.Dropout(p=dr_rate)\n",
    "\n",
    "    def gen_attention_mask(self, token_ids, valid_length):\n",
    "        attention_mask = torch.zeros_like(token_ids)\n",
    "        for i, v in enumerate(valid_length):\n",
    "            attention_mask[i][:v] = 1\n",
    "        return attention_mask.float()\n",
    "\n",
    "    def forward(self, token_ids, valid_length, segment_ids):\n",
    "        attention_mask = self.gen_attention_mask(token_ids, valid_length)\n",
    "\n",
    "        _, pooler = self.bert(input_ids=token_ids, token_type_ids=segment_ids.long(),\n",
    "                              attention_mask=attention_mask.float().to(token_ids.device))\n",
    "        if self.dr_rate:\n",
    "            out = self.dropout(pooler)\n",
    "        else:\n",
    "            out = pooler\n",
    "        return self.classifier(out)"
   ]
  },
  {
   "cell_type": "code",
   "execution_count": 7,
   "id": "47698e5b",
   "metadata": {},
   "outputs": [],
   "source": [
    "model = BERTClassifier(bertmodel,  dr_rate=0.5).to(device)\n",
    "model = torch.load(os.path.join(model_path, 'KSIC_KoBERT.pt'))\n",
    "# Can't get attribute 'BERTClassifier' on <module '__main__'>"
   ]
  },
  {
   "cell_type": "code",
   "execution_count": 8,
   "id": "8feb6698",
   "metadata": {},
   "outputs": [
    {
     "name": "stdout",
     "output_type": "stream",
     "text": [
      "using cached model. /home/hdh/PycharmProjects/KoBERT-master/.cache/kobert_news_wiki_ko_cased-1087f8699e.spiece\n"
     ]
    }
   ],
   "source": [
    "tokenizer = get_tokenizer()\n",
    "tok = nlp.data.BERTSPTokenizer(tokenizer, vocab, lower=False)"
   ]
  },
  {
   "cell_type": "code",
   "execution_count": 9,
   "id": "f9296227",
   "metadata": {},
   "outputs": [],
   "source": [
    "# 예측 모델 설정\n",
    "def predict(predict_sentence):\n",
    "\n",
    "    data = [predict_sentence, '0']\n",
    "    dataset_another = [data]\n",
    "\n",
    "    another_test = BERTDataset(dataset_another, 0, 1, tok, max_len, True, False)\n",
    "    test_dataloader = torch.utils.data.DataLoader(another_test, batch_size=batch_size, num_workers=5)\n",
    "    \n",
    "    model.eval()\n",
    "\n",
    "    for batch_id, (token_ids, valid_length, segment_ids, label) in enumerate(test_dataloader):\n",
    "        token_ids = token_ids.long().to(device)\n",
    "        segment_ids = segment_ids.long().to(device)\n",
    "\n",
    "        valid_length= valid_length\n",
    "        label = label.long().to(device)\n",
    "\n",
    "        out = model(token_ids, valid_length, segment_ids)\n",
    "        max_vals, max_indices = torch.max(out, 1)\n",
    "#         test_eval=[]\n",
    "#         for i in out:\n",
    "#             logits=i\n",
    "#             logits = logits.detach().cpu().numpy()\n",
    "#             min_v = min(logits)\n",
    "#             total = 0\n",
    "#             probability = []\n",
    "#             logits = np.round(new_softmax(logits), 3).tolist()\n",
    "#             for logit in logits:\n",
    "#                 print(logit)\n",
    "#                 probability.append(np.round(logit, 3))\n",
    "\n",
    "#             if np.argmax(logits) == 0:  emotion = \"기쁨\"\n",
    "#             elif np.argmax(logits) == 1: emotion = \"불안\"\n",
    "#             elif np.argmax(logits) == 2: emotion = '당황'\n",
    "#             elif np.argmax(logits) == 3: emotion = '슬픔'\n",
    "#             elif np.argmax(logits) == 4: emotion = '분노'\n",
    "#             elif np.argmax(logits) == 5: emotion = '상처'\n",
    "\n",
    "#             probability.append(emotion)\n",
    "#             print(probability)\n",
    "    return max_vals, max_indices"
   ]
  },
  {
   "cell_type": "code",
   "execution_count": 10,
   "id": "54b61d68",
   "metadata": {},
   "outputs": [],
   "source": [
    "# ??torch.max"
   ]
  },
  {
   "cell_type": "code",
   "execution_count": 11,
   "id": "54cfd7b9",
   "metadata": {},
   "outputs": [],
   "source": [
    "class BERTDataset(Dataset):\n",
    "    def __init__(self, dataset, sent_idx, label_idx, bert_tokenizer, max_len,\n",
    "                 pad, pair):\n",
    "        transform = nlp.data.BERTSentenceTransform(\n",
    "            bert_tokenizer, max_seq_length=max_len, pad=pad, pair=pair)\n",
    "\n",
    "        self.sentences = [transform([i[sent_idx]]) for i in tqdm(dataset)]\n",
    "        self.labels = [np.int32(i[label_idx]) for i in tqdm(dataset)]\n",
    "\n",
    "    def __getitem__(self, i):\n",
    "        return (self.sentences[i] + (self.labels[i], ))\n",
    "\n",
    "    def __len__(self):\n",
    "        return (len(self.labels))"
   ]
  },
  {
   "cell_type": "code",
   "execution_count": 12,
   "id": "00460b3a",
   "metadata": {},
   "outputs": [],
   "source": [
    "test_input = pd.read_csv('.cache/test_input.csv', encoding='utf-8', low_memory=False)"
   ]
  },
  {
   "cell_type": "code",
   "execution_count": 13,
   "id": "0308a904",
   "metadata": {},
   "outputs": [
    {
     "data": {
      "text/html": [
       "<div>\n",
       "<style scoped>\n",
       "    .dataframe tbody tr th:only-of-type {\n",
       "        vertical-align: middle;\n",
       "    }\n",
       "\n",
       "    .dataframe tbody tr th {\n",
       "        vertical-align: top;\n",
       "    }\n",
       "\n",
       "    .dataframe thead th {\n",
       "        text-align: right;\n",
       "    }\n",
       "</style>\n",
       "<table border=\"1\" class=\"dataframe\">\n",
       "  <thead>\n",
       "    <tr style=\"text-align: right;\">\n",
       "      <th></th>\n",
       "      <th>ksic</th>\n",
       "      <th>an</th>\n",
       "      <th>ad</th>\n",
       "      <th>pn</th>\n",
       "      <th>pd</th>\n",
       "      <th>rn</th>\n",
       "      <th>rd</th>\n",
       "      <th>ipc</th>\n",
       "      <th>cpc</th>\n",
       "      <th>title</th>\n",
       "      <th>ab</th>\n",
       "      <th>cl</th>\n",
       "      <th>apg</th>\n",
       "      <th>invt</th>\n",
       "      <th>label</th>\n",
       "    </tr>\n",
       "  </thead>\n",
       "  <tbody>\n",
       "    <tr>\n",
       "      <th>0</th>\n",
       "      <td>38230</td>\n",
       "      <td>10-2003-0069760</td>\n",
       "      <td>20031004</td>\n",
       "      <td>특2003-0083663</td>\n",
       "      <td>20031030</td>\n",
       "      <td>NaN</td>\n",
       "      <td>NaN</td>\n",
       "      <td>B02C13/14</td>\n",
       "      <td>B02C23/08 | B02C13/18 | B07B13/04 | B07B1/28 |...</td>\n",
       "      <td>건설폐기물로부터 시멘트 페이스트 및 모르타르가 제거된재생골재 및 모래를 생산하는 방...</td>\n",
       "      <td>건설폐기물의 폐콘크리트를 레미콘용 재생골재 및 모래로 사용이 가능하도록 시멘트 페이...</td>\n",
       "      <td>폐 콘크리트의 골재 표면으로부터 시멘트 페이스트 및 모르타르를 제거하여 재생골재 및...</td>\n",
       "      <td>삼영플랜트주식회사</td>\n",
       "      <td>기준호 | 기형호</td>\n",
       "      <td>395</td>\n",
       "    </tr>\n",
       "    <tr>\n",
       "      <th>1</th>\n",
       "      <td>25942</td>\n",
       "      <td>2019830009004</td>\n",
       "      <td>19831021</td>\n",
       "      <td>2019850003356</td>\n",
       "      <td>19850617</td>\n",
       "      <td>NaN</td>\n",
       "      <td>NaN</td>\n",
       "      <td>F16B23/00</td>\n",
       "      <td>F16B39/10</td>\n",
       "      <td>이탈 방지 장치를 갖는 나사</td>\n",
       "      <td>케이스(1)에 커버(2)를 부착시키는 나사(3)에 있어서, 커버의 두께(t)보다 큰...</td>\n",
       "      <td>\\n</td>\n",
       "      <td>엘지전자 주식회사</td>\n",
       "      <td>NaN</td>\n",
       "      <td>154</td>\n",
       "    </tr>\n",
       "  </tbody>\n",
       "</table>\n",
       "</div>"
      ],
      "text/plain": [
       "    ksic               an        ad             pn        pd   rn  rd  \\\n",
       "0  38230  10-2003-0069760  20031004  특2003-0083663  20031030  NaN NaN   \n",
       "1  25942    2019830009004  19831021  2019850003356  19850617  NaN NaN   \n",
       "\n",
       "         ipc                                                cpc  \\\n",
       "0  B02C13/14  B02C23/08 | B02C13/18 | B07B13/04 | B07B1/28 |...   \n",
       "1  F16B23/00                                          F16B39/10   \n",
       "\n",
       "                                               title  \\\n",
       "0  건설폐기물로부터 시멘트 페이스트 및 모르타르가 제거된재생골재 및 모래를 생산하는 방...   \n",
       "1                                    이탈 방지 장치를 갖는 나사   \n",
       "\n",
       "                                                  ab  \\\n",
       "0  건설폐기물의 폐콘크리트를 레미콘용 재생골재 및 모래로 사용이 가능하도록 시멘트 페이...   \n",
       "1  케이스(1)에 커버(2)를 부착시키는 나사(3)에 있어서, 커버의 두께(t)보다 큰...   \n",
       "\n",
       "                                                  cl        apg       invt  \\\n",
       "0  폐 콘크리트의 골재 표면으로부터 시멘트 페이스트 및 모르타르를 제거하여 재생골재 및...  삼영플랜트주식회사  기준호 | 기형호   \n",
       "1                                                 \\n  엘지전자 주식회사        NaN   \n",
       "\n",
       "   label  \n",
       "0    395  \n",
       "1    154  "
      ]
     },
     "execution_count": 13,
     "metadata": {},
     "output_type": "execute_result"
    }
   ],
   "source": [
    "test_input[:2]"
   ]
  },
  {
   "cell_type": "code",
   "execution_count": 14,
   "id": "059468dd",
   "metadata": {
    "scrolled": true
   },
   "outputs": [
    {
     "data": {
      "text/plain": [
       "(211133, 15)"
      ]
     },
     "execution_count": 14,
     "metadata": {},
     "output_type": "execute_result"
    }
   ],
   "source": [
    "test_input.shape  # (211133, 15)"
   ]
  },
  {
   "cell_type": "code",
   "execution_count": null,
   "id": "4af1c9da",
   "metadata": {},
   "outputs": [],
   "source": [
    "test_input_copy = test_input.copy()"
   ]
  },
  {
   "cell_type": "code",
   "execution_count": null,
   "id": "83bde208",
   "metadata": {},
   "outputs": [],
   "source": [
    "test_input_copy['ab'].fillna(test_input_copy['title'], inplace=True)\n",
    "test_input_copy['cl'].fillna(test_input_copy['ab'], inplace=True)"
   ]
  },
  {
   "cell_type": "code",
   "execution_count": null,
   "id": "6b9bc453",
   "metadata": {},
   "outputs": [],
   "source": [
    "test_title_ds = test_input_copy[['title', 'label']].copy()\n",
    "test_title_ds.rename(columns={'title': 'text'}, inplace=True)\n",
    "test_ab_ds = test_input_copy[['ab', 'label']].copy()\n",
    "test_ab_ds.rename(columns={'title': 'text'}, inplace=True)\n",
    "test_cl_ds = test_input_copy[['cl', 'label']].copy()\n",
    "test_cl_ds.rename(columns={'title': 'text'}, inplace=True)"
   ]
  },
  {
   "cell_type": "code",
   "execution_count": null,
   "id": "d21fa628",
   "metadata": {},
   "outputs": [],
   "source": [
    "test_title_ds.to_csv('.cache/test_title_ds.tsv', encoding='utf-8', mode='w', index=False, sep='\\t')\n",
    "test_ab_ds.to_csv('.cache/test_ab_ds.tsv', encoding='utf-8', mode='w', index=False, sep='\\t')\n",
    "test_cl_ds.to_csv('.cache/test_cl_ds.tsv', encoding='utf-8', mode='w', index=False, sep='\\t')"
   ]
  },
  {
   "cell_type": "code",
   "execution_count": null,
   "id": "ec75e8e7",
   "metadata": {
    "scrolled": true
   },
   "outputs": [],
   "source": [
    "test_title_ds = nlp.data.TSVDataset('.cache/test_title_ds.tsv', encoding='utf-8',\n",
    "                              field_indices=[0, 1], num_discard_samples=1)\n",
    "test_ab_ds = nlp.data.TSVDataset('.cache/test_ab_ds.tsv', encoding='utf-8',\n",
    "                              field_indices=[0, 1], num_discard_samples=1)\n",
    "test_cl_ds = nlp.data.TSVDataset('.cache/test_cl_ds.tsv', encoding='utf-8',\n",
    "                              field_indices=[0, 1], num_discard_samples=1)\n",
    "print(time.strftime('%l:%M%p %Z on %b %d, %Y'))  # ' 1:36PM EDT on Oct 18, 2010'\n",
    "print('Loading saved text-label pair dataset completed')\n",
    "with open('.cache/label_ksic.pickle', 'rb') as f:\n",
    "    ksic_index_dict = pickle.load(f)\n",
    "with open('.cache/ksic_label.pickle', 'rb') as f:\n",
    "    ksic_label_dict = pickle.load(f)"
   ]
  },
  {
   "cell_type": "code",
   "execution_count": 15,
   "id": "db0beb4f",
   "metadata": {},
   "outputs": [],
   "source": [
    "with open('.cache/label_ksic.pickle', 'rb') as f:\n",
    "    ksic_index_dict = pickle.load(f)\n",
    "with open('.cache/ksic_label.pickle', 'rb') as f:\n",
    "    ksic_label_dict = pickle.load(f)"
   ]
  },
  {
   "cell_type": "code",
   "execution_count": 107,
   "id": "5ac82664",
   "metadata": {},
   "outputs": [
    {
     "data": {
      "text/plain": [
       "{0: '20411',\n",
       " 1: '25121',\n",
       " 2: '20491',\n",
       " 3: '30110',\n",
       " 4: '11111',\n",
       " 5: '23231',\n",
       " 6: '21210',\n",
       " 7: '29210',\n",
       " 8: '19102',\n",
       " 9: '14192',\n",
       " 10: '29193',\n",
       " 11: '24111',\n",
       " 12: '20132',\n",
       " 13: '20493',\n",
       " 14: '15211',\n",
       " 15: '29180',\n",
       " 16: '20311',\n",
       " 17: '27216',\n",
       " 18: '27192',\n",
       " 19: '38312',\n",
       " 20: '13401',\n",
       " 21: '27199',\n",
       " 22: '42491',\n",
       " 23: '24211',\n",
       " 24: '17110',\n",
       " 25: '33920',\n",
       " 26: '10220',\n",
       " 27: '20321',\n",
       " 28: '10802',\n",
       " 29: '10794',\n",
       " 30: '20111',\n",
       " 31: '22199',\n",
       " 32: '29242',\n",
       " 33: '23232',\n",
       " 34: '28111',\n",
       " 35: '13101',\n",
       " 36: '29150',\n",
       " 37: '29194',\n",
       " 38: '23311',\n",
       " 39: '18121',\n",
       " 40: '10742',\n",
       " 41: '24113',\n",
       " 42: '12000',\n",
       " 43: '10713',\n",
       " 44: '19221',\n",
       " 45: '33992',\n",
       " 46: '26521',\n",
       " 47: '20499',\n",
       " 48: '29191',\n",
       " 49: '27302',\n",
       " 50: '19229',\n",
       " 51: '15219',\n",
       " 52: '24219',\n",
       " 53: '25119',\n",
       " 54: '16102',\n",
       " 55: '10792',\n",
       " 56: '10743',\n",
       " 57: '27219',\n",
       " 58: '35200',\n",
       " 59: '20494',\n",
       " 60: '10403',\n",
       " 61: '29175',\n",
       " 62: '20121',\n",
       " 63: '28121',\n",
       " 64: '10799',\n",
       " 65: '28902',\n",
       " 66: '23119',\n",
       " 67: '29291',\n",
       " 68: '29141',\n",
       " 69: '25922',\n",
       " 70: '24191',\n",
       " 71: '10212',\n",
       " 72: '33991',\n",
       " 73: '24212',\n",
       " 74: '21220',\n",
       " 75: '28119',\n",
       " 76: '20112',\n",
       " 77: '33303',\n",
       " 78: '25923',\n",
       " 79: '33209',\n",
       " 80: '20129',\n",
       " 81: '10712',\n",
       " 82: '29293',\n",
       " 83: '20501',\n",
       " 84: '33110',\n",
       " 85: '20202',\n",
       " 86: '10751',\n",
       " 87: '29299',\n",
       " 88: '33932',\n",
       " 89: '10730',\n",
       " 90: '29176',\n",
       " 91: '19210',\n",
       " 92: '22229',\n",
       " 93: '10611',\n",
       " 94: '23211',\n",
       " 95: '15110',\n",
       " 96: '35112',\n",
       " 97: '11201',\n",
       " 98: '28201',\n",
       " 99: '10795',\n",
       " 100: '10309',\n",
       " 101: '25995',\n",
       " 102: '21300',\n",
       " 103: '23325',\n",
       " 104: '27400',\n",
       " 105: '22214',\n",
       " 106: '41223',\n",
       " 107: '29230',\n",
       " 108: '10502',\n",
       " 109: '22291',\n",
       " 110: '25931',\n",
       " 111: '10711',\n",
       " 112: '10801',\n",
       " 113: '20131',\n",
       " 114: '01123',\n",
       " 115: '33201',\n",
       " 116: '20423',\n",
       " 117: '22193',\n",
       " 118: '10211',\n",
       " 119: '31113',\n",
       " 120: '23111',\n",
       " 121: '10612',\n",
       " 122: '16211',\n",
       " 123: '20413',\n",
       " 124: '41222',\n",
       " 125: '35120',\n",
       " 126: '10129',\n",
       " 127: '29223',\n",
       " 128: '29241',\n",
       " 129: '21230',\n",
       " 130: '03211',\n",
       " 131: '24290',\n",
       " 132: '10501',\n",
       " 133: '29131',\n",
       " 134: '41224',\n",
       " 135: '10793',\n",
       " 136: '24222',\n",
       " 137: '10301',\n",
       " 138: '16212',\n",
       " 139: '27194',\n",
       " 140: '24112',\n",
       " 141: '29174',\n",
       " 142: '29172',\n",
       " 143: '29192',\n",
       " 144: '10402',\n",
       " 145: '42135',\n",
       " 146: '29294',\n",
       " 147: '22221',\n",
       " 148: '35113',\n",
       " 149: '01140',\n",
       " 150: '23919',\n",
       " 151: '22211',\n",
       " 152: '23999',\n",
       " 153: '26410',\n",
       " 154: '25942',\n",
       " 155: '22299',\n",
       " 156: '25130',\n",
       " 157: '26600',\n",
       " 158: '29111',\n",
       " 159: '24119',\n",
       " 160: '01151',\n",
       " 161: '20422',\n",
       " 162: '20492',\n",
       " 163: '29292',\n",
       " 164: '25914',\n",
       " 165: '28112',\n",
       " 166: '28512',\n",
       " 167: '33401',\n",
       " 168: '22212',\n",
       " 169: '29261',\n",
       " 170: '01121',\n",
       " 171: '29269',\n",
       " 172: '22192',\n",
       " 173: '33910',\n",
       " 174: '28903',\n",
       " 175: '26294',\n",
       " 176: '26112',\n",
       " 177: '26221',\n",
       " 178: '23121',\n",
       " 179: '28423',\n",
       " 180: '33301',\n",
       " 181: '29163',\n",
       " 182: '35300',\n",
       " 183: '28909',\n",
       " 184: '25992',\n",
       " 185: '20201',\n",
       " 186: '26292',\n",
       " 187: '24132',\n",
       " 188: '22232',\n",
       " 189: '38220',\n",
       " 190: '20119',\n",
       " 191: '28410',\n",
       " 192: '30392',\n",
       " 193: '41111',\n",
       " 194: '42201',\n",
       " 195: '26111',\n",
       " 196: '10796',\n",
       " 197: '29250',\n",
       " 198: '01220',\n",
       " 199: '23191',\n",
       " 200: '10122',\n",
       " 201: '10121',\n",
       " 202: '28421',\n",
       " 203: '29221',\n",
       " 204: '23129',\n",
       " 205: '33933',\n",
       " 206: '23324',\n",
       " 207: '28302',\n",
       " 208: '27191',\n",
       " 209: '28901',\n",
       " 210: '29162',\n",
       " 211: '02011',\n",
       " 212: '25911',\n",
       " 213: '27309',\n",
       " 214: '30320',\n",
       " 215: '25934',\n",
       " 216: '42203',\n",
       " 217: '21102',\n",
       " 218: '14111',\n",
       " 219: '26291',\n",
       " 220: '42136',\n",
       " 221: '22223',\n",
       " 222: '25991',\n",
       " 223: '33931',\n",
       " 224: '29169',\n",
       " 225: '26421',\n",
       " 226: '29199',\n",
       " 227: '14419',\n",
       " 228: '42204',\n",
       " 229: '27214',\n",
       " 230: '24121',\n",
       " 231: '59201',\n",
       " 232: '24312',\n",
       " 233: '28303',\n",
       " 234: '24122',\n",
       " 235: '01110',\n",
       " 236: '23192',\n",
       " 237: '10613',\n",
       " 238: '38210',\n",
       " 239: '10219',\n",
       " 240: '24123',\n",
       " 241: '33409',\n",
       " 242: '29173',\n",
       " 243: '25912',\n",
       " 244: '32091',\n",
       " 245: '27213',\n",
       " 246: '29142',\n",
       " 247: '20203',\n",
       " 248: '25929',\n",
       " 249: '25943',\n",
       " 250: '22111',\n",
       " 251: '42123',\n",
       " 252: '01231',\n",
       " 253: '26295',\n",
       " 254: '24311',\n",
       " 255: '30122',\n",
       " 256: '42500',\n",
       " 257: '10620',\n",
       " 258: '33309',\n",
       " 259: '14199',\n",
       " 260: '30310',\n",
       " 261: '31202',\n",
       " 262: '29224',\n",
       " 263: '25932',\n",
       " 264: '31991',\n",
       " 265: '01299',\n",
       " 266: '25993',\n",
       " 267: '22292',\n",
       " 268: '32019',\n",
       " 269: '10749',\n",
       " 270: '41210',\n",
       " 271: '35114',\n",
       " 272: '10791',\n",
       " 273: '31114',\n",
       " 274: '23212',\n",
       " 275: '35111',\n",
       " 276: '33993',\n",
       " 277: '03112',\n",
       " 278: '19101',\n",
       " 279: '13910',\n",
       " 280: '39009',\n",
       " 281: '10741',\n",
       " 282: '28122',\n",
       " 283: '30201',\n",
       " 284: '26429',\n",
       " 285: '30331',\n",
       " 286: '01131',\n",
       " 287: '14120',\n",
       " 288: '26224',\n",
       " 289: '25924',\n",
       " 290: '31111',\n",
       " 291: '30203',\n",
       " 292: '31311',\n",
       " 293: '29280',\n",
       " 294: '29119',\n",
       " 295: '25200',\n",
       " 296: '23312',\n",
       " 297: '21101',\n",
       " 298: '24199',\n",
       " 299: '29132',\n",
       " 300: '33202',\n",
       " 301: '22249',\n",
       " 302: '25944',\n",
       " 303: '32029',\n",
       " 304: '23992',\n",
       " 305: '20421',\n",
       " 306: '29133',\n",
       " 307: '14112',\n",
       " 308: '15220',\n",
       " 309: '22241',\n",
       " 310: '28123',\n",
       " 311: '25123',\n",
       " 312: '28113',\n",
       " 313: '29120',\n",
       " 314: '13221',\n",
       " 315: '35119',\n",
       " 316: '31322',\n",
       " 317: '32011',\n",
       " 318: '31201',\n",
       " 319: '20424',\n",
       " 320: '30391',\n",
       " 321: '22231',\n",
       " 322: '27193',\n",
       " 323: '23112',\n",
       " 324: '38240',\n",
       " 325: '27111',\n",
       " 326: '42137',\n",
       " 327: '13300',\n",
       " 328: '28429',\n",
       " 329: '17211',\n",
       " 330: '23221',\n",
       " 331: '30121',\n",
       " 332: '42134',\n",
       " 333: '22222',\n",
       " 334: '42311',\n",
       " 335: '42420',\n",
       " 336: '59111',\n",
       " 337: '22191',\n",
       " 338: '29161',\n",
       " 339: '25122',\n",
       " 340: '60100',\n",
       " 341: '41225',\n",
       " 342: '22259',\n",
       " 343: '20502',\n",
       " 344: '41122',\n",
       " 345: '31920',\n",
       " 346: '23122',\n",
       " 347: '26321',\n",
       " 348: '25112',\n",
       " 349: '30332',\n",
       " 350: '30393',\n",
       " 351: '42138',\n",
       " 352: '42411',\n",
       " 353: '01291',\n",
       " 354: '42121',\n",
       " 355: '42131',\n",
       " 356: '10619',\n",
       " 357: '29229',\n",
       " 358: '10759',\n",
       " 359: '31999',\n",
       " 360: '42110',\n",
       " 361: '25941',\n",
       " 362: '01211',\n",
       " 363: '14194',\n",
       " 364: '03213',\n",
       " 365: '30399',\n",
       " 366: '25999',\n",
       " 367: '23991',\n",
       " 368: '26222',\n",
       " 369: '42122',\n",
       " 370: '28301',\n",
       " 371: '26293',\n",
       " 372: '38321',\n",
       " 373: '23995',\n",
       " 374: '25994',\n",
       " 375: '20495',\n",
       " 376: '42412',\n",
       " 377: '26310',\n",
       " 378: '41221',\n",
       " 379: '58219',\n",
       " 380: '33402',\n",
       " 381: '31120',\n",
       " 382: '28422',\n",
       " 383: '61210',\n",
       " 384: '18111',\n",
       " 385: '15129',\n",
       " 386: '14411',\n",
       " 387: '42132',\n",
       " 388: '03120',\n",
       " 389: '32099',\n",
       " 390: '10797',\n",
       " 391: '31910',\n",
       " 392: '31112',\n",
       " 393: '42139',\n",
       " 394: '14499',\n",
       " 395: '38230',\n",
       " 396: '62021',\n",
       " 397: '60222',\n",
       " 398: '22251',\n",
       " 399: '25933',\n",
       " 400: '29171',\n",
       " 401: '38322',\n",
       " 402: '33302',\n",
       " 403: '41129',\n",
       " 404: '10302',\n",
       " 405: '01411',\n",
       " 406: '25913',\n",
       " 407: '03220',\n",
       " 408: '26223',\n",
       " 409: '58113',\n",
       " 410: '23911',\n",
       " 411: '22213',\n",
       " 412: '16291',\n",
       " 413: '25111',\n",
       " 414: '42312',\n",
       " 415: '01122',\n",
       " 416: '59120',\n",
       " 417: '01152',\n",
       " 418: '27211',\n",
       " 419: '37022',\n",
       " 420: '31321',\n",
       " 421: '02012',\n",
       " 422: '26219',\n",
       " 423: '33120',\n",
       " 424: '58190',\n",
       " 425: '37021',\n",
       " 426: '36020',\n",
       " 427: '42202',\n",
       " 428: '31312',\n",
       " 429: '15121',\n",
       " 430: '01412',\n",
       " 431: '62022',\n",
       " 432: '01239',\n",
       " 433: '38110',\n",
       " 434: '26322',\n",
       " 435: '62090',\n",
       " 436: '42322',\n",
       " 437: '41226',\n",
       " 438: '03212',\n",
       " 439: '25113',\n",
       " 440: '60229',\n",
       " 441: '58212',\n",
       " 442: '23321',\n",
       " 443: '16221',\n",
       " 444: '29272',\n",
       " 445: '61220',\n",
       " 446: '01300',\n",
       " 447: '42321',\n",
       " 448: '42133',\n",
       " 449: '58221',\n",
       " 450: '39001',\n",
       " 451: '01212',\n",
       " 452: '28114',\n",
       " 453: '38311',\n",
       " 454: '36010',\n",
       " 455: '62010',\n",
       " 456: '37012',\n",
       " 457: '23329',\n",
       " 458: '58222',\n",
       " 459: '14491',\n",
       " 460: '16229',\n",
       " 461: '33999',\n",
       " 462: '30202',\n",
       " 463: '14191',\n",
       " 464: '01420',\n",
       " 465: '61299',\n",
       " 466: '14300',\n",
       " 467: '58111',\n",
       " 468: '01159',\n",
       " 469: '58211',\n",
       " 470: '60210',\n",
       " 471: '59113',\n",
       " 472: '26212',\n",
       " 473: '35130',\n",
       " 474: '29222',\n",
       " 475: 'ICT교육',\n",
       " 476: 'ICT음악',\n",
       " 477: 'ICT영상',\n",
       " 478: '37011',\n",
       " 479: 'ICT출판',\n",
       " 480: '26511',\n",
       " 481: '27301',\n",
       " 482: '26519',\n",
       " 483: '26323',\n",
       " 484: '26121',\n",
       " 485: '26529',\n",
       " 486: '28520',\n",
       " 487: '25921',\n",
       " 488: '27215',\n",
       " 489: '26299',\n",
       " 490: '28519',\n",
       " 491: '28511',\n",
       " 492: '29271',\n",
       " 493: '27212',\n",
       " 494: '26211',\n",
       " 495: '26422',\n",
       " 496: '27112',\n",
       " 497: '26129',\n",
       " 498: '28202',\n",
       " 499: '26329'}"
      ]
     },
     "execution_count": 107,
     "metadata": {},
     "output_type": "execute_result"
    }
   ],
   "source": [
    "ksic_index_dict"
   ]
  },
  {
   "cell_type": "code",
   "execution_count": 16,
   "id": "fe047e80",
   "metadata": {},
   "outputs": [],
   "source": [
    "max_len = 256\n",
    "batch_size = 16\n",
    "warmup_ratio = 0.1\n",
    "num_epochs = 5\n",
    "max_grad_norm = 1\n",
    "log_interval = 10000\n",
    "learning_rate = 5e-5"
   ]
  },
  {
   "cell_type": "code",
   "execution_count": null,
   "id": "337b8614",
   "metadata": {
    "scrolled": true
   },
   "outputs": [],
   "source": [
    "# test_tl_id = BERTDataset(test_title_ds, 0, 1, tok, max_len, True, False)\n",
    "# test_ab_id = BERTDataset(test_ab_ds, 0, 1, tok, max_len, True, False)\n",
    "# test_cl_id = BERTDataset(test_cl_ds, 0, 1, tok, max_len, True, False)"
   ]
  },
  {
   "cell_type": "code",
   "execution_count": null,
   "id": "58963fed",
   "metadata": {},
   "outputs": [],
   "source": [
    "# with open('.cache/ksic_test_tl_id.pickle', \"wb\") as fw:\n",
    "#     pickle.dump(train_tl_id, fw)\n",
    "# with open('.cache/ksic_test_ab_id.pickle', \"wb\") as fw:\n",
    "#     pickle.dump(train_ab_id, fw)\n",
    "# with open('.cache/ksic_test_cl_id.pickle', \"wb\") as fw:\n",
    "#     pickle.dump(train_cl_id, fw)"
   ]
  },
  {
   "cell_type": "code",
   "execution_count": 17,
   "id": "5ff80a22",
   "metadata": {},
   "outputs": [],
   "source": [
    "with open(\".cache/ksic_test_tl_id.pickle\", \"rb\") as fr:\n",
    "    test_tl_id = pickle.load(fr)\n",
    "with open('.cache/ksic_test_ab_id.pickle', 'rb') as f:\n",
    "    test_ab_id = pickle.load(f)\n",
    "with open('.cache/ksic_test_cl_id.pickle', 'rb') as f:\n",
    "    test_cl_id = pickle.load(f)"
   ]
  },
  {
   "cell_type": "code",
   "execution_count": 18,
   "id": "c0bae493",
   "metadata": {},
   "outputs": [],
   "source": [
    "test_tl_dataloader = torch.utils.data.DataLoader(test_tl_id, batch_size=batch_size, num_workers=8, shuffle=False)\n",
    "test_ab_dataloader = torch.utils.data.DataLoader(test_ab_id, batch_size=batch_size, num_workers=8, shuffle=False)\n",
    "test_cl_dataloader = torch.utils.data.DataLoader(test_cl_id, batch_size=batch_size, num_workers=8, shuffle=False)"
   ]
  },
  {
   "cell_type": "code",
   "execution_count": 19,
   "id": "c5281d35",
   "metadata": {},
   "outputs": [
    {
     "name": "stderr",
     "output_type": "stream",
     "text": [
      "/home/hdh/PycharmProjects/KoBERT-master/venv/lib/python3.8/site-packages/numpy/core/fromnumeric.py:2007: VisibleDeprecationWarning: Creating an ndarray from ragged nested sequences (which is a list-or-tuple of lists-or-tuples-or ndarrays with different lengths or shapes) is deprecated. If you meant to do this, you must specify 'dtype=object' when creating the ndarray.\n",
      "  result = asarray(a).shape\n"
     ]
    },
    {
     "data": {
      "text/plain": [
       "(211133, 4)"
      ]
     },
     "execution_count": 19,
     "metadata": {},
     "output_type": "execute_result"
    }
   ],
   "source": [
    "np.shape(test_cl_id)"
   ]
  },
  {
   "cell_type": "code",
   "execution_count": 20,
   "id": "0586110f",
   "metadata": {},
   "outputs": [
    {
     "name": "stderr",
     "output_type": "stream",
     "text": [
      "/tmp/ipykernel_1930/1981351198.py:1: VisibleDeprecationWarning: Creating an ndarray from ragged nested sequences (which is a list-or-tuple of lists-or-tuples-or ndarrays with different lengths or shapes) is deprecated. If you meant to do this, you must specify 'dtype=object' when creating the ndarray.\n",
      "  np.asarray(test_cl_id).shape\n"
     ]
    },
    {
     "data": {
      "text/plain": [
       "(211133, 4)"
      ]
     },
     "execution_count": 20,
     "metadata": {},
     "output_type": "execute_result"
    }
   ],
   "source": [
    "np.asarray(test_cl_id).shape"
   ]
  },
  {
   "cell_type": "code",
   "execution_count": 21,
   "id": "38706e48",
   "metadata": {},
   "outputs": [],
   "source": [
    "def calc_accuracy(X, y):\n",
    "    max_vals, max_indices = torch.max(X, 1)\n",
    "    acc = (max_indices == y).sum().data.cpu().numpy()/max_indices.size()[0]\n",
    "    return acc"
   ]
  },
  {
   "cell_type": "code",
   "execution_count": 22,
   "id": "a488de70",
   "metadata": {
    "scrolled": true
   },
   "outputs": [
    {
     "name": "stderr",
     "output_type": "stream",
     "text": [
      "  0%|          | 3/13196 [00:00<25:16,  8.70it/s]"
     ]
    },
    {
     "name": "stdout",
     "output_type": "stream",
     "text": [
      " 9:14AM KST on Jul 06, 2022 batch_id:  0 , test acc 0.8125\n"
     ]
    },
    {
     "name": "stderr",
     "output_type": "stream",
     "text": [
      "  1%|          | 93/13196 [00:09<21:26, 10.18it/s]\n"
     ]
    },
    {
     "ename": "KeyboardInterrupt",
     "evalue": "",
     "output_type": "error",
     "traceback": [
      "\u001b[0;31m---------------------------------------------------------------------------\u001b[0m",
      "\u001b[0;31mKeyboardInterrupt\u001b[0m                         Traceback (most recent call last)",
      "File \u001b[0;32m<timed exec>:13\u001b[0m, in \u001b[0;36m<module>\u001b[0;34m\u001b[0m\n",
      "\u001b[0;31mKeyboardInterrupt\u001b[0m: "
     ]
    }
   ],
   "source": [
    "%%time\n",
    "test_acc = 0.0\n",
    "tl_out = []\n",
    "tl_max_indices = []\n",
    "for batch_id, (token_ids, valid_length, segment_ids, label) in tqdm(enumerate(test_tl_dataloader), total=len(test_tl_dataloader)):\n",
    "    token_ids = token_ids.long().to(device)\n",
    "    segment_ids = segment_ids.long().to(device)\n",
    "    valid_length= valid_length\n",
    "    label = label.long().to(device)\n",
    "    out = model(token_ids, valid_length, segment_ids)\n",
    "    max_vals, max_indices = torch.max(out, 1)\n",
    "#     results.extend([out.tolist(), max_vals.tolist(), max_indices.tolist()])\n",
    "#     cl_results.append([out.tolist(), max_vals.tolist(), max_indices.tolist()])\n",
    "    tl_out.extend(out.tolist())\n",
    "    tl_max_indices.extend(max_indices.tolist())\n",
    "    test_acc += calc_accuracy(out, label)\n",
    "    if batch_id % 3000 == 0:\n",
    "        print(time.strftime('%l:%M%p %Z on %b %d, %Y'), 'batch_id: ', batch_id, ', test acc {}'.format(test_acc / (batch_id+1)), )"
   ]
  },
  {
   "cell_type": "code",
   "execution_count": null,
   "id": "a422438a",
   "metadata": {},
   "outputs": [],
   "source": [
    "with open('.cache/test_tl_pred_20220627.pickle', \"wb\") as fw:\n",
    "    pickle.dump(tl_results, fw)\n",
    "with open('.cache/test_tl_pred_20220627.pickle', \"rb\") as fw:\n",
    "    tl_results = pickle.load(fw)"
   ]
  },
  {
   "cell_type": "code",
   "execution_count": 68,
   "id": "b53069e5",
   "metadata": {},
   "outputs": [
    {
     "name": "stderr",
     "output_type": "stream",
     "text": [
      "  0%|          | 2/13196 [00:00<23:06,  9.51it/s]"
     ]
    },
    {
     "name": "stdout",
     "output_type": "stream",
     "text": [
      " 4:47PM KST on Jun 28, 2022 batch_id:  0 , test acc 0.875\n"
     ]
    },
    {
     "name": "stderr",
     "output_type": "stream",
     "text": [
      " 76%|███████▌  | 10002/13196 [16:08<05:09, 10.30it/s]"
     ]
    },
    {
     "name": "stdout",
     "output_type": "stream",
     "text": [
      " 5:03PM KST on Jun 28, 2022 batch_id:  10000 , test acc 0.7741600839916009\n"
     ]
    },
    {
     "name": "stderr",
     "output_type": "stream",
     "text": [
      "100%|██████████| 13196/13196 [21:20<00:00, 10.31it/s]\n"
     ]
    },
    {
     "ename": "NameError",
     "evalue": "name 'ab_results' is not defined",
     "output_type": "error",
     "traceback": [
      "\u001b[0;31m---------------------------------------------------------------------------\u001b[0m",
      "\u001b[0;31mNameError\u001b[0m                                 Traceback (most recent call last)",
      "File \u001b[0;32m<timed exec>:18\u001b[0m, in \u001b[0;36m<module>\u001b[0;34m\u001b[0m\n",
      "\u001b[0;31mNameError\u001b[0m: name 'ab_results' is not defined"
     ]
    }
   ],
   "source": [
    "%%time\n",
    "test_acc = 0.0\n",
    "ab_out = []\n",
    "ab_max_indices = []\n",
    "for batch_id, (token_ids, valid_length, segment_ids, label) in tqdm(enumerate(test_ab_dataloader), total=len(test_ab_dataloader)):\n",
    "    token_ids = token_ids.long().to(device)\n",
    "    segment_ids = segment_ids.long().to(device)\n",
    "    valid_length= valid_length\n",
    "    label = label.long().to(device)\n",
    "    out = model(token_ids, valid_length, segment_ids)\n",
    "    max_vals, max_indices = torch.max(out, 1)\n",
    "#     results.extend([out.tolist(), max_vals.tolist(), max_indices.tolist()])\n",
    "    ab_out.extend(out.tolist())\n",
    "    ab_max_indices.extend(max_indices.tolist())\n",
    "    test_acc += calc_accuracy(out, label)\n",
    "    if batch_id % 10000 == 0:\n",
    "        print(time.strftime('%l:%M%p %Z on %b %d, %Y'), 'batch_id: ', batch_id, ', test acc {}'.format(test_acc / (batch_id+1)), )\n",
    "# with open('.cache/test_ab_pred_20220627.pickle', \"wb\") as fw:\n",
    "#     pickle.dump(ab_results, fw)\n",
    "# with open('.cache/test_ab_pred_20220627.pickle', \"rb\") as fw:\n",
    "#     ab_results = pickle.load(fw)"
   ]
  },
  {
   "cell_type": "code",
   "execution_count": 71,
   "id": "16b23793",
   "metadata": {},
   "outputs": [
    {
     "name": "stderr",
     "output_type": "stream",
     "text": [
      "  0%|          | 3/13196 [00:00<22:32,  9.75it/s]"
     ]
    },
    {
     "name": "stdout",
     "output_type": "stream",
     "text": [
      " 5:24PM KST on Jun 28, 2022 batch_id:  0 , test acc 0.75\n"
     ]
    },
    {
     "name": "stderr",
     "output_type": "stream",
     "text": [
      " 76%|███████▌  | 10003/13196 [16:09<05:09, 10.32it/s]"
     ]
    },
    {
     "name": "stdout",
     "output_type": "stream",
     "text": [
      " 5:40PM KST on Jun 28, 2022 batch_id:  10000 , test acc 0.7438818618138187\n"
     ]
    },
    {
     "name": "stderr",
     "output_type": "stream",
     "text": [
      "100%|██████████| 13196/13196 [21:20<00:00, 10.30it/s]"
     ]
    },
    {
     "name": "stdout",
     "output_type": "stream",
     "text": [
      "CPU times: user 21min 15s, sys: 4.68 s, total: 21min 20s\n",
      "Wall time: 21min 21s\n"
     ]
    },
    {
     "name": "stderr",
     "output_type": "stream",
     "text": [
      "\n"
     ]
    }
   ],
   "source": [
    "%%time\n",
    "test_acc = 0.0\n",
    "cl_out = []\n",
    "cl_max_indices = []\n",
    "for batch_id, (token_ids, valid_length, segment_ids, label) in tqdm(enumerate(test_cl_dataloader), total=len(test_cl_dataloader)):\n",
    "    token_ids = token_ids.long().to(device)\n",
    "    segment_ids = segment_ids.long().to(device)\n",
    "    valid_length= valid_length\n",
    "    label = label.long().to(device)\n",
    "    out = model(token_ids, valid_length, segment_ids)\n",
    "    max_vals, max_indices = torch.max(out, 1)\n",
    "#     results.extend([out.tolist(), max_vals.tolist(), max_indices.tolist()])\n",
    "    cl_out.extend(out.tolist())\n",
    "    cl_max_indices.extend(max_indices.tolist())\n",
    "    test_acc += calc_accuracy(out, label)\n",
    "    if batch_id % 10000 == 0:\n",
    "        print(time.strftime('%l:%M%p %Z on %b %d, %Y'), 'batch_id: ', batch_id, ', test acc {}'.format(test_acc / (batch_id+1)), )"
   ]
  },
  {
   "cell_type": "code",
   "execution_count": null,
   "id": "29159788",
   "metadata": {},
   "outputs": [],
   "source": [
    "# with open('.cache/test_cl_pred_20220627.pickle', \"wb\") as fw:\n",
    "#     pickle.dump(cl_results, fw)"
   ]
  },
  {
   "cell_type": "code",
   "execution_count": null,
   "id": "b71061e2",
   "metadata": {},
   "outputs": [],
   "source": [
    "# with open('.cache/test_tl_pred_20220627.pickle', \"rb\") as fw:\n",
    "#     tl_results = pickle.load(fw)\n",
    "# with open('.cache/test_ab_pred_20220627.pickle', \"rb\") as fw:\n",
    "#     ab_results = pickle.load(fw)\n",
    "# with open('.cache/test_cl_pred_20220627.pickle', \"rb\") as fw:\n",
    "#     cl_results = pickle.load(fw)"
   ]
  },
  {
   "cell_type": "code",
   "execution_count": null,
   "id": "fe0131cd",
   "metadata": {},
   "outputs": [],
   "source": [
    "tl_result_np = np.array(tl_results)"
   ]
  },
  {
   "cell_type": "code",
   "execution_count": null,
   "id": "4f925ad0",
   "metadata": {},
   "outputs": [],
   "source": [
    "tl_result_np.shape  # (26392, 3)"
   ]
  },
  {
   "cell_type": "code",
   "execution_count": null,
   "id": "4d998ffa",
   "metadata": {},
   "outputs": [],
   "source": [
    "np.argmax(tl_result_np[0][0][1])"
   ]
  },
  {
   "cell_type": "code",
   "execution_count": null,
   "id": "3c2b43bd",
   "metadata": {},
   "outputs": [],
   "source": [
    "tl_result_np[0][2]  # batch별 label predict"
   ]
  },
  {
   "cell_type": "code",
   "execution_count": null,
   "id": "4bfdeea9",
   "metadata": {},
   "outputs": [],
   "source": [
    "tl_result_np[0][0]  # batch별 logit"
   ]
  },
  {
   "cell_type": "code",
   "execution_count": null,
   "id": "b635109c",
   "metadata": {},
   "outputs": [],
   "source": [
    "len(tl_result_np[0][0][7])"
   ]
  },
  {
   "cell_type": "code",
   "execution_count": 41,
   "id": "d5667a0d",
   "metadata": {},
   "outputs": [
    {
     "name": "stderr",
     "output_type": "stream",
     "text": [
      "  0%|          | 2/13196 [00:00<23:27,  9.38it/s]"
     ]
    },
    {
     "name": "stdout",
     "output_type": "stream",
     "text": [
      " 3:47PM KST on Jun 28, 2022 batch_id:  0 , test acc 0.8125\n"
     ]
    },
    {
     "name": "stderr",
     "output_type": "stream",
     "text": [
      " 23%|██▎       | 3002/13196 [04:50<16:28, 10.31it/s]"
     ]
    },
    {
     "name": "stdout",
     "output_type": "stream",
     "text": [
      " 3:51PM KST on Jun 28, 2022 batch_id:  3000 , test acc 0.7748250583138954\n"
     ]
    },
    {
     "name": "stderr",
     "output_type": "stream",
     "text": [
      " 45%|████▌     | 6002/13196 [09:41<11:37, 10.31it/s]"
     ]
    },
    {
     "name": "stdout",
     "output_type": "stream",
     "text": [
      " 3:56PM KST on Jun 28, 2022 batch_id:  6000 , test acc 0.7742042992834528\n"
     ]
    },
    {
     "name": "stderr",
     "output_type": "stream",
     "text": [
      " 68%|██████▊   | 9002/13196 [14:32<06:46, 10.31it/s]"
     ]
    },
    {
     "name": "stdout",
     "output_type": "stream",
     "text": [
      " 4:01PM KST on Jun 28, 2022 batch_id:  9000 , test acc 0.7740528830129986\n"
     ]
    },
    {
     "name": "stderr",
     "output_type": "stream",
     "text": [
      " 91%|█████████ | 12002/13196 [19:23<01:55, 10.31it/s]"
     ]
    },
    {
     "name": "stdout",
     "output_type": "stream",
     "text": [
      " 4:06PM KST on Jun 28, 2022 batch_id:  12000 , test acc 0.7745239980001667\n"
     ]
    },
    {
     "name": "stderr",
     "output_type": "stream",
     "text": [
      "100%|██████████| 13196/13196 [21:19<00:00, 10.31it/s]"
     ]
    },
    {
     "name": "stdout",
     "output_type": "stream",
     "text": [
      "CPU times: user 21min 14s, sys: 4.06 s, total: 21min 18s\n",
      "Wall time: 21min 19s\n"
     ]
    },
    {
     "name": "stderr",
     "output_type": "stream",
     "text": [
      "\n"
     ]
    }
   ],
   "source": [
    "%%time\n",
    "test_acc = 0.0\n",
    "tl_out = []\n",
    "tl_max_indices = []\n",
    "for batch_id, (token_ids, valid_length, segment_ids, label) in tqdm(enumerate(test_tl_dataloader), total=len(test_tl_dataloader)):\n",
    "    token_ids = token_ids.long().to(device)\n",
    "    segment_ids = segment_ids.long().to(device)\n",
    "    valid_length= valid_length\n",
    "    label = label.long().to(device)\n",
    "    out = model(token_ids, valid_length, segment_ids)\n",
    "    max_vals, max_indices = torch.max(out, 1)\n",
    "#     results.extend([out.tolist(), max_vals.tolist(), max_indices.tolist()])\n",
    "#     cl_results.append([out.tolist(), max_vals.tolist(), max_indices.tolist()])\n",
    "    tl_out.extend(out.tolist())\n",
    "    tl_max_indices.extend(max_indices.tolist())\n",
    "    test_acc += calc_accuracy(out, label)\n",
    "    if batch_id % 3000 == 0:\n",
    "        print(time.strftime('%l:%M%p %Z on %b %d, %Y'), 'batch_id: ', batch_id, ', test acc {}'.format(test_acc / (batch_id+1)), )"
   ]
  },
  {
   "cell_type": "code",
   "execution_count": 46,
   "id": "c388f787",
   "metadata": {},
   "outputs": [],
   "source": [
    "label_np = np.array(test_tl_id)[:,3]"
   ]
  },
  {
   "cell_type": "code",
   "execution_count": 69,
   "id": "87f262c3",
   "metadata": {},
   "outputs": [
    {
     "name": "stdout",
     "output_type": "stream",
     "text": [
      "Top-3 Guess:  0.8985615701950903\n",
      "Top-5 Guess:  0.9285237267504369\n"
     ]
    }
   ],
   "source": [
    "tl_out_np = np.array(tl_out)\n",
    "tl_max_indices_np = np.array(tl_max_indices)\n",
    "# np.array(tl_out).argmax(axis=1)\n",
    "# print(tl_out_np.shape, tl_max_indices_np.shape)\n",
    "tl_out_top3 = tl_out_np.argsort()[:, -3:]\n",
    "cnt = 0\n",
    "for i, lab in enumerate(label_np):\n",
    "    if lab in tl_out_top3[i]:\n",
    "        cnt += 1 \n",
    "acc_top3 = cnt / label_np.shape[0]\n",
    "print('Top-3 Guess: ', acc_top3)\n",
    "tl_out_top5 = tl_out_np.argsort()[:, -5:]\n",
    "cnt = 0\n",
    "for i, lab in enumerate(label_np):\n",
    "    if lab in tl_out_top5[i]:\n",
    "        cnt += 1 \n",
    "acc_top5 = cnt / label_np.shape[0]\n",
    "print('Top-5 Guess: ', acc_top5)"
   ]
  },
  {
   "cell_type": "code",
   "execution_count": 70,
   "id": "de0311ab",
   "metadata": {},
   "outputs": [
    {
     "name": "stdout",
     "output_type": "stream",
     "text": [
      "Top-3 Guess:  0.8812075800561732\n",
      "Top-5 Guess:  0.9050551074441229\n"
     ]
    }
   ],
   "source": [
    "ab_out_np = np.array(ab_out)\n",
    "ab_max_indices_np = np.array(ab_max_indices)\n",
    "# np.array(ab_out).argmax(axis=1)\n",
    "# print(ab_out_np.shape, ab_max_indices_np.shape)\n",
    "ab_out_top3 = ab_out_np.argsort()[:, -3:]\n",
    "cnt = 0\n",
    "for i, lab in enumerate(label_np):\n",
    "    if lab in ab_out_top3[i]:\n",
    "        cnt += 1 \n",
    "ab_acc_top3 = cnt / label_np.shape[0]\n",
    "print('Top-3 Guess: ', ab_acc_top3)\n",
    "ab_out_top5 = ab_out_np.argsort()[:, -5:]\n",
    "cnt = 0\n",
    "for i, lab in enumerate(label_np):\n",
    "    if lab in ab_out_top5[i]:\n",
    "        cnt += 1 \n",
    "ab_acc_top5 = cnt / label_np.shape[0]\n",
    "print('Top-5 Guess: ', ab_acc_top5)"
   ]
  },
  {
   "cell_type": "code",
   "execution_count": 72,
   "id": "1702e867",
   "metadata": {},
   "outputs": [
    {
     "name": "stdout",
     "output_type": "stream",
     "text": [
      "Top-3 Guess:  0.8628163290437781\n",
      "Top-5 Guess:  0.8921153964562621\n"
     ]
    }
   ],
   "source": [
    "cl_out_np = np.array(cl_out)\n",
    "cl_max_indices_np = np.array(cl_max_indices)\n",
    "# np.array(tl_out).argmax(axis=1)\n",
    "# print(tl_out_np.shape, tl_max_indices_np.shape)\n",
    "cl_out_top3 = cl_out_np.argsort()[:, -3:]\n",
    "cnt = 0\n",
    "for i, lab in enumerate(label_np):\n",
    "    if lab in cl_out_top3[i]:\n",
    "        cnt += 1 \n",
    "cl_acc_top3 = cnt / label_np.shape[0]\n",
    "print('Top-3 Guess: ', cl_acc_top3)\n",
    "cl_out_top5 = cl_out_np.argsort()[:, -5:]\n",
    "cnt = 0\n",
    "for i, lab in enumerate(label_np):\n",
    "    if lab in cl_out_top5[i]:\n",
    "        cnt += 1 \n",
    "cl_acc_top5 = cnt / label_np.shape[0]\n",
    "print('Top-5 Guess: ', cl_acc_top5)"
   ]
  },
  {
   "cell_type": "code",
   "execution_count": 99,
   "id": "c2e135fa",
   "metadata": {},
   "outputs": [],
   "source": [
    "test_input_copy = test_input.copy()"
   ]
  },
  {
   "cell_type": "code",
   "execution_count": 100,
   "id": "7919fdbb",
   "metadata": {},
   "outputs": [
    {
     "data": {
      "text/html": [
       "<div>\n",
       "<style scoped>\n",
       "    .dataframe tbody tr th:only-of-type {\n",
       "        vertical-align: middle;\n",
       "    }\n",
       "\n",
       "    .dataframe tbody tr th {\n",
       "        vertical-align: top;\n",
       "    }\n",
       "\n",
       "    .dataframe thead th {\n",
       "        text-align: right;\n",
       "    }\n",
       "</style>\n",
       "<table border=\"1\" class=\"dataframe\">\n",
       "  <thead>\n",
       "    <tr style=\"text-align: right;\">\n",
       "      <th></th>\n",
       "      <th>ksic</th>\n",
       "      <th>an</th>\n",
       "      <th>ad</th>\n",
       "      <th>pn</th>\n",
       "      <th>pd</th>\n",
       "      <th>rn</th>\n",
       "      <th>rd</th>\n",
       "      <th>ipc</th>\n",
       "      <th>cpc</th>\n",
       "      <th>title</th>\n",
       "      <th>ab</th>\n",
       "      <th>cl</th>\n",
       "      <th>apg</th>\n",
       "      <th>invt</th>\n",
       "      <th>label</th>\n",
       "    </tr>\n",
       "  </thead>\n",
       "  <tbody>\n",
       "    <tr>\n",
       "      <th>0</th>\n",
       "      <td>38230</td>\n",
       "      <td>10-2003-0069760</td>\n",
       "      <td>20031004</td>\n",
       "      <td>특2003-0083663</td>\n",
       "      <td>20031030</td>\n",
       "      <td>NaN</td>\n",
       "      <td>NaN</td>\n",
       "      <td>B02C13/14</td>\n",
       "      <td>B02C23/08 | B02C13/18 | B07B13/04 | B07B1/28 |...</td>\n",
       "      <td>건설폐기물로부터 시멘트 페이스트 및 모르타르가 제거된재생골재 및 모래를 생산하는 방...</td>\n",
       "      <td>건설폐기물의 폐콘크리트를 레미콘용 재생골재 및 모래로 사용이 가능하도록 시멘트 페이...</td>\n",
       "      <td>폐 콘크리트의 골재 표면으로부터 시멘트 페이스트 및 모르타르를 제거하여 재생골재 및...</td>\n",
       "      <td>삼영플랜트주식회사</td>\n",
       "      <td>기준호 | 기형호</td>\n",
       "      <td>395</td>\n",
       "    </tr>\n",
       "    <tr>\n",
       "      <th>1</th>\n",
       "      <td>25942</td>\n",
       "      <td>2019830009004</td>\n",
       "      <td>19831021</td>\n",
       "      <td>2019850003356</td>\n",
       "      <td>19850617</td>\n",
       "      <td>NaN</td>\n",
       "      <td>NaN</td>\n",
       "      <td>F16B23/00</td>\n",
       "      <td>F16B39/10</td>\n",
       "      <td>이탈 방지 장치를 갖는 나사</td>\n",
       "      <td>케이스(1)에 커버(2)를 부착시키는 나사(3)에 있어서, 커버의 두께(t)보다 큰...</td>\n",
       "      <td>\\n</td>\n",
       "      <td>엘지전자 주식회사</td>\n",
       "      <td>NaN</td>\n",
       "      <td>154</td>\n",
       "    </tr>\n",
       "  </tbody>\n",
       "</table>\n",
       "</div>"
      ],
      "text/plain": [
       "    ksic               an        ad             pn        pd   rn  rd  \\\n",
       "0  38230  10-2003-0069760  20031004  특2003-0083663  20031030  NaN NaN   \n",
       "1  25942    2019830009004  19831021  2019850003356  19850617  NaN NaN   \n",
       "\n",
       "         ipc                                                cpc  \\\n",
       "0  B02C13/14  B02C23/08 | B02C13/18 | B07B13/04 | B07B1/28 |...   \n",
       "1  F16B23/00                                          F16B39/10   \n",
       "\n",
       "                                               title  \\\n",
       "0  건설폐기물로부터 시멘트 페이스트 및 모르타르가 제거된재생골재 및 모래를 생산하는 방...   \n",
       "1                                    이탈 방지 장치를 갖는 나사   \n",
       "\n",
       "                                                  ab  \\\n",
       "0  건설폐기물의 폐콘크리트를 레미콘용 재생골재 및 모래로 사용이 가능하도록 시멘트 페이...   \n",
       "1  케이스(1)에 커버(2)를 부착시키는 나사(3)에 있어서, 커버의 두께(t)보다 큰...   \n",
       "\n",
       "                                                  cl        apg       invt  \\\n",
       "0  폐 콘크리트의 골재 표면으로부터 시멘트 페이스트 및 모르타르를 제거하여 재생골재 및...  삼영플랜트주식회사  기준호 | 기형호   \n",
       "1                                                 \\n  엘지전자 주식회사        NaN   \n",
       "\n",
       "   label  \n",
       "0    395  \n",
       "1    154  "
      ]
     },
     "execution_count": 100,
     "metadata": {},
     "output_type": "execute_result"
    }
   ],
   "source": [
    "test_input_copy[:2]"
   ]
  },
  {
   "cell_type": "code",
   "execution_count": 114,
   "id": "090d9ef2",
   "metadata": {},
   "outputs": [],
   "source": [
    "tl_top3_pd = pd.DataFrame(tl_out_top3, columns=['tl_top3', 'tl_top2', 'tl_top1'])\n",
    "ab_top3_pd = pd.DataFrame(ab_out_top3, columns=['ab_top3', 'ab_top2', 'ab_top1'])\n",
    "cl_top3_pd = pd.DataFrame(cl_out_top3, columns=['cl_top3', 'cl_top2', 'cl_top1'])\n",
    "test_input_copy = pd.concat([test_input_copy, tl_top3_pd], axis=1)\n",
    "test_input_copy = pd.concat([test_input_copy, ab_top3_pd], axis=1)\n",
    "test_input_copy = pd.concat([test_input_copy, cl_top3_pd], axis=1)\n",
    "test_input_copy['ksic_tl_top3'] = test_input_copy['tl_top3'].map(ksic_index_dict)\n",
    "test_input_copy['ksic_tl_top2'] = test_input_copy['tl_top2'].map(ksic_index_dict)\n",
    "test_input_copy['ksic_tl_top1'] = test_input_copy['tl_top1'].map(ksic_index_dict)\n",
    "test_input_copy['ksic_ab_top3'] = test_input_copy['ab_top3'].map(ksic_index_dict)\n",
    "test_input_copy['ksic_ab_top2'] = test_input_copy['ab_top2'].map(ksic_index_dict)\n",
    "test_input_copy['ksic_ab_top1'] = test_input_copy['ab_top1'].map(ksic_index_dict)\n",
    "test_input_copy['ksic_cl_top3'] = test_input_copy['cl_top3'].map(ksic_index_dict)\n",
    "test_input_copy['ksic_cl_top2'] = test_input_copy['cl_top2'].map(ksic_index_dict)\n",
    "test_input_copy['ksic_cl_top1'] = test_input_copy['cl_top1'].map(ksic_index_dict)"
   ]
  },
  {
   "cell_type": "code",
   "execution_count": 115,
   "id": "46be5b0a",
   "metadata": {},
   "outputs": [
    {
     "data": {
      "text/html": [
       "<div>\n",
       "<style scoped>\n",
       "    .dataframe tbody tr th:only-of-type {\n",
       "        vertical-align: middle;\n",
       "    }\n",
       "\n",
       "    .dataframe tbody tr th {\n",
       "        vertical-align: top;\n",
       "    }\n",
       "\n",
       "    .dataframe thead th {\n",
       "        text-align: right;\n",
       "    }\n",
       "</style>\n",
       "<table border=\"1\" class=\"dataframe\">\n",
       "  <thead>\n",
       "    <tr style=\"text-align: right;\">\n",
       "      <th></th>\n",
       "      <th>ksic</th>\n",
       "      <th>an</th>\n",
       "      <th>ad</th>\n",
       "      <th>pn</th>\n",
       "      <th>pd</th>\n",
       "      <th>rn</th>\n",
       "      <th>rd</th>\n",
       "      <th>ipc</th>\n",
       "      <th>cpc</th>\n",
       "      <th>title</th>\n",
       "      <th>...</th>\n",
       "      <th>cl_top1</th>\n",
       "      <th>ksic_tl_top3</th>\n",
       "      <th>ksic_tl_top2</th>\n",
       "      <th>ksic_tl_top1</th>\n",
       "      <th>ksic_ab_top3</th>\n",
       "      <th>ksic_ab_top2</th>\n",
       "      <th>ksic_ab_top1</th>\n",
       "      <th>ksic_cl_top3</th>\n",
       "      <th>ksic_cl_top2</th>\n",
       "      <th>ksic_cl_top1</th>\n",
       "    </tr>\n",
       "  </thead>\n",
       "  <tbody>\n",
       "    <tr>\n",
       "      <th>0</th>\n",
       "      <td>38230</td>\n",
       "      <td>10-2003-0069760</td>\n",
       "      <td>20031004</td>\n",
       "      <td>특2003-0083663</td>\n",
       "      <td>20031030</td>\n",
       "      <td>NaN</td>\n",
       "      <td>NaN</td>\n",
       "      <td>B02C13/14</td>\n",
       "      <td>B02C23/08 | B02C13/18 | B07B13/04 | B07B1/28 |...</td>\n",
       "      <td>건설폐기물로부터 시멘트 페이스트 및 모르타르가 제거된재생골재 및 모래를 생산하는 방...</td>\n",
       "      <td>...</td>\n",
       "      <td>395</td>\n",
       "      <td>29241</td>\n",
       "      <td>42110</td>\n",
       "      <td>38230</td>\n",
       "      <td>38311</td>\n",
       "      <td>42110</td>\n",
       "      <td>38230</td>\n",
       "      <td>29242</td>\n",
       "      <td>42110</td>\n",
       "      <td>38230</td>\n",
       "    </tr>\n",
       "    <tr>\n",
       "      <th>1</th>\n",
       "      <td>25942</td>\n",
       "      <td>2019830009004</td>\n",
       "      <td>19831021</td>\n",
       "      <td>2019850003356</td>\n",
       "      <td>19850617</td>\n",
       "      <td>NaN</td>\n",
       "      <td>NaN</td>\n",
       "      <td>F16B23/00</td>\n",
       "      <td>F16B39/10</td>\n",
       "      <td>이탈 방지 장치를 갖는 나사</td>\n",
       "      <td>...</td>\n",
       "      <td>276</td>\n",
       "      <td>27192</td>\n",
       "      <td>25941</td>\n",
       "      <td>25942</td>\n",
       "      <td>27192</td>\n",
       "      <td>25941</td>\n",
       "      <td>25942</td>\n",
       "      <td>33309</td>\n",
       "      <td>33303</td>\n",
       "      <td>33993</td>\n",
       "    </tr>\n",
       "  </tbody>\n",
       "</table>\n",
       "<p>2 rows × 39 columns</p>\n",
       "</div>"
      ],
      "text/plain": [
       "    ksic               an        ad             pn        pd   rn  rd  \\\n",
       "0  38230  10-2003-0069760  20031004  특2003-0083663  20031030  NaN NaN   \n",
       "1  25942    2019830009004  19831021  2019850003356  19850617  NaN NaN   \n",
       "\n",
       "         ipc                                                cpc  \\\n",
       "0  B02C13/14  B02C23/08 | B02C13/18 | B07B13/04 | B07B1/28 |...   \n",
       "1  F16B23/00                                          F16B39/10   \n",
       "\n",
       "                                               title  ... cl_top1  \\\n",
       "0  건설폐기물로부터 시멘트 페이스트 및 모르타르가 제거된재생골재 및 모래를 생산하는 방...  ...     395   \n",
       "1                                    이탈 방지 장치를 갖는 나사  ...     276   \n",
       "\n",
       "  ksic_tl_top3 ksic_tl_top2 ksic_tl_top1  ksic_ab_top3  ksic_ab_top2  \\\n",
       "0        29241        42110        38230         38311         42110   \n",
       "1        27192        25941        25942         27192         25941   \n",
       "\n",
       "   ksic_ab_top1  ksic_cl_top3 ksic_cl_top2 ksic_cl_top1  \n",
       "0         38230         29242        42110        38230  \n",
       "1         25942         33309        33303        33993  \n",
       "\n",
       "[2 rows x 39 columns]"
      ]
     },
     "execution_count": 115,
     "metadata": {},
     "output_type": "execute_result"
    }
   ],
   "source": [
    "test_input_copy[:2]"
   ]
  },
  {
   "cell_type": "code",
   "execution_count": 116,
   "id": "ae67eaf8",
   "metadata": {},
   "outputs": [],
   "source": [
    "from sklearn.metrics import confusion_matrix"
   ]
  },
  {
   "cell_type": "code",
   "execution_count": 123,
   "id": "4c96dee7",
   "metadata": {},
   "outputs": [
    {
     "ename": "TypeError",
     "evalue": "'<' not supported between instances of 'bool' and 'str'",
     "output_type": "error",
     "traceback": [
      "\u001b[0;31m---------------------------------------------------------------------------\u001b[0m",
      "\u001b[0;31mTypeError\u001b[0m                                 Traceback (most recent call last)",
      "Input \u001b[0;32mIn [123]\u001b[0m, in \u001b[0;36m<cell line: 1>\u001b[0;34m()\u001b[0m\n\u001b[0;32m----> 1\u001b[0m pd\u001b[38;5;241m.\u001b[39mDataFrame(\u001b[43mconfusion_matrix\u001b[49m\u001b[43m(\u001b[49m\u001b[43mtest_input_copy\u001b[49m\u001b[43m[\u001b[49m\u001b[38;5;124;43m'\u001b[39;49m\u001b[38;5;124;43mksic\u001b[39;49m\u001b[38;5;124;43m'\u001b[39;49m\u001b[43m]\u001b[49m\u001b[43m,\u001b[49m\n\u001b[1;32m      2\u001b[0m \u001b[43m                              \u001b[49m\u001b[43mtest_input_copy\u001b[49m\u001b[43m[\u001b[49m\u001b[38;5;124;43m'\u001b[39;49m\u001b[38;5;124;43mksic_tl_top1\u001b[39;49m\u001b[38;5;124;43m'\u001b[39;49m\u001b[43m]\u001b[49m\u001b[43m,\u001b[49m\u001b[43m \u001b[49m\u001b[43mlabels\u001b[49m\u001b[38;5;241;43m=\u001b[39;49m\u001b[38;5;28;43;01mTrue\u001b[39;49;00m\u001b[43m)\u001b[49m)\u001b[38;5;241m.\u001b[39mto_csv(\u001b[38;5;124m'\u001b[39m\u001b[38;5;124m.cache/confusion_tl.csv\u001b[39m\u001b[38;5;124m'\u001b[39m,\n\u001b[1;32m      3\u001b[0m                                                                        encoding\u001b[38;5;241m=\u001b[39m\u001b[38;5;124m'\u001b[39m\u001b[38;5;124mutf-8\u001b[39m\u001b[38;5;124m'\u001b[39m, mode\u001b[38;5;241m=\u001b[39m\u001b[38;5;124m'\u001b[39m\u001b[38;5;124mw\u001b[39m\u001b[38;5;124m'\u001b[39m, index\u001b[38;5;241m=\u001b[39m\u001b[38;5;28;01mFalse\u001b[39;00m, sep\u001b[38;5;241m=\u001b[39m\u001b[38;5;124m'\u001b[39m\u001b[38;5;130;01m\\t\u001b[39;00m\u001b[38;5;124m'\u001b[39m)\n\u001b[1;32m      4\u001b[0m pd\u001b[38;5;241m.\u001b[39mDataFrame(confusion_matrix(test_input_copy[\u001b[38;5;124m'\u001b[39m\u001b[38;5;124mksic\u001b[39m\u001b[38;5;124m'\u001b[39m],\n\u001b[1;32m      5\u001b[0m                               test_input_copy[\u001b[38;5;124m'\u001b[39m\u001b[38;5;124mksic_ab_top1\u001b[39m\u001b[38;5;124m'\u001b[39m], labels\u001b[38;5;241m=\u001b[39m\u001b[38;5;28;01mTrue\u001b[39;00m))\u001b[38;5;241m.\u001b[39mto_csv(\u001b[38;5;124m'\u001b[39m\u001b[38;5;124m.cache/confusion_ab.csv\u001b[39m\u001b[38;5;124m'\u001b[39m,\n\u001b[1;32m      6\u001b[0m                                                                        encoding\u001b[38;5;241m=\u001b[39m\u001b[38;5;124m'\u001b[39m\u001b[38;5;124mutf-8\u001b[39m\u001b[38;5;124m'\u001b[39m, mode\u001b[38;5;241m=\u001b[39m\u001b[38;5;124m'\u001b[39m\u001b[38;5;124mw\u001b[39m\u001b[38;5;124m'\u001b[39m, index\u001b[38;5;241m=\u001b[39m\u001b[38;5;28;01mFalse\u001b[39;00m, sep\u001b[38;5;241m=\u001b[39m\u001b[38;5;124m'\u001b[39m\u001b[38;5;130;01m\\t\u001b[39;00m\u001b[38;5;124m'\u001b[39m)\n\u001b[1;32m      7\u001b[0m pd\u001b[38;5;241m.\u001b[39mDataFrame(confusion_matrix(test_input_copy[\u001b[38;5;124m'\u001b[39m\u001b[38;5;124mksic\u001b[39m\u001b[38;5;124m'\u001b[39m], \n\u001b[1;32m      8\u001b[0m                               test_input_copy[\u001b[38;5;124m'\u001b[39m\u001b[38;5;124mksic_cl_top1\u001b[39m\u001b[38;5;124m'\u001b[39m], labels\u001b[38;5;241m=\u001b[39m\u001b[38;5;28;01mTrue\u001b[39;00m))\u001b[38;5;241m.\u001b[39mto_csv(\u001b[38;5;124m'\u001b[39m\u001b[38;5;124m.cache/confusion_cl.csv\u001b[39m\u001b[38;5;124m'\u001b[39m,\n\u001b[1;32m      9\u001b[0m                                                                        encoding\u001b[38;5;241m=\u001b[39m\u001b[38;5;124m'\u001b[39m\u001b[38;5;124mutf-8\u001b[39m\u001b[38;5;124m'\u001b[39m, mode\u001b[38;5;241m=\u001b[39m\u001b[38;5;124m'\u001b[39m\u001b[38;5;124mw\u001b[39m\u001b[38;5;124m'\u001b[39m, index\u001b[38;5;241m=\u001b[39m\u001b[38;5;28;01mFalse\u001b[39;00m, sep\u001b[38;5;241m=\u001b[39m\u001b[38;5;124m'\u001b[39m\u001b[38;5;130;01m\\t\u001b[39;00m\u001b[38;5;124m'\u001b[39m)\n",
      "File \u001b[0;32m~/PycharmProjects/KoBERT-master/venv/lib/python3.8/site-packages/sklearn/metrics/_classification.py:320\u001b[0m, in \u001b[0;36mconfusion_matrix\u001b[0;34m(y_true, y_pred, labels, sample_weight, normalize)\u001b[0m\n\u001b[1;32m    318\u001b[0m     \u001b[38;5;28;01melif\u001b[39;00m y_true\u001b[38;5;241m.\u001b[39msize \u001b[38;5;241m==\u001b[39m \u001b[38;5;241m0\u001b[39m:\n\u001b[1;32m    319\u001b[0m         \u001b[38;5;28;01mreturn\u001b[39;00m np\u001b[38;5;241m.\u001b[39mzeros((n_labels, n_labels), dtype\u001b[38;5;241m=\u001b[39m\u001b[38;5;28mint\u001b[39m)\n\u001b[0;32m--> 320\u001b[0m     \u001b[38;5;28;01melif\u001b[39;00m \u001b[38;5;28mlen\u001b[39m(\u001b[43mnp\u001b[49m\u001b[38;5;241;43m.\u001b[39;49m\u001b[43mintersect1d\u001b[49m\u001b[43m(\u001b[49m\u001b[43my_true\u001b[49m\u001b[43m,\u001b[49m\u001b[43m \u001b[49m\u001b[43mlabels\u001b[49m\u001b[43m)\u001b[49m) \u001b[38;5;241m==\u001b[39m \u001b[38;5;241m0\u001b[39m:\n\u001b[1;32m    321\u001b[0m         \u001b[38;5;28;01mraise\u001b[39;00m \u001b[38;5;167;01mValueError\u001b[39;00m(\u001b[38;5;124m\"\u001b[39m\u001b[38;5;124mAt least one label specified must be in y_true\u001b[39m\u001b[38;5;124m\"\u001b[39m)\n\u001b[1;32m    323\u001b[0m \u001b[38;5;28;01mif\u001b[39;00m sample_weight \u001b[38;5;129;01mis\u001b[39;00m \u001b[38;5;28;01mNone\u001b[39;00m:\n",
      "File \u001b[0;32m<__array_function__ internals>:180\u001b[0m, in \u001b[0;36mintersect1d\u001b[0;34m(*args, **kwargs)\u001b[0m\n",
      "File \u001b[0;32m~/PycharmProjects/KoBERT-master/venv/lib/python3.8/site-packages/numpy/lib/arraysetops.py:451\u001b[0m, in \u001b[0;36mintersect1d\u001b[0;34m(ar1, ar2, assume_unique, return_indices)\u001b[0m\n\u001b[1;32m    449\u001b[0m     aux \u001b[38;5;241m=\u001b[39m aux[aux_sort_indices]\n\u001b[1;32m    450\u001b[0m \u001b[38;5;28;01melse\u001b[39;00m:\n\u001b[0;32m--> 451\u001b[0m     \u001b[43maux\u001b[49m\u001b[38;5;241;43m.\u001b[39;49m\u001b[43msort\u001b[49m\u001b[43m(\u001b[49m\u001b[43m)\u001b[49m\n\u001b[1;32m    453\u001b[0m mask \u001b[38;5;241m=\u001b[39m aux[\u001b[38;5;241m1\u001b[39m:] \u001b[38;5;241m==\u001b[39m aux[:\u001b[38;5;241m-\u001b[39m\u001b[38;5;241m1\u001b[39m]\n\u001b[1;32m    454\u001b[0m int1d \u001b[38;5;241m=\u001b[39m aux[:\u001b[38;5;241m-\u001b[39m\u001b[38;5;241m1\u001b[39m][mask]\n",
      "\u001b[0;31mTypeError\u001b[0m: '<' not supported between instances of 'bool' and 'str'"
     ]
    }
   ],
   "source": [
    "pd.DataFrame(confusion_matrix(test_input_copy['ksic'],\n",
    "                              test_input_copy['ksic_tl_top1'], labels=True)).to_csv('.cache/confusion_tl.csv',\n",
    "                                                                       encoding='utf-8', mode='w', index=False, sep='\\t')\n",
    "pd.DataFrame(confusion_matrix(test_input_copy['ksic'],\n",
    "                              test_input_copy['ksic_ab_top1'], labels=True)).to_csv('.cache/confusion_ab.csv',\n",
    "                                                                       encoding='utf-8', mode='w', index=False, sep='\\t')\n",
    "pd.DataFrame(confusion_matrix(test_input_copy['ksic'], \n",
    "                              test_input_copy['ksic_cl_top1'], labels=True)).to_csv('.cache/confusion_cl.csv',\n",
    "                                                                       encoding='utf-8', mode='w', index=False, sep='\\t')"
   ]
  },
  {
   "cell_type": "code",
   "execution_count": 120,
   "id": "b5015aea",
   "metadata": {},
   "outputs": [],
   "source": []
  },
  {
   "cell_type": "code",
   "execution_count": 124,
   "id": "a480240d",
   "metadata": {},
   "outputs": [],
   "source": [
    "??confusion_matrix"
   ]
  },
  {
   "cell_type": "code",
   "execution_count": 120,
   "id": "b9cdc5d5",
   "metadata": {},
   "outputs": [],
   "source": [
    "class BERTDataset_no_label(Dataset):\n",
    "    def __init__(self, dataset, bert_tokenizer, max_len,\n",
    "                 pad, pair):\n",
    "        transform = nlp.data.BERTSentenceTransform(\n",
    "            bert_tokenizer, max_seq_length=max_len, pad=pad, pair=pair)\n",
    "\n",
    "        self.sentences = [transform([i]) for i in tqdm(dataset['text'])]\n",
    "#         self.labels = [np.int32(i[label_idx]) for i in tqdm(dataset)]\n",
    "\n",
    "    def __getitem__(self, i):\n",
    "        return (self.sentences[i])\n",
    "\n",
    "    def __len__(self):\n",
    "        return (len(self.sentences))"
   ]
  },
  {
   "cell_type": "markdown",
   "id": "386667c7",
   "metadata": {},
   "source": [
    "### 20220602 공개건 대상 테스트"
   ]
  },
  {
   "cell_type": "code",
   "execution_count": 54,
   "id": "761e1c63",
   "metadata": {},
   "outputs": [
    {
     "name": "stderr",
     "output_type": "stream",
     "text": [
      "  0%|          | 0/1462 [05:24<?, ?it/s]\n",
      "100%|██████████| 1462/1462 [00:00<00:00, 20946.16it/s]\n"
     ]
    }
   ],
   "source": [
    "test_input2 = pd.read_excel('.cache/pd20220602_testset.xlsx')\n",
    "test_input2_copy = test_input2.copy()\n",
    "# test_input2_copy['요약'].fillna(test_input2_copy['발명의명칭'], inplace=True)\n",
    "# test_input2_copy['대표청구항'].fillna(test_input2_copy['요약'], inplace=True)\n",
    "test_title2_ds = test_input2_copy[['발명의명칭']].copy()\n",
    "test_title2_ds.rename(columns={'발명의명칭': 'text'}, inplace=True)\n",
    "test_tl_id2 = BERTDataset_no_label(test_title2_ds, tok, max_len, True, False)\n",
    "test_tl_dataloader2 = torch.utils.data.DataLoader(test_tl_id2, batch_size=batch_size, num_workers=8, shuffle=False)\n"
   ]
  },
  {
   "cell_type": "code",
   "execution_count": 56,
   "id": "4e674bb6",
   "metadata": {},
   "outputs": [
    {
     "name": "stderr",
     "output_type": "stream",
     "text": [
      "100%|██████████| 92/92 [00:08<00:00, 10.36it/s]"
     ]
    },
    {
     "name": "stdout",
     "output_type": "stream",
     "text": [
      "CPU times: user 8.77 s, sys: 202 ms, total: 8.97 s\n",
      "Wall time: 9.11 s\n"
     ]
    },
    {
     "name": "stderr",
     "output_type": "stream",
     "text": [
      "\n"
     ]
    }
   ],
   "source": [
    "%%time\n",
    "test_acc2 = 0.0\n",
    "tl_out2 = []\n",
    "tl_max_indices2 = []\n",
    "for batch_id, (token_ids, valid_length, segment_ids) in tqdm(enumerate(test_tl_dataloader2), total=len(test_tl_dataloader2)):\n",
    "    token_ids = token_ids.long().to(device)\n",
    "    segment_ids = segment_ids.long().to(device)\n",
    "    valid_length= valid_length\n",
    "#     label = label.long().to(device)\n",
    "    out = model(token_ids, valid_length, segment_ids)\n",
    "    max_vals, max_indices = torch.max(out, 1)\n",
    "#     results.extend([out.tolist(), max_vals.tolist(), max_indices.tolist()])\n",
    "#     cl_results.append([out.tolist(), max_vals.tolist(), max_indices.tolist()])\n",
    "    tl_out2.extend(out.tolist())\n",
    "    tl_max_indices2.extend(max_indices.tolist())\n",
    "#     test_acc += calc_accuracy(out, label)\n",
    "#     if batch_id % 3000 == 0:\n",
    "#         print(time.strftime('%l:%M%p %Z on %b %d, %Y'), 'batch_id: ', batch_id, ', test acc {}'.format(test_acc / (batch_id+1)), )"
   ]
  },
  {
   "cell_type": "code",
   "execution_count": 79,
   "id": "65551ec4",
   "metadata": {},
   "outputs": [],
   "source": [
    "tl_out2_topn = np.array(tl_out2).argsort()\n",
    "tl_out2_top3 = tl_out2_topn[:,-3:]\n",
    "tl_top3_pd = pd.DataFrame(tl_out2_top3, columns=['tl_top3', 'tl_top2', 'tl_top1'])\n",
    "test_input_copy2 = pd.concat([test_input2_copy, tl_top3_pd], axis=1)\n",
    "test_input_copy2['ksic_tl_top3'] = test_input_copy2['tl_top3'].map(ksic_index_dict)\n",
    "test_input_copy2['ksic_tl_top2'] = test_input_copy2['tl_top2'].map(ksic_index_dict)\n",
    "test_input_copy2['ksic_tl_top1'] = test_input_copy2['tl_top1'].map(ksic_index_dict)\n"
   ]
  },
  {
   "cell_type": "code",
   "execution_count": 82,
   "id": "a1b13f64",
   "metadata": {},
   "outputs": [],
   "source": [
    "test_input_copy2.to_excel('.cache/pd20220602_testset_result.xlsx')"
   ]
  },
  {
   "cell_type": "markdown",
   "id": "d2a2810b",
   "metadata": {},
   "source": [
    "### 한문장씩 입력으로 받아서 예측하는 함수"
   ]
  },
  {
   "cell_type": "code",
   "execution_count": 165,
   "id": "fe578426",
   "metadata": {},
   "outputs": [],
   "source": [
    "ksic_label = pd.read_csv('.cache/KSIC_567_label.csv', encoding='utf-8', delimiter='\\t')"
   ]
  },
  {
   "cell_type": "code",
   "execution_count": 140,
   "id": "7312662d",
   "metadata": {},
   "outputs": [],
   "source": [
    "tok = nlp.data.BERTSPTokenizer(tokenizer, vocab, lower=False)\n",
    "transform = nlp.data.BERTSentenceTransform(tok, max_seq_length=256, pad=True, pair=False)"
   ]
  },
  {
   "cell_type": "code",
   "execution_count": 197,
   "id": "1adaf698",
   "metadata": {},
   "outputs": [],
   "source": [
    "def sample_pred(sample):\n",
    "    sample = [sample]\n",
    "    sample_id = transform(sample)\n",
    "    # sample_id[0]\n",
    "    # test_tl_dataloader = torch.utils.data.DataLoader(sample_id, batch_size=batch_size, num_workers=8, shuffle=False)\n",
    "\n",
    "    out = model(torch.tensor([sample_id[0]]).long().to(device),\n",
    "                [sample_id[1]],\n",
    "                torch.tensor([sample_id[2]]).long().to(device))\n",
    "    result = out.tolist()\n",
    "    result_top3 = np.array(result[0]).argsort()[-3:]  # ['27199', '26329', '27112']\n",
    "    for i, pred in enumerate(result_top3[::-1]):\n",
    "        print('top ', i, ': ', ksic_label[ksic_label['코드']==ksic_index_dict[pred]]['코드'].to_string(index=False),\n",
    "             ksic_label[ksic_label['코드']==ksic_index_dict[pred]]['항목명'].to_string(index=False))"
   ]
  },
  {
   "cell_type": "code",
   "execution_count": 223,
   "id": "a7fee922",
   "metadata": {
    "scrolled": true
   },
   "outputs": [
    {
     "name": "stdout",
     "output_type": "stream",
     "text": [
      "텍스트를 입력해주세요\n",
      "본 발명은 천마를 주성분으로 하는 건강음료이다. 더 상세하게는 천마의 불쾌취 성분을 최소화함으로써 유용 성분을 다량 함유한 천마를 부담 없이 섭취할 수 있도록 하고, 또한 이를 전통적인 한약재와 적절히 배합하여 우수한 기능성을 부여한 건강음료에 관한 것이다. 본 발명은 천마 추출액 및, 백복령, 감초, 숙지황, 백작약, 천궁, 당귀, 대추, 오미자, 구기자로 구성된 한약재의 추출액을 포함하는 것을 특징으로 한다.\n",
      "top  0 :  10309 기타 과실ㆍ채소 가공 및 저장 처리업\n",
      "top  1 :  21220 한의약품 제조업\n",
      "top  2 :  10792 차류 가공업\n"
     ]
    }
   ],
   "source": [
    "sample_pred(input('텍스트를 입력해주세요\\n'))"
   ]
  },
  {
   "cell_type": "code",
   "execution_count": 158,
   "id": "a6fb44ef",
   "metadata": {},
   "outputs": [
    {
     "data": {
      "text/plain": [
       "['27199', '26329', '27112']"
      ]
     },
     "execution_count": 158,
     "metadata": {},
     "output_type": "execute_result"
    }
   ],
   "source": [
    "# 간섭 패턴에 기초하여 오브젝트에 대한 복수의 깊이 정보들을 획득함으로써 오브젝트를 스캔한다.\n"
   ]
  },
  {
   "cell_type": "code",
   "execution_count": 173,
   "id": "9ec9c837",
   "metadata": {},
   "outputs": [
    {
     "data": {
      "text/html": [
       "<div>\n",
       "<style scoped>\n",
       "    .dataframe tbody tr th:only-of-type {\n",
       "        vertical-align: middle;\n",
       "    }\n",
       "\n",
       "    .dataframe tbody tr th {\n",
       "        vertical-align: top;\n",
       "    }\n",
       "\n",
       "    .dataframe thead th {\n",
       "        text-align: right;\n",
       "    }\n",
       "</style>\n",
       "<table border=\"1\" class=\"dataframe\">\n",
       "  <thead>\n",
       "    <tr style=\"text-align: right;\">\n",
       "      <th></th>\n",
       "      <th>연번</th>\n",
       "      <th>코드</th>\n",
       "      <th>항목명</th>\n",
       "    </tr>\n",
       "  </thead>\n",
       "  <tbody>\n",
       "    <tr>\n",
       "      <th>312</th>\n",
       "      <td>313</td>\n",
       "      <td>27112</td>\n",
       "      <td>전기식 진단 및 요법 기기 제조업</td>\n",
       "    </tr>\n",
       "  </tbody>\n",
       "</table>\n",
       "</div>"
      ],
      "text/plain": [
       "      연번     코드                 항목명\n",
       "312  313  27112  전기식 진단 및 요법 기기 제조업"
      ]
     },
     "execution_count": 173,
     "metadata": {},
     "output_type": "execute_result"
    }
   ],
   "source": []
  },
  {
   "cell_type": "markdown",
   "id": "2581a58b",
   "metadata": {},
   "source": [
    "### 20220331 국가핵심 납품 목록 테스트\n",
    "* 2022.01~03까지 납품된 34314건 중, KSIC는 1565건에 부여되어 있으며,\n",
    "* 출원번호로 키위에서 확인 결과 501건이 공개됨(공개, 등록 모두 포함, 출원번호 10-2022-0007684 같은 중복 존재)"
   ]
  },
  {
   "cell_type": "markdown",
   "id": "8bd0fc17",
   "metadata": {},
   "source": [
    "#### 발명의 명칭으로 예측"
   ]
  },
  {
   "cell_type": "code",
   "execution_count": 130,
   "id": "034f4f30",
   "metadata": {},
   "outputs": [
    {
     "name": "stderr",
     "output_type": "stream",
     "text": [
      "100%|██████████| 501/501 [00:00<00:00, 20081.48it/s]\n"
     ]
    }
   ],
   "source": [
    "test_input3 = pd.read_excel('.cache/20220331_ksic_testset.xlsx')\n",
    "test_input3_copy = test_input3.copy()\n",
    "# test_input2_copy['요약'].fillna(test_input2_copy['발명의명칭'], inplace=True)\n",
    "# test_input2_copy['대표청구항'].fillna(test_input2_copy['요약'], inplace=True)\n",
    "test_title3_ds = test_input3_copy[['발명의명칭']].copy()\n",
    "test_title3_ds.rename(columns={'발명의명칭': 'text'}, inplace=True)\n",
    "test_tl_id3 = BERTDataset_no_label(test_title3_ds, tok, max_len, True, False)\n",
    "test_tl_dataloader3 = torch.utils.data.DataLoader(test_tl_id3, batch_size=batch_size, num_workers=8, shuffle=False)\n"
   ]
  },
  {
   "cell_type": "code",
   "execution_count": 131,
   "id": "71a1beae",
   "metadata": {
    "scrolled": true
   },
   "outputs": [
    {
     "name": "stderr",
     "output_type": "stream",
     "text": [
      "100%|██████████| 32/32 [00:03<00:00, 10.44it/s]"
     ]
    },
    {
     "name": "stdout",
     "output_type": "stream",
     "text": [
      "CPU times: user 3.03 s, sys: 190 ms, total: 3.22 s\n",
      "Wall time: 3.31 s\n"
     ]
    },
    {
     "name": "stderr",
     "output_type": "stream",
     "text": [
      "\n"
     ]
    }
   ],
   "source": [
    "%%time\n",
    "test_acc3 = 0.0\n",
    "tl_out3 = []\n",
    "tl_max_indices3 = []\n",
    "for batch_id, (token_ids, valid_length, segment_ids) in tqdm(enumerate(test_tl_dataloader3), total=len(test_tl_dataloader3)):\n",
    "    token_ids = token_ids.long().to(device)\n",
    "    segment_ids = segment_ids.long().to(device)\n",
    "    valid_length= valid_length\n",
    "#     label = label.long().to(device)\n",
    "    out = model(token_ids, valid_length, segment_ids)\n",
    "    max_vals, max_indices = torch.max(out, 1)\n",
    "#     results.extend([out.tolist(), max_vals.tolist(), max_indices.tolist()])\n",
    "#     cl_results.append([out.tolist(), max_vals.tolist(), max_indices.tolist()])\n",
    "    tl_out3.extend(out.tolist())\n",
    "    tl_max_indices3.extend(max_indices.tolist())\n",
    "#     test_acc += calc_accuracy(out, label)\n",
    "#     if batch_id % 3000 == 0:\n",
    "#         print(time.strftime('%l:%M%p %Z on %b %d, %Y'), 'batch_id: ', batch_id, ', test acc {}'.format(test_acc / (batch_id+1)), )"
   ]
  },
  {
   "cell_type": "code",
   "execution_count": 132,
   "id": "d9044d40",
   "metadata": {},
   "outputs": [],
   "source": [
    "tl_out3_topn = np.array(tl_out3).argsort()\n",
    "tl_out3_top3 = tl_out3_topn[:,-3:]\n",
    "tl_top3_pd = pd.DataFrame(tl_out3_top3, columns=['tl_top3', 'tl_top2', 'tl_top1'])\n",
    "test_input_copy3 = pd.concat([test_input3_copy, tl_top3_pd], axis=1)\n",
    "test_input_copy3['ksic_tl_top3'] = test_input_copy3['tl_top3'].map(ksic_index_dict)\n",
    "test_input_copy3['ksic_tl_top2'] = test_input_copy3['tl_top2'].map(ksic_index_dict)\n",
    "test_input_copy3['ksic_tl_top1'] = test_input_copy3['tl_top1'].map(ksic_index_dict)\n"
   ]
  },
  {
   "cell_type": "code",
   "execution_count": 237,
   "id": "5dcc130d",
   "metadata": {},
   "outputs": [],
   "source": [
    "test_input_copy3.to_excel('.cache/20220331_ksic_testset_result.xlsx')"
   ]
  },
  {
   "cell_type": "code",
   "execution_count": 233,
   "id": "82b0b63b",
   "metadata": {},
   "outputs": [
    {
     "data": {
      "text/html": [
       "<div>\n",
       "<style scoped>\n",
       "    .dataframe tbody tr th:only-of-type {\n",
       "        vertical-align: middle;\n",
       "    }\n",
       "\n",
       "    .dataframe tbody tr th {\n",
       "        vertical-align: top;\n",
       "    }\n",
       "\n",
       "    .dataframe thead th {\n",
       "        text-align: right;\n",
       "    }\n",
       "</style>\n",
       "<table border=\"1\" class=\"dataframe\">\n",
       "  <thead>\n",
       "    <tr style=\"text-align: right;\">\n",
       "      <th></th>\n",
       "      <th>특허번호</th>\n",
       "      <th>출원번호</th>\n",
       "      <th>발행번호</th>\n",
       "      <th>Original CPC</th>\n",
       "      <th>Current CPC</th>\n",
       "      <th>요약</th>\n",
       "      <th>대표청구항</th>\n",
       "      <th>발명의명칭</th>\n",
       "    </tr>\n",
       "  </thead>\n",
       "  <tbody>\n",
       "    <tr>\n",
       "      <th>0</th>\n",
       "      <td>KR102380739 B1</td>\n",
       "      <td>KR102022000001315</td>\n",
       "      <td>KR10002380739B1</td>\n",
       "      <td>B60L53/11 | B60L53/24 | B60L53/35 | H02M1/0064...</td>\n",
       "      <td>B60L53/11 | B60L53/24 | B60L53/35 | H02M1/0064...</td>\n",
       "      <td>\\t\\t본 발명에서는, 3상4선식 필터를 적용한 전기자동차 급속충전장치에 있어서, ...</td>\n",
       "      <td>3상4선식 필터를 적용한 전기자동차 급속충전장치에 있어서,상기 전기자동차 급속충전장...</td>\n",
       "      <td>3상4선식 필터를 적용한 전기자동차 급속충전장치</td>\n",
       "    </tr>\n",
       "    <tr>\n",
       "      <th>1</th>\n",
       "      <td>KR1020220010046 A</td>\n",
       "      <td>KR102022000002985</td>\n",
       "      <td>KR102022000010046A</td>\n",
       "      <td>H04W56/0015 | H04J11/0073 | H04J11/0076 | H04J...</td>\n",
       "      <td>H04W56/0015 | H04W92/18 | H04J11/0073 | H04J11...</td>\n",
       "      <td>\\t\\t본 발명은 D2D 통신을 위한 동기화 신호 구성 방법 및 장치에 관한 것이다...</td>\n",
       "      <td>제1 무선 사용자 장치(wireless user device)에 있어서,제2 무선 ...</td>\n",
       "      <td>D2D 통신을 위한 동기화 신호 구성 방법 및 장치</td>\n",
       "    </tr>\n",
       "  </tbody>\n",
       "</table>\n",
       "</div>"
      ],
      "text/plain": [
       "                특허번호               출원번호                발행번호  \\\n",
       "0     KR102380739 B1  KR102022000001315     KR10002380739B1   \n",
       "1  KR1020220010046 A  KR102022000002985  KR102022000010046A   \n",
       "\n",
       "                                        Original CPC  \\\n",
       "0  B60L53/11 | B60L53/24 | B60L53/35 | H02M1/0064...   \n",
       "1  H04W56/0015 | H04J11/0073 | H04J11/0076 | H04J...   \n",
       "\n",
       "                                         Current CPC  \\\n",
       "0  B60L53/11 | B60L53/24 | B60L53/35 | H02M1/0064...   \n",
       "1  H04W56/0015 | H04W92/18 | H04J11/0073 | H04J11...   \n",
       "\n",
       "                                                  요약  \\\n",
       "0  \\t\\t본 발명에서는, 3상4선식 필터를 적용한 전기자동차 급속충전장치에 있어서, ...   \n",
       "1  \\t\\t본 발명은 D2D 통신을 위한 동기화 신호 구성 방법 및 장치에 관한 것이다...   \n",
       "\n",
       "                                               대표청구항  \\\n",
       "0  3상4선식 필터를 적용한 전기자동차 급속충전장치에 있어서,상기 전기자동차 급속충전장...   \n",
       "1  제1 무선 사용자 장치(wireless user device)에 있어서,제2 무선 ...   \n",
       "\n",
       "                          발명의명칭  \n",
       "0    3상4선식 필터를 적용한 전기자동차 급속충전장치  \n",
       "1  D2D 통신을 위한 동기화 신호 구성 방법 및 장치  "
      ]
     },
     "execution_count": 233,
     "metadata": {},
     "output_type": "execute_result"
    }
   ],
   "source": [
    "test_input3[:2]"
   ]
  },
  {
   "cell_type": "code",
   "execution_count": 133,
   "id": "d044ff15",
   "metadata": {},
   "outputs": [],
   "source": [
    "test_result3 = pd.read_excel('.cache/20220331_ksic_testset_result2.xlsx')"
   ]
  },
  {
   "cell_type": "code",
   "execution_count": 160,
   "id": "f6a6e89e",
   "metadata": {},
   "outputs": [],
   "source": [
    "test_result3_copy=test_result3[['특허번호', '출원번호', 'Original CPC', 'Current CPC', '발명의명칭', '요약', '대표청구항', '분류원 결과',\n",
    "             'tl_top3', 'tl_top2', 'tl_top1', 'ksic_tl_top3', 'ksic_tl_top2', 'ksic_tl_top1']].copy()"
   ]
  },
  {
   "cell_type": "code",
   "execution_count": 135,
   "id": "cc4e9018",
   "metadata": {},
   "outputs": [],
   "source": [
    "# test_result3_copy[:2]"
   ]
  },
  {
   "cell_type": "code",
   "execution_count": 136,
   "id": "591526c2",
   "metadata": {},
   "outputs": [],
   "source": [
    "test_result3_copy['분류원 결과2'] = test_result3_copy['분류원 결과'].str.lower()\n",
    "test_result3_copy['분류원 결과2'] = test_result3_copy['분류원 결과2'].str.replace('c','')\n",
    "# test_result3_copy['분류원 결과2'] = test_result3_copy['분류원 결과2'].str.split(',')"
   ]
  },
  {
   "cell_type": "code",
   "execution_count": 137,
   "id": "f3e0e960",
   "metadata": {},
   "outputs": [],
   "source": [
    "test_result3_copy['top1_acc'] = test_result3_copy.apply(\n",
    "    lambda x:'30332' in test_result3_copy['분류원 결과'], axis=1)\n",
    "# test_result3_copy.loc[test_result3_copy['분류원 결과'].str.contains(str(test_result3_copy['ksic_tl_top1']))]"
   ]
  },
  {
   "cell_type": "code",
   "execution_count": 161,
   "id": "ecff4588",
   "metadata": {},
   "outputs": [
    {
     "data": {
      "text/html": [
       "<div>\n",
       "<style scoped>\n",
       "    .dataframe tbody tr th:only-of-type {\n",
       "        vertical-align: middle;\n",
       "    }\n",
       "\n",
       "    .dataframe tbody tr th {\n",
       "        vertical-align: top;\n",
       "    }\n",
       "\n",
       "    .dataframe thead th {\n",
       "        text-align: right;\n",
       "    }\n",
       "</style>\n",
       "<table border=\"1\" class=\"dataframe\">\n",
       "  <thead>\n",
       "    <tr style=\"text-align: right;\">\n",
       "      <th></th>\n",
       "      <th>특허번호</th>\n",
       "      <th>출원번호</th>\n",
       "      <th>Original CPC</th>\n",
       "      <th>Current CPC</th>\n",
       "      <th>발명의명칭</th>\n",
       "      <th>요약</th>\n",
       "      <th>대표청구항</th>\n",
       "      <th>분류원 결과</th>\n",
       "      <th>tl_top3</th>\n",
       "      <th>tl_top2</th>\n",
       "      <th>tl_top1</th>\n",
       "      <th>ksic_tl_top3</th>\n",
       "      <th>ksic_tl_top2</th>\n",
       "      <th>ksic_tl_top1</th>\n",
       "    </tr>\n",
       "  </thead>\n",
       "  <tbody>\n",
       "    <tr>\n",
       "      <th>0</th>\n",
       "      <td>KR102380739 B1</td>\n",
       "      <td>KR102022000001315</td>\n",
       "      <td>B60L53/11 | B60L53/24 | B60L53/35 | H02M1/0064...</td>\n",
       "      <td>B60L53/11 | B60L53/24 | B60L53/35 | H02M1/0064...</td>\n",
       "      <td>3상4선식 필터를 적용한 전기자동차 급속충전장치</td>\n",
       "      <td>\\t\\t본 발명에서는, 3상4선식 필터를 적용한 전기자동차 급속충전장치에 있어서, ...</td>\n",
       "      <td>3상4선식 필터를 적용한 전기자동차 급속충전장치에 있어서,상기 전기자동차 급속충전장...</td>\n",
       "      <td>C30332</td>\n",
       "      <td>75</td>\n",
       "      <td>285</td>\n",
       "      <td>349</td>\n",
       "      <td>28119</td>\n",
       "      <td>30331</td>\n",
       "      <td>30332</td>\n",
       "    </tr>\n",
       "  </tbody>\n",
       "</table>\n",
       "</div>"
      ],
      "text/plain": [
       "             특허번호               출원번호  \\\n",
       "0  KR102380739 B1  KR102022000001315   \n",
       "\n",
       "                                        Original CPC  \\\n",
       "0  B60L53/11 | B60L53/24 | B60L53/35 | H02M1/0064...   \n",
       "\n",
       "                                         Current CPC  \\\n",
       "0  B60L53/11 | B60L53/24 | B60L53/35 | H02M1/0064...   \n",
       "\n",
       "                        발명의명칭  \\\n",
       "0  3상4선식 필터를 적용한 전기자동차 급속충전장치   \n",
       "\n",
       "                                                  요약  \\\n",
       "0  \\t\\t본 발명에서는, 3상4선식 필터를 적용한 전기자동차 급속충전장치에 있어서, ...   \n",
       "\n",
       "                                               대표청구항  분류원 결과  tl_top3  \\\n",
       "0  3상4선식 필터를 적용한 전기자동차 급속충전장치에 있어서,상기 전기자동차 급속충전장...  C30332       75   \n",
       "\n",
       "   tl_top2  tl_top1  ksic_tl_top3 ksic_tl_top2 ksic_tl_top1  \n",
       "0      285      349         28119        30331        30332  "
      ]
     },
     "execution_count": 161,
     "metadata": {},
     "output_type": "execute_result"
    }
   ],
   "source": [
    "test_result3_copy[:1]"
   ]
  },
  {
   "cell_type": "markdown",
   "id": "4d846387",
   "metadata": {},
   "source": [
    "#### 요약으로 예측"
   ]
  },
  {
   "cell_type": "code",
   "execution_count": 139,
   "id": "6d6c10a8",
   "metadata": {},
   "outputs": [
    {
     "name": "stderr",
     "output_type": "stream",
     "text": [
      "100%|██████████| 501/501 [00:00<00:00, 2810.33it/s]\n"
     ]
    }
   ],
   "source": [
    "# test_input3 = pd.read_excel('.cache/20220331_ksic_testset.xlsx')\n",
    "# test_input3_copy = test_input3.copy()\n",
    "# test_input2_copy['요약'].fillna(test_input2_copy['발명의명칭'], inplace=True)\n",
    "# test_input2_copy['대표청구항'].fillna(test_input2_copy['요약'], inplace=True)\n",
    "test_ab3_ds = test_input3_copy[['요약']].copy()\n",
    "test_ab3_ds.rename(columns={'요약': 'text'}, inplace=True)\n",
    "test_ab_id3 = BERTDataset_no_label(test_ab3_ds, tok, max_len, True, False)\n",
    "test_ab_dataloader3 = torch.utils.data.DataLoader(test_ab_id3, batch_size=batch_size, num_workers=8, shuffle=False)"
   ]
  },
  {
   "cell_type": "code",
   "execution_count": 140,
   "id": "3fcaa4e4",
   "metadata": {},
   "outputs": [
    {
     "name": "stderr",
     "output_type": "stream",
     "text": [
      "100%|██████████| 32/32 [00:03<00:00, 10.48it/s]"
     ]
    },
    {
     "name": "stdout",
     "output_type": "stream",
     "text": [
      "CPU times: user 3.02 s, sys: 200 ms, total: 3.22 s\n",
      "Wall time: 3.29 s\n"
     ]
    },
    {
     "name": "stderr",
     "output_type": "stream",
     "text": [
      "\n"
     ]
    }
   ],
   "source": [
    "%%time\n",
    "test_acc3 = 0.0\n",
    "ab_out3 = []\n",
    "ab_max_indices3 = []\n",
    "for batch_id, (token_ids, valid_length, segment_ids) in tqdm(enumerate(test_ab_dataloader3), total=len(test_ab_dataloader3)):\n",
    "    token_ids = token_ids.long().to(device)\n",
    "    segment_ids = segment_ids.long().to(device)\n",
    "    valid_length= valid_length\n",
    "#     label = label.long().to(device)\n",
    "    out = model(token_ids, valid_length, segment_ids)\n",
    "    max_vals, max_indices = torch.max(out, 1)\n",
    "#     results.extend([out.tolist(), max_vals.tolist(), max_indices.tolist()])\n",
    "#     cl_results.append([out.tolist(), max_vals.tolist(), max_indices.tolist()])\n",
    "    ab_out3.extend(out.tolist())\n",
    "    ab_max_indices3.extend(max_indices.tolist())\n",
    "#     test_acc += calc_accuracy(out, label)\n",
    "#     if batch_id % 3000 == 0:\n",
    "#         print(time.strftime('%l:%M%p %Z on %b %d, %Y'), 'batch_id: ', batch_id, ', test acc {}'.format(test_acc / (batch_id+1)), )"
   ]
  },
  {
   "cell_type": "code",
   "execution_count": 162,
   "id": "228483d6",
   "metadata": {},
   "outputs": [],
   "source": [
    "ab_out3_topn = np.array(ab_out3).argsort()\n",
    "ab_out3_top3 = ab_out3_topn[:,-3:]\n",
    "ab_top3_pd = pd.DataFrame(ab_out3_top3, columns=['ab_top3', 'ab_top2', 'ab_top1'])\n",
    "test_result3_copy = pd.concat([test_result3_copy, ab_top3_pd], axis=1)\n",
    "test_result3_copy['ksic_ab_top3'] = test_result3_copy['ab_top3'].map(ksic_index_dict)\n",
    "test_result3_copy['ksic_ab_top2'] = test_result3_copy['ab_top2'].map(ksic_index_dict)\n",
    "test_result3_copy['ksic_ab_top1'] = test_result3_copy['ab_top1'].map(ksic_index_dict)\n"
   ]
  },
  {
   "cell_type": "code",
   "execution_count": 163,
   "id": "1aac8218",
   "metadata": {},
   "outputs": [
    {
     "data": {
      "text/html": [
       "<div>\n",
       "<style scoped>\n",
       "    .dataframe tbody tr th:only-of-type {\n",
       "        vertical-align: middle;\n",
       "    }\n",
       "\n",
       "    .dataframe tbody tr th {\n",
       "        vertical-align: top;\n",
       "    }\n",
       "\n",
       "    .dataframe thead th {\n",
       "        text-align: right;\n",
       "    }\n",
       "</style>\n",
       "<table border=\"1\" class=\"dataframe\">\n",
       "  <thead>\n",
       "    <tr style=\"text-align: right;\">\n",
       "      <th></th>\n",
       "      <th>특허번호</th>\n",
       "      <th>출원번호</th>\n",
       "      <th>Original CPC</th>\n",
       "      <th>Current CPC</th>\n",
       "      <th>발명의명칭</th>\n",
       "      <th>요약</th>\n",
       "      <th>대표청구항</th>\n",
       "      <th>분류원 결과</th>\n",
       "      <th>tl_top3</th>\n",
       "      <th>tl_top2</th>\n",
       "      <th>tl_top1</th>\n",
       "      <th>ksic_tl_top3</th>\n",
       "      <th>ksic_tl_top2</th>\n",
       "      <th>ksic_tl_top1</th>\n",
       "      <th>ab_top3</th>\n",
       "      <th>ab_top2</th>\n",
       "      <th>ab_top1</th>\n",
       "      <th>ksic_ab_top3</th>\n",
       "      <th>ksic_ab_top2</th>\n",
       "      <th>ksic_ab_top1</th>\n",
       "    </tr>\n",
       "  </thead>\n",
       "  <tbody>\n",
       "    <tr>\n",
       "      <th>0</th>\n",
       "      <td>KR102380739 B1</td>\n",
       "      <td>KR102022000001315</td>\n",
       "      <td>B60L53/11 | B60L53/24 | B60L53/35 | H02M1/0064...</td>\n",
       "      <td>B60L53/11 | B60L53/24 | B60L53/35 | H02M1/0064...</td>\n",
       "      <td>3상4선식 필터를 적용한 전기자동차 급속충전장치</td>\n",
       "      <td>\\t\\t본 발명에서는, 3상4선식 필터를 적용한 전기자동차 급속충전장치에 있어서, ...</td>\n",
       "      <td>3상4선식 필터를 적용한 전기자동차 급속충전장치에 있어서,상기 전기자동차 급속충전장...</td>\n",
       "      <td>C30332</td>\n",
       "      <td>75</td>\n",
       "      <td>285</td>\n",
       "      <td>349</td>\n",
       "      <td>28119</td>\n",
       "      <td>30331</td>\n",
       "      <td>30332</td>\n",
       "      <td>338</td>\n",
       "      <td>285</td>\n",
       "      <td>349</td>\n",
       "      <td>29161</td>\n",
       "      <td>30331</td>\n",
       "      <td>30332</td>\n",
       "    </tr>\n",
       "    <tr>\n",
       "      <th>1</th>\n",
       "      <td>KR1020220010046 A</td>\n",
       "      <td>KR102022000002985</td>\n",
       "      <td>H04W56/0015 | H04J11/0073 | H04J11/0076 | H04J...</td>\n",
       "      <td>H04W56/0015 | H04W92/18 | H04J11/0073 | H04J11...</td>\n",
       "      <td>D2D 통신을 위한 동기화 신호 구성 방법 및 장치</td>\n",
       "      <td>\\t\\t본 발명은 D2D 통신을 위한 동기화 신호 구성 방법 및 장치에 관한 것이다...</td>\n",
       "      <td>제1 무선 사용자 장치(wireless user device)에 있어서,제2 무선 ...</td>\n",
       "      <td>C26422</td>\n",
       "      <td>225</td>\n",
       "      <td>447</td>\n",
       "      <td>284</td>\n",
       "      <td>26421</td>\n",
       "      <td>42321</td>\n",
       "      <td>26429</td>\n",
       "      <td>225</td>\n",
       "      <td>447</td>\n",
       "      <td>284</td>\n",
       "      <td>26421</td>\n",
       "      <td>42321</td>\n",
       "      <td>26429</td>\n",
       "    </tr>\n",
       "  </tbody>\n",
       "</table>\n",
       "</div>"
      ],
      "text/plain": [
       "                특허번호               출원번호  \\\n",
       "0     KR102380739 B1  KR102022000001315   \n",
       "1  KR1020220010046 A  KR102022000002985   \n",
       "\n",
       "                                        Original CPC  \\\n",
       "0  B60L53/11 | B60L53/24 | B60L53/35 | H02M1/0064...   \n",
       "1  H04W56/0015 | H04J11/0073 | H04J11/0076 | H04J...   \n",
       "\n",
       "                                         Current CPC  \\\n",
       "0  B60L53/11 | B60L53/24 | B60L53/35 | H02M1/0064...   \n",
       "1  H04W56/0015 | H04W92/18 | H04J11/0073 | H04J11...   \n",
       "\n",
       "                          발명의명칭  \\\n",
       "0    3상4선식 필터를 적용한 전기자동차 급속충전장치   \n",
       "1  D2D 통신을 위한 동기화 신호 구성 방법 및 장치   \n",
       "\n",
       "                                                  요약  \\\n",
       "0  \\t\\t본 발명에서는, 3상4선식 필터를 적용한 전기자동차 급속충전장치에 있어서, ...   \n",
       "1  \\t\\t본 발명은 D2D 통신을 위한 동기화 신호 구성 방법 및 장치에 관한 것이다...   \n",
       "\n",
       "                                               대표청구항  분류원 결과  tl_top3  \\\n",
       "0  3상4선식 필터를 적용한 전기자동차 급속충전장치에 있어서,상기 전기자동차 급속충전장...  C30332       75   \n",
       "1  제1 무선 사용자 장치(wireless user device)에 있어서,제2 무선 ...  C26422      225   \n",
       "\n",
       "   tl_top2  tl_top1  ksic_tl_top3 ksic_tl_top2 ksic_tl_top1  ab_top3  ab_top2  \\\n",
       "0      285      349         28119        30331        30332      338      285   \n",
       "1      447      284         26421        42321        26429      225      447   \n",
       "\n",
       "   ab_top1 ksic_ab_top3 ksic_ab_top2 ksic_ab_top1  \n",
       "0      349        29161        30331        30332  \n",
       "1      284        26421        42321        26429  "
      ]
     },
     "execution_count": 163,
     "metadata": {},
     "output_type": "execute_result"
    }
   ],
   "source": [
    "test_result3_copy[:2]"
   ]
  },
  {
   "cell_type": "markdown",
   "id": "e019272e",
   "metadata": {},
   "source": [
    "#### TL+AB 예측"
   ]
  },
  {
   "cell_type": "code",
   "execution_count": 147,
   "id": "a96d57b5",
   "metadata": {},
   "outputs": [],
   "source": [
    "test_result3_copy['tl_ab'] = test_result3_copy[['발명의명칭', '요약']].agg(' '.join, axis=1)"
   ]
  },
  {
   "cell_type": "code",
   "execution_count": 149,
   "id": "7dcc7bea",
   "metadata": {},
   "outputs": [
    {
     "data": {
      "text/html": [
       "<div>\n",
       "<style scoped>\n",
       "    .dataframe tbody tr th:only-of-type {\n",
       "        vertical-align: middle;\n",
       "    }\n",
       "\n",
       "    .dataframe tbody tr th {\n",
       "        vertical-align: top;\n",
       "    }\n",
       "\n",
       "    .dataframe thead th {\n",
       "        text-align: right;\n",
       "    }\n",
       "</style>\n",
       "<table border=\"1\" class=\"dataframe\">\n",
       "  <thead>\n",
       "    <tr style=\"text-align: right;\">\n",
       "      <th></th>\n",
       "      <th>특허번호</th>\n",
       "      <th>Original CPC</th>\n",
       "      <th>Current CPC</th>\n",
       "      <th>발명의명칭</th>\n",
       "      <th>요약</th>\n",
       "      <th>대표청구항</th>\n",
       "      <th>tl_top3</th>\n",
       "      <th>tl_top2</th>\n",
       "      <th>tl_top1</th>\n",
       "      <th>ksic_tl_top3</th>\n",
       "      <th>...</th>\n",
       "      <th>분류원 결과</th>\n",
       "      <th>분류원 결과2</th>\n",
       "      <th>top1_acc</th>\n",
       "      <th>ab_top3</th>\n",
       "      <th>ab_top2</th>\n",
       "      <th>ab_top1</th>\n",
       "      <th>ksic_ab_top3</th>\n",
       "      <th>ksic_ab_top2</th>\n",
       "      <th>ksic_ab_top1</th>\n",
       "      <th>tl_ab</th>\n",
       "    </tr>\n",
       "  </thead>\n",
       "  <tbody>\n",
       "    <tr>\n",
       "      <th>0</th>\n",
       "      <td>KR102380739 B1</td>\n",
       "      <td>B60L53/11 | B60L53/24 | B60L53/35 | H02M1/0064...</td>\n",
       "      <td>B60L53/11 | B60L53/24 | B60L53/35 | H02M1/0064...</td>\n",
       "      <td>3상4선식 필터를 적용한 전기자동차 급속충전장치</td>\n",
       "      <td>\\t\\t본 발명에서는, 3상4선식 필터를 적용한 전기자동차 급속충전장치에 있어서, ...</td>\n",
       "      <td>3상4선식 필터를 적용한 전기자동차 급속충전장치에 있어서,상기 전기자동차 급속충전장...</td>\n",
       "      <td>75</td>\n",
       "      <td>285</td>\n",
       "      <td>349</td>\n",
       "      <td>28119</td>\n",
       "      <td>...</td>\n",
       "      <td>C30332</td>\n",
       "      <td>30332</td>\n",
       "      <td>False</td>\n",
       "      <td>338</td>\n",
       "      <td>285</td>\n",
       "      <td>349</td>\n",
       "      <td>29161</td>\n",
       "      <td>30331</td>\n",
       "      <td>30332</td>\n",
       "      <td>3상4선식 필터를 적용한 전기자동차 급속충전장치 \\t\\t본 발명에서는, 3상4선식 ...</td>\n",
       "    </tr>\n",
       "  </tbody>\n",
       "</table>\n",
       "<p>1 rows × 22 columns</p>\n",
       "</div>"
      ],
      "text/plain": [
       "             특허번호                                       Original CPC  \\\n",
       "0  KR102380739 B1  B60L53/11 | B60L53/24 | B60L53/35 | H02M1/0064...   \n",
       "\n",
       "                                         Current CPC  \\\n",
       "0  B60L53/11 | B60L53/24 | B60L53/35 | H02M1/0064...   \n",
       "\n",
       "                        발명의명칭  \\\n",
       "0  3상4선식 필터를 적용한 전기자동차 급속충전장치   \n",
       "\n",
       "                                                  요약  \\\n",
       "0  \\t\\t본 발명에서는, 3상4선식 필터를 적용한 전기자동차 급속충전장치에 있어서, ...   \n",
       "\n",
       "                                               대표청구항  tl_top3  tl_top2  \\\n",
       "0  3상4선식 필터를 적용한 전기자동차 급속충전장치에 있어서,상기 전기자동차 급속충전장...       75      285   \n",
       "\n",
       "   tl_top1  ksic_tl_top3  ...  분류원 결과 분류원 결과2 top1_acc ab_top3  ab_top2  \\\n",
       "0      349         28119  ...  C30332   30332    False     338      285   \n",
       "\n",
       "   ab_top1  ksic_ab_top3  ksic_ab_top2 ksic_ab_top1  \\\n",
       "0      349         29161         30331        30332   \n",
       "\n",
       "                                               tl_ab  \n",
       "0  3상4선식 필터를 적용한 전기자동차 급속충전장치 \\t\\t본 발명에서는, 3상4선식 ...  \n",
       "\n",
       "[1 rows x 22 columns]"
      ]
     },
     "execution_count": 149,
     "metadata": {},
     "output_type": "execute_result"
    }
   ],
   "source": [
    "test_result3_copy[:1]"
   ]
  },
  {
   "cell_type": "code",
   "execution_count": 151,
   "id": "de76d187",
   "metadata": {},
   "outputs": [
    {
     "name": "stderr",
     "output_type": "stream",
     "text": [
      "100%|██████████| 501/501 [00:00<00:00, 2677.58it/s]\n",
      "100%|██████████| 32/32 [00:03<00:00, 10.41it/s]\n"
     ]
    }
   ],
   "source": [
    "test_tl_ab3_ds = test_result3_copy[['tl_ab']].copy()\n",
    "test_tl_ab3_ds.rename(columns={'tl_ab': 'text'}, inplace=True)\n",
    "test_tl_ab_id3 = BERTDataset_no_label(test_tl_ab3_ds, tok, max_len, True, False)\n",
    "test_tl_ab_dataloader3 = torch.utils.data.DataLoader(test_tl_ab_id3, batch_size=batch_size, num_workers=8, shuffle=False)\n",
    "# %%time\n",
    "test_acc3 = 0.0\n",
    "tl_ab_out3 = []\n",
    "tl_ab_max_indices3 = []\n",
    "for batch_id, (token_ids, valid_length, segment_ids) in tqdm(enumerate(test_tl_ab_dataloader3), total=len(test_tl_ab_dataloader3)):\n",
    "    token_ids = token_ids.long().to(device)\n",
    "    segment_ids = segment_ids.long().to(device)\n",
    "    valid_length= valid_length\n",
    "#     label = label.long().to(device)\n",
    "    out = model(token_ids, valid_length, segment_ids)\n",
    "    max_vals, max_indices = torch.max(out, 1)\n",
    "#     results.extend([out.tolist(), max_vals.tolist(), max_indices.tolist()])\n",
    "#     cl_results.append([out.tolist(), max_vals.tolist(), max_indices.tolist()])\n",
    "    tl_ab_out3.extend(out.tolist())\n",
    "    tl_ab_max_indices3.extend(max_indices.tolist())\n",
    "#     test_acc += calc_accuracy(out, label)\n",
    "#     if batch_id % 3000 == 0:\n",
    "#         print(time.strftime('%l:%M%p %Z on %b %d, %Y'), 'batch_id: ', batch_id, ', test acc {}'.format(test_acc / (batch_id+1)), )"
   ]
  },
  {
   "cell_type": "code",
   "execution_count": 164,
   "id": "736c82f5",
   "metadata": {},
   "outputs": [],
   "source": [
    "tl_ab_out3_topn = np.array(tl_ab_out3).argsort()\n",
    "tl_ab_out3_top3 = tl_ab_out3_topn[:,-3:]\n",
    "tl_ab_top3_pd = pd.DataFrame(tl_ab_out3_top3, columns=['tl_ab_top3', 'tl_ab_top2', 'tl_ab_top1'])\n",
    "test_result3_copy = pd.concat([test_result3_copy, tl_ab_top3_pd], axis=1)\n",
    "test_result3_copy['ksic_tl_ab_top3'] = test_result3_copy['tl_ab_top3'].map(ksic_index_dict)\n",
    "test_result3_copy['ksic_tl_ab_top2'] = test_result3_copy['tl_ab_top2'].map(ksic_index_dict)\n",
    "test_result3_copy['ksic_tl_ab_top1'] = test_result3_copy['tl_ab_top1'].map(ksic_index_dict)\n"
   ]
  },
  {
   "cell_type": "code",
   "execution_count": 165,
   "id": "3e541ec9",
   "metadata": {},
   "outputs": [
    {
     "data": {
      "text/html": [
       "<div>\n",
       "<style scoped>\n",
       "    .dataframe tbody tr th:only-of-type {\n",
       "        vertical-align: middle;\n",
       "    }\n",
       "\n",
       "    .dataframe tbody tr th {\n",
       "        vertical-align: top;\n",
       "    }\n",
       "\n",
       "    .dataframe thead th {\n",
       "        text-align: right;\n",
       "    }\n",
       "</style>\n",
       "<table border=\"1\" class=\"dataframe\">\n",
       "  <thead>\n",
       "    <tr style=\"text-align: right;\">\n",
       "      <th></th>\n",
       "      <th>특허번호</th>\n",
       "      <th>출원번호</th>\n",
       "      <th>Original CPC</th>\n",
       "      <th>Current CPC</th>\n",
       "      <th>발명의명칭</th>\n",
       "      <th>요약</th>\n",
       "      <th>대표청구항</th>\n",
       "      <th>분류원 결과</th>\n",
       "      <th>tl_top3</th>\n",
       "      <th>tl_top2</th>\n",
       "      <th>...</th>\n",
       "      <th>ab_top1</th>\n",
       "      <th>ksic_ab_top3</th>\n",
       "      <th>ksic_ab_top2</th>\n",
       "      <th>ksic_ab_top1</th>\n",
       "      <th>tl_ab_top3</th>\n",
       "      <th>tl_ab_top2</th>\n",
       "      <th>tl_ab_top1</th>\n",
       "      <th>ksic_tl_ab_top3</th>\n",
       "      <th>ksic_tl_ab_top2</th>\n",
       "      <th>ksic_tl_ab_top1</th>\n",
       "    </tr>\n",
       "  </thead>\n",
       "  <tbody>\n",
       "    <tr>\n",
       "      <th>0</th>\n",
       "      <td>KR102380739 B1</td>\n",
       "      <td>KR102022000001315</td>\n",
       "      <td>B60L53/11 | B60L53/24 | B60L53/35 | H02M1/0064...</td>\n",
       "      <td>B60L53/11 | B60L53/24 | B60L53/35 | H02M1/0064...</td>\n",
       "      <td>3상4선식 필터를 적용한 전기자동차 급속충전장치</td>\n",
       "      <td>\\t\\t본 발명에서는, 3상4선식 필터를 적용한 전기자동차 급속충전장치에 있어서, ...</td>\n",
       "      <td>3상4선식 필터를 적용한 전기자동차 급속충전장치에 있어서,상기 전기자동차 급속충전장...</td>\n",
       "      <td>C30332</td>\n",
       "      <td>75</td>\n",
       "      <td>285</td>\n",
       "      <td>...</td>\n",
       "      <td>349</td>\n",
       "      <td>29161</td>\n",
       "      <td>30331</td>\n",
       "      <td>30332</td>\n",
       "      <td>338</td>\n",
       "      <td>285</td>\n",
       "      <td>349</td>\n",
       "      <td>29161</td>\n",
       "      <td>30331</td>\n",
       "      <td>30332</td>\n",
       "    </tr>\n",
       "    <tr>\n",
       "      <th>1</th>\n",
       "      <td>KR1020220010046 A</td>\n",
       "      <td>KR102022000002985</td>\n",
       "      <td>H04W56/0015 | H04J11/0073 | H04J11/0076 | H04J...</td>\n",
       "      <td>H04W56/0015 | H04W92/18 | H04J11/0073 | H04J11...</td>\n",
       "      <td>D2D 통신을 위한 동기화 신호 구성 방법 및 장치</td>\n",
       "      <td>\\t\\t본 발명은 D2D 통신을 위한 동기화 신호 구성 방법 및 장치에 관한 것이다...</td>\n",
       "      <td>제1 무선 사용자 장치(wireless user device)에 있어서,제2 무선 ...</td>\n",
       "      <td>C26422</td>\n",
       "      <td>225</td>\n",
       "      <td>447</td>\n",
       "      <td>...</td>\n",
       "      <td>284</td>\n",
       "      <td>26421</td>\n",
       "      <td>42321</td>\n",
       "      <td>26429</td>\n",
       "      <td>225</td>\n",
       "      <td>447</td>\n",
       "      <td>284</td>\n",
       "      <td>26421</td>\n",
       "      <td>42321</td>\n",
       "      <td>26429</td>\n",
       "    </tr>\n",
       "  </tbody>\n",
       "</table>\n",
       "<p>2 rows × 26 columns</p>\n",
       "</div>"
      ],
      "text/plain": [
       "                특허번호               출원번호  \\\n",
       "0     KR102380739 B1  KR102022000001315   \n",
       "1  KR1020220010046 A  KR102022000002985   \n",
       "\n",
       "                                        Original CPC  \\\n",
       "0  B60L53/11 | B60L53/24 | B60L53/35 | H02M1/0064...   \n",
       "1  H04W56/0015 | H04J11/0073 | H04J11/0076 | H04J...   \n",
       "\n",
       "                                         Current CPC  \\\n",
       "0  B60L53/11 | B60L53/24 | B60L53/35 | H02M1/0064...   \n",
       "1  H04W56/0015 | H04W92/18 | H04J11/0073 | H04J11...   \n",
       "\n",
       "                          발명의명칭  \\\n",
       "0    3상4선식 필터를 적용한 전기자동차 급속충전장치   \n",
       "1  D2D 통신을 위한 동기화 신호 구성 방법 및 장치   \n",
       "\n",
       "                                                  요약  \\\n",
       "0  \\t\\t본 발명에서는, 3상4선식 필터를 적용한 전기자동차 급속충전장치에 있어서, ...   \n",
       "1  \\t\\t본 발명은 D2D 통신을 위한 동기화 신호 구성 방법 및 장치에 관한 것이다...   \n",
       "\n",
       "                                               대표청구항  분류원 결과  tl_top3  \\\n",
       "0  3상4선식 필터를 적용한 전기자동차 급속충전장치에 있어서,상기 전기자동차 급속충전장...  C30332       75   \n",
       "1  제1 무선 사용자 장치(wireless user device)에 있어서,제2 무선 ...  C26422      225   \n",
       "\n",
       "   tl_top2  ...  ab_top1  ksic_ab_top3 ksic_ab_top2 ksic_ab_top1  tl_ab_top3  \\\n",
       "0      285  ...      349         29161        30331        30332         338   \n",
       "1      447  ...      284         26421        42321        26429         225   \n",
       "\n",
       "   tl_ab_top2  tl_ab_top1 ksic_tl_ab_top3 ksic_tl_ab_top2 ksic_tl_ab_top1  \n",
       "0         285         349           29161           30331           30332  \n",
       "1         447         284           26421           42321           26429  \n",
       "\n",
       "[2 rows x 26 columns]"
      ]
     },
     "execution_count": 165,
     "metadata": {},
     "output_type": "execute_result"
    }
   ],
   "source": [
    "test_result3_copy[:2]"
   ]
  },
  {
   "cell_type": "code",
   "execution_count": 166,
   "id": "6dd28ac7",
   "metadata": {},
   "outputs": [],
   "source": [
    "test_result3_copy.to_excel('.cache/20220331_ksic_tl_ab_testset_result.xlsx')"
   ]
  },
  {
   "cell_type": "code",
   "execution_count": null,
   "id": "b5b3488a",
   "metadata": {},
   "outputs": [],
   "source": []
  }
 ],
 "metadata": {
  "kernelspec": {
   "display_name": "KoBERT",
   "language": "python",
   "name": "kobert-master"
  },
  "language_info": {
   "codemirror_mode": {
    "name": "ipython",
    "version": 3
   },
   "file_extension": ".py",
   "mimetype": "text/x-python",
   "name": "python",
   "nbconvert_exporter": "python",
   "pygments_lexer": "ipython3",
   "version": "3.8.10"
  }
 },
 "nbformat": 4,
 "nbformat_minor": 5
}
